{
 "cells": [
  {
   "cell_type": "markdown",
   "metadata": {},
   "source": [
    "<h1> Predicting movie earnings (Coursera Capstone Project) </h1>\n",
    "October 2019"
   ]
  },
  {
   "cell_type": "markdown",
   "metadata": {},
   "source": [
    "<h3> 1. Data collection </h3>"
   ]
  },
  {
   "cell_type": "code",
   "execution_count": 1,
   "metadata": {},
   "outputs": [],
   "source": [
    "#import libraries\n",
    "import requests # library to handle requests to websites\n",
    "from bs4 import BeautifulSoup #library to get wikipedia content\n",
    "import numpy as np\n",
    "import pandas as pd\n",
    "import matplotlib.pyplot as plt"
   ]
  },
  {
   "cell_type": "markdown",
   "metadata": {},
   "source": [
    "<b> 1.1 Scrap the most successful movies per year from Box Office Mojo </b>"
   ]
  },
  {
   "cell_type": "code",
   "execution_count": null,
   "metadata": {},
   "outputs": [],
   "source": [
    "#a function which downloads the chart for each year\n",
    "def scrap_boxoffice_mojo(year):\n",
    "    #boxoffice mojo website to get the chart. parameter is year\n",
    "    website_url = 'https://www.boxofficemojo.com/yearly/chart/?yr={}&p=.htm'.format(year)\n",
    "    \n",
    "    #create requets object\n",
    "    result = requests.get(website_url).text\n",
    "    \n",
    "    #create Beautifulsoup object\n",
    "    soup = BeautifulSoup(result, 'lxml')\n",
    "    \n",
    "    #get the table which contains the chart\n",
    "    chart = soup.find('table', {'bgcolor':'#ffffff'})\n",
    "    \n",
    "    #split the chart in lines\n",
    "    table = chart.find_all('td')\n",
    "    \n",
    "    #intialize lists, where the chart will be coppied\n",
    "    rank = []\n",
    "    title = []\n",
    "    studio = []\n",
    "    total = []\n",
    "    total_theathres = []\n",
    "    opening = []\n",
    "    opening_theathres = []\n",
    "    open_list = []\n",
    "    close_list = []\n",
    "    \n",
    "    #extract the contents of the table 1-100 positions\n",
    "    for i in range(8,len(table)-24,9):\n",
    "        rank.append(table[i].get_text())\n",
    "        title.append(table[i+1].get_text())\n",
    "        studio.append(table[i+2].get_text())\n",
    "        total.append(table[i+3].get_text())\n",
    "        total_theathres.append(table[i+4].get_text())\n",
    "        opening.append(table[i+5].get_text())\n",
    "        opening_theathres.append(table[i+6].get_text())\n",
    "        open_list.append(table[i+7].get_text())\n",
    "        close_list.append(table[i+8].get_text())\n",
    "    \n",
    "    chart_df = pd.DataFrame(zip([year]*100, rank, title, studio, total, total_theathres, opening, opening_theathres, open_list, close_list), columns = ['Year', 'Rank', 'Title', 'Studio', 'Total', 'Total_theathres', 'Opening', 'Opening_theathres', 'Open', 'Close'])\n",
    "    \n",
    "    return chart_df"
   ]
  },
  {
   "cell_type": "code",
   "execution_count": null,
   "metadata": {},
   "outputs": [],
   "source": [
    "#scrap top charts per year\n",
    "total_chart = pd.DataFrame(columns = ['Year', 'Rank', 'Title', 'Studio', 'Total', 'Total_theathres', 'Opening', 'Opening_theathres', 'Open', 'Close'])\n",
    "for year in range(2010,2019): #get most profitable movies for years 2010-2019\n",
    "    chart_df = scrap_boxoffice_mojo(year)\n",
    "    total_chart = total_chart.append(chart_df, ignore_index=True)"
   ]
  },
  {
   "cell_type": "markdown",
   "metadata": {},
   "source": [
    "Initial data cleaning"
   ]
  },
  {
   "cell_type": "code",
   "execution_count": null,
   "metadata": {},
   "outputs": [],
   "source": [
    "#Clean the results\n",
    "#Split the title, if it contains release year\n",
    "new = total_chart['Title'].str.split('(', expand = True)\n",
    "total_chart['Title'] = new[0].str.strip()\n",
    "total_chart['Year_release'] = new[1].str.replace(')', '')\n",
    "\n",
    "#remove 3D from Year_release\n",
    "for index, row in total_chart.iterrows():\n",
    "    if row['Year_release'] != None:\n",
    "        if '3D' in row['Year_release']:\n",
    "            row['Year_release'] = 0\n",
    "        else:\n",
    "            pass\n",
    "    elif row['Year_release'] == None:\n",
    "        row['Year_release'] = row['Year']"
   ]
  },
  {
   "cell_type": "code",
   "execution_count": null,
   "metadata": {},
   "outputs": [],
   "source": [
    "#convert string to number\n",
    "total_chart['Year_release'] = pd.to_numeric(total_chart['Year_release'])"
   ]
  },
  {
   "cell_type": "markdown",
   "metadata": {},
   "source": [
    "The result is total_chart dataframe with film title and opening earnings"
   ]
  },
  {
   "cell_type": "markdown",
   "metadata": {},
   "source": [
    "<b> 1.2 Get movie details for each title from IMDB </b>"
   ]
  },
  {
   "cell_type": "code",
   "execution_count": null,
   "metadata": {},
   "outputs": [],
   "source": [
    "#import libraries\n",
    "import requests # library to handle requests\n",
    "from pandas.io.json import json_normalize # tranform JSON file into a pandas dataframe"
   ]
  },
  {
   "cell_type": "code",
   "execution_count": null,
   "metadata": {},
   "outputs": [],
   "source": [
    "#create a list where the movie information will be stored\n",
    "movie_info = []"
   ]
  },
  {
   "cell_type": "code",
   "execution_count": null,
   "metadata": {},
   "outputs": [],
   "source": [
    "#iterate through the movies and get movie details from IMDB\n",
    "for index, row in total_chart.iterrows():\n",
    "    #create url, use imdb api to get movies details\n",
    "    url = 'http://www.omdbapi.com/?t={}&apikey=450e01e4&y={}&plot=full'.format(row['Title'], row['Year_release'])\n",
    "    \n",
    "    #info from IMDB\n",
    "    try:\n",
    "        results = requests.get(url).json()\n",
    "    \n",
    "        #append to list\n",
    "        movie_info.append([(results['Title'],\n",
    "                            results['Year'],\n",
    "                            results['Actors'],\n",
    "                            results['Awards'],\n",
    "                            results['Country'],\n",
    "                            results['Director'],\n",
    "                            results['Genre'],\n",
    "                            results['Language'],\n",
    "                            results['Metascore'],\n",
    "                            results['Plot'],\n",
    "                            results['Production'],\n",
    "                            results['Rated'],\n",
    "                            results['Ratings'],\n",
    "                            results['Released'],\n",
    "                            results['Runtime'],\n",
    "                            results['Writer'],\n",
    "                            results['imdbID'],\n",
    "                            results['imdbRating'],\n",
    "                            results['imdbVotes'])])\n",
    "    except:\n",
    "        movie_info.append([('','','','','','','','','','','','','','','','','','','')])\n",
    "    \n",
    "    print(row['Title'])\n",
    "    "
   ]
  },
  {
   "cell_type": "code",
   "execution_count": null,
   "metadata": {},
   "outputs": [],
   "source": [
    "#create dataframe with the results\n",
    "movie_details = pd.DataFrame([item for movie_list in movie_info for item in movie_list])\n",
    "movie_details.columns = ['Title',\n",
    "                         'Year',\n",
    "                         'Actors',\n",
    "                         'Awards',\n",
    "                         'Country',\n",
    "                         'Director',\n",
    "                         'Genre',\n",
    "                         'Language',\n",
    "                         'Metascore',\n",
    "                         'Plot',\n",
    "                         'Production',\n",
    "                         'Rated',\n",
    "                         'Ratings',\n",
    "                         'Released',\n",
    "                         'Runtime',\n",
    "                         'Writer',\n",
    "                         'imdbID',\n",
    "                         'imdbRating',\n",
    "                         'imdbVotes']"
   ]
  },
  {
   "cell_type": "code",
   "execution_count": null,
   "metadata": {},
   "outputs": [],
   "source": [
    "movie_details.rename(columns={\"Title\": \"Title_imdb\", \"Year\": \"Year_imdb\"}, inplace=True)"
   ]
  },
  {
   "cell_type": "code",
   "execution_count": null,
   "metadata": {},
   "outputs": [],
   "source": [
    "movie_details.to_csv('02movies_details.csv')"
   ]
  },
  {
   "cell_type": "markdown",
   "metadata": {},
   "source": [
    "The result is movie_details dataframe."
   ]
  },
  {
   "cell_type": "markdown",
   "metadata": {},
   "source": [
    "Combine the information in one dataframe from total_chart + movie_details"
   ]
  },
  {
   "cell_type": "code",
   "execution_count": null,
   "metadata": {},
   "outputs": [],
   "source": [
    "total_chart_desc = pd.concat([total_chart, movie_details], axis=1, sort=False)"
   ]
  },
  {
   "cell_type": "markdown",
   "metadata": {},
   "source": [
    "45 movie titles did not match, therefore I manually correct the titles and do the combination again"
   ]
  },
  {
   "cell_type": "code",
   "execution_count": null,
   "metadata": {},
   "outputs": [],
   "source": [
    "#not all titles were found (45 missing), therefore I make search again with alternative titles\n",
    "movies_notconfirmed = total_chart_desc[total_chart_desc['Title_imdb'].isna()]\n",
    "movies_notconfirmed.drop(['Title_imdb', 'Year_imdb', 'Actors', 'Awards', 'Country', 'Director',\n",
    "       'Genre', 'Language', 'Metascore', 'Plot', 'Production', 'Rated',\n",
    "       'Ratings', 'Released', 'Runtime', 'Writer', 'imdbID', 'imdbRating',\n",
    "       'imdbVotes'], inplace=True, axis=1)\n",
    "movies_notconfirmed.reset_index(inplace=True)"
   ]
  },
  {
   "cell_type": "code",
   "execution_count": null,
   "metadata": {},
   "outputs": [],
   "source": [
    "alternative_titles = ['Jackass',\n",
    " \"Why Did I Get Married Too?\",\n",
    " 'Hubble',\n",
    " 'Step Up',\n",
    " 'Love & Other Drugs',\n",
    " 'Daybreakers',\n",
    " 'Gnomeo & Juliet',\n",
    " 'Lion King',\n",
    " 'Insidious',\n",
    " \"Madea's Big Happy Family\",\n",
    " 'All the Time in the World',\n",
    " \"The Avengers\",\n",
    " \"The Lorax\",\n",
    " \"Madea's Witness Protection\",\n",
    " 'Titanic',\n",
    " 'Beauty & the Beast',\n",
    " 'Star Wars',\n",
    " 'Finding Nemo',\n",
    " 'Monsters',\n",
    " 'Bad Grandpa',\n",
    " 'Witch Hunters',\n",
    " \"A Madea Christmas\",\n",
    " \"Confessions of a Marriage Counselor\",\n",
    " 'Pain & Gain',\n",
    " '21 & Over',\n",
    " 'Insurgent',\n",
    " 'Taken',\n",
    " 'Paddington',\n",
    " 'Angel of Death',\n",
    " 'Allegiant',\n",
    " 'The Secret Soldiers of Benghazi',\n",
    " 'Split',\n",
    " 'John Wick',\n",
    " 'Baywatch',\n",
    " \"A Madea Halloween\",\n",
    " 'xXx',\n",
    " 'Monster Trucks',\n",
    " 'Blood Wars',\n",
    " 'Victoria & Abdul',\n",
    " \"The Grinch\",\n",
    " \"Ocean's Eight\",\n",
    " \"Christopher Robin\",\n",
    " \"Acrimony\",\n",
    " 'Paddington',\n",
    " 'Holmes & Watson']"
   ]
  },
  {
   "cell_type": "code",
   "execution_count": null,
   "metadata": {},
   "outputs": [],
   "source": [
    "#add alternative titles column in the dataframe\n",
    "movies_notconfirmed['Alternative_title'] = alternative_titles"
   ]
  },
  {
   "cell_type": "code",
   "execution_count": null,
   "metadata": {},
   "outputs": [],
   "source": [
    "#iterate through the movies and get movie details from IMDB\n",
    "movie_info_notconfirmed = []"
   ]
  },
  {
   "cell_type": "code",
   "execution_count": null,
   "metadata": {},
   "outputs": [],
   "source": [
    "for index, row in movies_notconfirmed.iterrows():\n",
    "    #create url\n",
    "    url = 'http://www.omdbapi.com/?t={}&apikey=450e01e4&y={}&plot=full'.format(row['Alternative_title'], row['Year_release'])\n",
    "    \n",
    "    #info from IMDB\n",
    "    try:\n",
    "        results = requests.get(url).json()\n",
    "    \n",
    "        #append to list\n",
    "        movie_info_notconfirmed.append([(results['Title'],\n",
    "                            results['Year'],\n",
    "                            results['Actors'],\n",
    "                            results['Awards'],\n",
    "                            results['Country'],\n",
    "                            results['Director'],\n",
    "                            results['Genre'],\n",
    "                            results['Language'],\n",
    "                            results['Metascore'],\n",
    "                            results['Plot'],\n",
    "                            results['Production'],\n",
    "                            results['Rated'],\n",
    "                            results['Ratings'],\n",
    "                            results['Released'],\n",
    "                            results['Runtime'],\n",
    "                            results['Writer'],\n",
    "                            results['imdbID'],\n",
    "                            results['imdbRating'],\n",
    "                            results['imdbVotes'])])\n",
    "    except:\n",
    "        movie_info_notconfirmed.append([('','','','','','','','','','','','','','','','','','','')])\n",
    "    \n",
    "    print(row['Title'])"
   ]
  },
  {
   "cell_type": "code",
   "execution_count": null,
   "metadata": {},
   "outputs": [],
   "source": [
    "#create dataframe with the results\n",
    "movie_details2 = pd.DataFrame([item for movie_list in movie_info for item in movie_list])\n",
    "movie_details2.columns = ['Title',\n",
    "                         'Year',\n",
    "                         'Actors',\n",
    "                         'Awards',\n",
    "                         'Country',\n",
    "                         'Director',\n",
    "                         'Genre',\n",
    "                         'Language',\n",
    "                         'Metascore',\n",
    "                         'Plot',\n",
    "                         'Production',\n",
    "                         'Rated',\n",
    "                         'Ratings',\n",
    "                         'Released',\n",
    "                         'Runtime',\n",
    "                         'Writer',\n",
    "                         'imdbID',\n",
    "                         'imdbRating',\n",
    "                         'imdbVotes']"
   ]
  },
  {
   "cell_type": "code",
   "execution_count": null,
   "metadata": {},
   "outputs": [],
   "source": [
    "alternative_movies_details = pd.DataFrame()\n",
    "alternative_movies_details = pd.concat((movies_notconfirmed, movie_details2), axis=1, sort=False)"
   ]
  },
  {
   "cell_type": "markdown",
   "metadata": {},
   "source": [
    "The result is a dataframe with cofirmed alternative titles. Add the information in total dataframe."
   ]
  },
  {
   "cell_type": "code",
   "execution_count": null,
   "metadata": {},
   "outputs": [],
   "source": [
    "movies_confirmed = total_chart_desc[total_chart_desc['Title_imdb'].notna()]"
   ]
  },
  {
   "cell_type": "code",
   "execution_count": null,
   "metadata": {},
   "outputs": [],
   "source": [
    "#check\n",
    "alternative_movies_details.drop('index', axis=1, inplace=True)"
   ]
  },
  {
   "cell_type": "code",
   "execution_count": null,
   "metadata": {},
   "outputs": [],
   "source": [
    "#check\n",
    "alternative_movies_details.rename(columns={\"Title\": \"Title_imdb\", \"Year\": \"Year_imdb\"}, inplace=True)"
   ]
  },
  {
   "cell_type": "code",
   "execution_count": null,
   "metadata": {
    "scrolled": true
   },
   "outputs": [],
   "source": [
    "movies_confirmed = movies_confirmed.append(alternative_movies_details, sort=False, ignore_index=True)"
   ]
  },
  {
   "cell_type": "code",
   "execution_count": null,
   "metadata": {},
   "outputs": [],
   "source": [
    "movies_confirmed.shape"
   ]
  },
  {
   "cell_type": "code",
   "execution_count": null,
   "metadata": {},
   "outputs": [],
   "source": [
    "#Save result to a csv file\n",
    "movies_confirmed.to_csv('05movies_confirmed.csv')"
   ]
  },
  {
   "cell_type": "markdown",
   "metadata": {},
   "source": [
    "<b> 1.3 Get movie budget </b>"
   ]
  },
  {
   "cell_type": "code",
   "execution_count": null,
   "metadata": {},
   "outputs": [],
   "source": [
    "#Define url with the source website\n",
    "website_url = 'https://www.the-numbers.com/movie/budgets/all'\n",
    "#create requets object\n",
    "result = requests.get(website_url).text"
   ]
  },
  {
   "cell_type": "code",
   "execution_count": null,
   "metadata": {},
   "outputs": [],
   "source": [
    "#create Beautifulsoup object\n",
    "soup = BeautifulSoup(result, 'lxml')"
   ]
  },
  {
   "cell_type": "code",
   "execution_count": null,
   "metadata": {},
   "outputs": [],
   "source": [
    "#From the downloaded information extract the table\n",
    "table = soup.find_all('td')"
   ]
  },
  {
   "cell_type": "code",
   "execution_count": null,
   "metadata": {},
   "outputs": [],
   "source": [
    "#Create list where the info will be stored\n",
    "position = []\n",
    "year_release = []\n",
    "title_budget = []\n",
    "budget = []\n",
    "domestic_gross = []\n",
    "worldwide_gross = []"
   ]
  },
  {
   "cell_type": "code",
   "execution_count": null,
   "metadata": {},
   "outputs": [],
   "source": [
    "#create a list with pages to use for iteration\n",
    "url_ext = ['']\n",
    "for i in range(101,5802,100):\n",
    "    url_ext.append('/'+str(i))"
   ]
  },
  {
   "cell_type": "code",
   "execution_count": null,
   "metadata": {},
   "outputs": [],
   "source": [
    "#download the list of movies with budget\n",
    "for j in url_ext:\n",
    "    #Define url with the source website\n",
    "    website_url = 'https://www.the-numbers.com/movie/budgets/all{}'.format(j)\n",
    "    #create requets object\n",
    "    result = requests.get(website_url).text\n",
    "    #create Beautifulsoup object\n",
    "    soup = BeautifulSoup(result, 'lxml')\n",
    "    #From the downloaded information extract the table\n",
    "    table = soup.find_all('td')\n",
    "    \n",
    "    for i in range(0, len(table)-6,6):\n",
    "        position.append(table[i].get_text())\n",
    "        year_release.append(str(table[i+1].get_text()).split()[-1])\n",
    "        title_budget.append(table[i+2].get_text())\n",
    "        budget.append(str(table[i+3].get_text()).split('$')[1])\n",
    "        domestic_gross.append(str(table[i+4].get_text()).split('$')[1])\n",
    "        worldwide_gross.append(str(table[i+5].get_text()).split('$')[1])"
   ]
  },
  {
   "cell_type": "code",
   "execution_count": null,
   "metadata": {},
   "outputs": [],
   "source": [
    "#create dataframe with the result\n",
    "movie_budget = pd.DataFrame(zip(position, year_release, title_budget, budget, domestic_gross, worldwide_gross), columns=['Position','Year_release_budget','Title_budget','Budget','Domestic_gross','Worldwide_gross'])"
   ]
  },
  {
   "cell_type": "code",
   "execution_count": null,
   "metadata": {},
   "outputs": [],
   "source": [
    "#rename the Title column not to confuse with other columns\n",
    "movie_budget.rename(columns={'Title_budget':'Title'}, inplace=True)"
   ]
  },
  {
   "cell_type": "code",
   "execution_count": null,
   "metadata": {},
   "outputs": [],
   "source": [
    "movie_budget.head()"
   ]
  },
  {
   "cell_type": "code",
   "execution_count": null,
   "metadata": {},
   "outputs": [],
   "source": [
    "#combine the information with total_chart \n",
    "merge = total_chart.merge(movie_budget, on='Title', how='left')"
   ]
  },
  {
   "cell_type": "code",
   "execution_count": 729,
   "metadata": {},
   "outputs": [],
   "source": [
    "movies_confirmed_budget = pd.read_csv('12total_chart.csv')"
   ]
  },
  {
   "cell_type": "markdown",
   "metadata": {},
   "source": [
    "Movies_confirmed_budget is final result database"
   ]
  },
  {
   "cell_type": "markdown",
   "metadata": {},
   "source": [
    "<h3> 2. Data engineering </h3> "
   ]
  },
  {
   "cell_type": "markdown",
   "metadata": {},
   "source": [
    "<b> 2.1 Clean the data - remove unnecessary features</b>"
   ]
  },
  {
   "cell_type": "code",
   "execution_count": 730,
   "metadata": {},
   "outputs": [
    {
     "data": {
      "text/plain": [
       "Index(['Unnamed: 0', 'Year', 'Rank', 'Title', 'Alternative Title', 'Studio',\n",
       "       'Total', 'Total_theathres', 'Opening', 'Opening_theathres', 'Open',\n",
       "       'Close', 'Year_release', 'Title_imdb', 'Year_imdb', 'Actors', 'Awards',\n",
       "       'Country', 'Director', 'Genre', 'Language', 'Metascore', 'Plot',\n",
       "       'Production', 'Rated', 'Ratings', 'Released', 'Runtime', 'Writer',\n",
       "       'imdbID', 'imdbRating', 'imdbVotes', 'Position', 'Year_release_budget',\n",
       "       'Title_budget', 'Budget', 'Domestic_gross', 'Worldwide_gross'],\n",
       "      dtype='object')"
      ]
     },
     "execution_count": 730,
     "metadata": {},
     "output_type": "execute_result"
    }
   ],
   "source": [
    "movies_confirmed_budget.columns"
   ]
  },
  {
   "cell_type": "code",
   "execution_count": 731,
   "metadata": {},
   "outputs": [],
   "source": [
    "#columns to keep for analysis\n",
    "features_keep = ['Year', 'Rank', 'Year', 'Opening', 'Actors', 'Country', 'Director', 'Genre', 'Language', 'Plot',\n",
    "       'Production', 'Rated', 'Released', 'Runtime', 'Writer', 'Budget']"
   ]
  },
  {
   "cell_type": "code",
   "execution_count": 732,
   "metadata": {},
   "outputs": [],
   "source": [
    "#columns to remove from the analysis\n",
    "features_remove = ['Unnamed: 0', 'Title', 'Alternative Title', 'Studio', 'Total_theathres', 'Opening_theathres', 'Open', 'Close',\n",
    "                   'Year_release', 'Title_imdb', 'Year_imdb', 'Awards', 'Metascore', 'Ratings', 'imdbID', 'imdbRating',\n",
    "                   'imdbVotes', 'Position', 'Year_release_budget', 'Title_budget', 'Domestic_gross', 'Worldwide_gross']"
   ]
  },
  {
   "cell_type": "code",
   "execution_count": 733,
   "metadata": {},
   "outputs": [],
   "source": [
    "#create a new dataframe to manipulate the data\n",
    "movies_model = movies_confirmed_budget.copy()"
   ]
  },
  {
   "cell_type": "code",
   "execution_count": 734,
   "metadata": {},
   "outputs": [],
   "source": [
    "#remove the unnecessary features\n",
    "movies_model.drop(columns=features_remove, axis=1, inplace=True)"
   ]
  },
  {
   "cell_type": "code",
   "execution_count": 735,
   "metadata": {},
   "outputs": [
    {
     "data": {
      "text/plain": [
       "Index(['Year', 'Rank', 'Total', 'Opening', 'Actors', 'Country', 'Director',\n",
       "       'Genre', 'Language', 'Plot', 'Production', 'Rated', 'Released',\n",
       "       'Runtime', 'Writer', 'Budget'],\n",
       "      dtype='object')"
      ]
     },
     "execution_count": 735,
     "metadata": {},
     "output_type": "execute_result"
    }
   ],
   "source": [
    "movies_model.columns"
   ]
  },
  {
   "cell_type": "code",
   "execution_count": 736,
   "metadata": {},
   "outputs": [],
   "source": [
    "#remove rows with missing data\n",
    "movies_model.dropna(axis=0, how='any', inplace=True)\n",
    "movies_model.reset_index(inplace=True)"
   ]
  },
  {
   "cell_type": "markdown",
   "metadata": {},
   "source": [
    "<b> 2.2 Re-work each feature </b>"
   ]
  },
  {
   "cell_type": "code",
   "execution_count": 737,
   "metadata": {},
   "outputs": [
    {
     "name": "stdout",
     "output_type": "stream",
     "text": [
      "<class 'pandas.core.frame.DataFrame'>\n",
      "RangeIndex: 842 entries, 0 to 841\n",
      "Data columns (total 17 columns):\n",
      "index         842 non-null int64\n",
      "Year          842 non-null int64\n",
      "Rank          842 non-null int64\n",
      "Total         842 non-null object\n",
      "Opening       842 non-null object\n",
      "Actors        842 non-null object\n",
      "Country       842 non-null object\n",
      "Director      842 non-null object\n",
      "Genre         842 non-null object\n",
      "Language      842 non-null object\n",
      "Plot          842 non-null object\n",
      "Production    842 non-null object\n",
      "Rated         842 non-null object\n",
      "Released      842 non-null object\n",
      "Runtime       842 non-null object\n",
      "Writer        842 non-null object\n",
      "Budget        842 non-null object\n",
      "dtypes: int64(3), object(14)\n",
      "memory usage: 111.9+ KB\n"
     ]
    }
   ],
   "source": [
    "movies_model.info()"
   ]
  },
  {
   "cell_type": "markdown",
   "metadata": {},
   "source": [
    "2.2.1 Opening - target value"
   ]
  },
  {
   "cell_type": "code",
   "execution_count": 738,
   "metadata": {},
   "outputs": [],
   "source": [
    "#Change from strin gto number and remove $ sign\n",
    "movies_model['Opening'] = [str(item).replace(',','') for item in list(movies_model['Opening'])]\n",
    "movies_model['Opening'] = [int(str(item).replace('$','')) for item in list(movies_model['Opening'])]"
   ]
  },
  {
   "cell_type": "code",
   "execution_count": 739,
   "metadata": {},
   "outputs": [],
   "source": [
    "import seaborn as sns"
   ]
  },
  {
   "cell_type": "code",
   "execution_count": 740,
   "metadata": {
    "scrolled": true
   },
   "outputs": [
    {
     "data": {
      "image/png": "[encoded data removed]",
      "text/plain": [
       "<matplotlib.figure.Figure at 0x2390586c908>"
      ]
     },
     "metadata": {},
     "output_type": "display_data"
    }
   ],
   "source": [
    "sns.boxplot(x=movies_model['Opening'])\n",
    "plt.show()"
   ]
  },
  {
   "cell_type": "code",
   "execution_count": 741,
   "metadata": {},
   "outputs": [
    {
     "name": "stdout",
     "output_type": "stream",
     "text": [
      "Average opening earning is 30795712 USD\n",
      "with standard deviation of 33313172 USD\n"
     ]
    }
   ],
   "source": [
    "print('Average opening earning is {0:8.0f} USD'.format(movies_model['Opening'].mean()))\n",
    "print('with standard deviation of {0:8.0f} USD'.format(movies_model['Opening'].std()))"
   ]
  },
  {
   "cell_type": "code",
   "execution_count": 742,
   "metadata": {},
   "outputs": [
    {
     "data": {
      "text/plain": [
       "Text(0.5,1,'Opening destribution with outliers')"
      ]
     },
     "execution_count": 742,
     "metadata": {},
     "output_type": "execute_result"
    },
    {
     "data": {
      "image/png": "[encoded data removed]",
      "text/plain": [
       "<matplotlib.figure.Figure at 0x2390586ce48>"
      ]
     },
     "metadata": {},
     "output_type": "display_data"
    }
   ],
   "source": [
    "plt.hist(movies_model['Opening'], bins=20)\n",
    "plt.title('Opening destribution with outliers')"
   ]
  },
  {
   "cell_type": "code",
   "execution_count": 743,
   "metadata": {},
   "outputs": [
    {
     "name": "stdout",
     "output_type": "stream",
     "text": [
      "The earning range in min 31610 to max 257698183 USD\n",
      "85 % of movies earn less than 50mln USD$ in Opening period\n"
     ]
    }
   ],
   "source": [
    "print(\"The earning range in min {} to max {} USD\".format(min(movies_model['Opening']), max(movies_model['Opening'])))\n",
    "print(\"{0:2.0f} % of movies earn less than 50mln USD$ in Opening period\".format((531+184)/842*100))"
   ]
  },
  {
   "cell_type": "markdown",
   "metadata": {},
   "source": [
    "Eliminate outliers using standard deviation (99.7% of result fall in 3 standard deviation values from the mean)"
   ]
  },
  {
   "cell_type": "code",
   "execution_count": 744,
   "metadata": {},
   "outputs": [],
   "source": [
    "limit = min(movies_model['Opening'])+3*movies_model['Opening'].std()"
   ]
  },
  {
   "cell_type": "code",
   "execution_count": 745,
   "metadata": {},
   "outputs": [],
   "source": [
    "movies_model_original = movies_model.copy()"
   ]
  },
  {
   "cell_type": "code",
   "execution_count": 746,
   "metadata": {},
   "outputs": [],
   "source": [
    "movies_model = movies_model[movies_model['Opening'] < limit]\n",
    "movies_model.reset_index(inplace=True)"
   ]
  },
  {
   "cell_type": "code",
   "execution_count": 747,
   "metadata": {},
   "outputs": [
    {
     "data": {
      "text/plain": [
       "Text(0.5,1,'Opening destribution without outliers')"
      ]
     },
     "execution_count": 747,
     "metadata": {},
     "output_type": "execute_result"
    },
    {
     "data": {
      "image/png": "[encoded data removed]",
      "text/plain": [
       "<matplotlib.figure.Figure at 0x23905c95240>"
      ]
     },
     "metadata": {},
     "output_type": "display_data"
    }
   ],
   "source": [
    "#Distribution after removing outliers\n",
    "plt.hist(movies_model['Opening'], bins=20)\n",
    "plt.title('Opening destribution without outliers')"
   ]
  },
  {
   "cell_type": "markdown",
   "metadata": {},
   "source": [
    "2.2.2 Year"
   ]
  },
  {
   "cell_type": "code",
   "execution_count": 748,
   "metadata": {},
   "outputs": [
    {
     "data": {
      "text/plain": [
       "Year\n",
       "2010    93\n",
       "2011    93\n",
       "2012    86\n",
       "2013    92\n",
       "2014    94\n",
       "2015    85\n",
       "2016    89\n",
       "2017    86\n",
       "2018    84\n",
       "Name: Opening, dtype: int64"
      ]
     },
     "execution_count": 748,
     "metadata": {},
     "output_type": "execute_result"
    }
   ],
   "source": [
    "movies_model.groupby('Year').count().Opening"
   ]
  },
  {
   "cell_type": "markdown",
   "metadata": {},
   "source": [
    "The amount of titles for each year is evently spread data - keep as is"
   ]
  },
  {
   "cell_type": "code",
   "execution_count": 749,
   "metadata": {},
   "outputs": [
    {
     "data": {
      "text/plain": [
       "Text(0.5,1,'Average movie earnings per year')"
      ]
     },
     "execution_count": 749,
     "metadata": {},
     "output_type": "execute_result"
    },
    {
     "data": {
      "image/png": "[encoded data removed]",
      "text/plain": [
       "<matplotlib.figure.Figure at 0x23905955668>"
      ]
     },
     "metadata": {},
     "output_type": "display_data"
    }
   ],
   "source": [
    "plt.bar(movies_model.groupby('Year').mean().Opening.index, movies_model.groupby('Year').mean().Opening.values)\n",
    "plt.xlabel('Average earning $')\n",
    "plt.ylabel('Year')\n",
    "plt.title('Average movie earnings per year')"
   ]
  },
  {
   "cell_type": "markdown",
   "metadata": {},
   "source": [
    "Remove 'Year'. The expectation was in increases with years, but this assumptino is not confirmed."
   ]
  },
  {
   "cell_type": "markdown",
   "metadata": {},
   "source": [
    "2.2.3 Released - Keep only month"
   ]
  },
  {
   "cell_type": "code",
   "execution_count": 750,
   "metadata": {},
   "outputs": [],
   "source": [
    "#Convert month to number\n",
    "movies_model['Released'] = [item[3:6] for item in list(movies_model['Released'])]"
   ]
  },
  {
   "cell_type": "code",
   "execution_count": 751,
   "metadata": {},
   "outputs": [],
   "source": [
    "months_dict = {'Apr':4, 'Aug':8, 'Dec':12, 'Feb':2, 'Jan':1, 'Jul':7, 'Jun':6, 'Mar':3, 'May':5, 'Nov':11, 'Oct':10, 'Sep':9}\n",
    "movies_model['Released'] = movies_model['Released'].replace(months_dict)"
   ]
  },
  {
   "cell_type": "code",
   "execution_count": 752,
   "metadata": {},
   "outputs": [],
   "source": [
    "import seaborn as sns"
   ]
  },
  {
   "cell_type": "code",
   "execution_count": 753,
   "metadata": {},
   "outputs": [
    {
     "data": {
      "image/png": "[encoded data removed]",
      "text/plain": [
       "<matplotlib.figure.Figure at 0x2390594f2b0>"
      ]
     },
     "metadata": {},
     "output_type": "display_data"
    }
   ],
   "source": [
    "sns.boxplot(x='Released', y='Opening', data=movies_model)\n",
    "plt.title('Average Opening earning based on month of the premiere')\n",
    "plt.show()"
   ]
  },
  {
   "cell_type": "markdown",
   "metadata": {},
   "source": [
    "There is a little variation in earnings depending on the month the movie was released. Months May-Jul report higher profits."
   ]
  },
  {
   "cell_type": "markdown",
   "metadata": {},
   "source": [
    "2.2.4 Runtime - convert to number"
   ]
  },
  {
   "cell_type": "code",
   "execution_count": 754,
   "metadata": {},
   "outputs": [],
   "source": [
    "#Remove min and convert to integer\n",
    "movies_model['Runtime'] = [int(str(item).replace(' min','')) for item in list(movies_model['Runtime'])]"
   ]
  },
  {
   "cell_type": "code",
   "execution_count": 755,
   "metadata": {},
   "outputs": [
    {
     "data": {
      "image/png": "[encoded data removed]",
      "text/plain": [
       "<matplotlib.figure.Figure at 0x23906af1d30>"
      ]
     },
     "metadata": {},
     "output_type": "display_data"
    }
   ],
   "source": [
    "sns.regplot(x='Runtime', y='Opening', data=movies_model, x_jitter=.05)\n",
    "plt.title('Movie runtime vs Opening earnigs')\n",
    "plt.show()"
   ]
  },
  {
   "cell_type": "markdown",
   "metadata": {},
   "source": [
    "There is no linear relation between the movie length and earning."
   ]
  },
  {
   "cell_type": "markdown",
   "metadata": {},
   "source": [
    "2.2.5 Budget"
   ]
  },
  {
   "cell_type": "code",
   "execution_count": 756,
   "metadata": {},
   "outputs": [],
   "source": [
    "#Replace coma and convert to integer\n",
    "movies_model['Budget'] = [int(str(item).replace(',','')) for item in list(movies_model['Budget'])]"
   ]
  },
  {
   "cell_type": "code",
   "execution_count": 757,
   "metadata": {},
   "outputs": [
    {
     "data": {
      "image/png": "[encoded data removed]",
      "text/plain": [
       "<matplotlib.figure.Figure at 0x239026d3668>"
      ]
     },
     "metadata": {},
     "output_type": "display_data"
    }
   ],
   "source": [
    "sns.regplot(x='Budget', y='Opening', data=movies_model, x_jitter=.05)\n",
    "plt.show()"
   ]
  },
  {
   "cell_type": "markdown",
   "metadata": {},
   "source": [
    "2.2.6 Categorical variables: Actors, Country, Director, Genre, Language, Rated, Writer"
   ]
  },
  {
   "cell_type": "markdown",
   "metadata": {},
   "source": [
    "Clean the contents"
   ]
  },
  {
   "cell_type": "code",
   "execution_count": 758,
   "metadata": {},
   "outputs": [],
   "source": [
    "def feature_fix(text):\n",
    "    list_all = [item.split('(')[0].strip() for item in text.split(',')]\n",
    "    result = ', '.join(list_all)\n",
    "    return result"
   ]
  },
  {
   "cell_type": "code",
   "execution_count": 759,
   "metadata": {},
   "outputs": [],
   "source": [
    "movies_model['Director'] = movies_model.apply(lambda x: feature_fix(x['Director']), axis=1)\n",
    "movies_model['Language'] = movies_model.apply(lambda x: feature_fix(x['Language']), axis=1)\n",
    "movies_model['Writer'] = movies_model.apply(lambda x: feature_fix(x['Writer']), axis=1)"
   ]
  },
  {
   "cell_type": "code",
   "execution_count": 760,
   "metadata": {},
   "outputs": [],
   "source": [
    "#The film studio names are not consistent, therefore need modification\n",
    "production_translate = {'A24 Films':'A24',\n",
    "                        'FilmDistrict':'Film District',\n",
    "                        'Fox Searchlight Pictures':'Fox Searchlight',\n",
    "                        'Liongate Films':'Lionsgate Films',\n",
    "                        'LionsGate Entertainment':'Lionsgate Films',\n",
    "                        'Lionsgate':'Lionsgate Films',\n",
    "                        'Lionsgate Pictures':'Lionsgate Films',\n",
    "                        'Lionsgate and CBS Films':'Lionsgate Films',\n",
    "                        'Lionsgate and Roadside Attractions':'Lionsgate Films',\n",
    "                        'Paramount':'Paramount Pictures',\n",
    "                        'STXfilms':'STX Films',\n",
    "                        'Summit Entertainment.':'Summit Entertainment',\n",
    "                        'Warner Bros Pictures':'Warner Bros.',\n",
    "                        'Warner Bros. Pictures':'Warner Bros.',\n",
    "                        'PIXAR':'Pixar',\n",
    "                        'Walt Disney Animation Studios':'Disney',\n",
    "                        'Walt Disney Pictures':'Disney',\n",
    "                        'Walt Disney Studios':'Disney',                        \n",
    "                        'Paramount Studios':'Paramount Pictures',\n",
    "                        'Universal Pictures':'Universal',\n",
    "                        'Universal Classics':'Universal',\n",
    "                        'Universal Studios':'Universal',\n",
    "                        'DreamWorks Animation':'Dreamworks',\n",
    "                        'DreamWorks Studios':'Dreamworks',\n",
    "                        'DreamWorks Pictures':'Dreamworks',\n",
    "                        'Dreamworks Pictures':'Dreamworks',\n",
    "                        'DWA':'Dreamworks',\n",
    "                        'FilmDistrict':'Film District',\n",
    "                        'TriStar Pictures':'Tristar',\n",
    "                        'TriStar':'Tristar',\n",
    "                        'The Weinstein Company':'The Weinstein Co.', \n",
    "                        'Sony Films':'Sony',\n",
    "                        'Sony Pictures':'Sony',\n",
    "                        'Sony Pictures Animation':'Sony',\n",
    "                        'Sony Pictures Classics':'Sony',\n",
    "                        'Sony Pictures Columbia':'Sony',\n",
    "                        'Sony Pictures Releasing':'Sony',\n",
    "                        'Sony Screen Gems':'Sony',\n",
    "                        'Fox Searchlight Pictures, Film4 and Waypoint':'Fox Searchlight'}"
   ]
  },
  {
   "cell_type": "code",
   "execution_count": 761,
   "metadata": {},
   "outputs": [],
   "source": [
    "#Create a function that translates production in list and corrects studios names\n",
    "def production_fix(production):\n",
    "    production_split = production.split('/')\n",
    "    production_cleaned = []\n",
    "    for i in production_split:\n",
    "        if i in production_translate.keys():\n",
    "            production_cleaned.append(production_translate.get(i))\n",
    "        else:\n",
    "            production_cleaned.append(i)\n",
    "    final = ', '.join(production_cleaned)\n",
    "    return final"
   ]
  },
  {
   "cell_type": "code",
   "execution_count": 762,
   "metadata": {},
   "outputs": [],
   "source": [
    "#Apply the function\n",
    "movies_model['Production'] = movies_model.apply(lambda x: production_fix(x['Production']), axis=1)"
   ]
  },
  {
   "cell_type": "markdown",
   "metadata": {},
   "source": [
    "Create a function to one hot encode the categorical variables. The reason I create my own function is: the columns contain list of names, therefore I first split the names and only after do the encoding."
   ]
  },
  {
   "cell_type": "code",
   "execution_count": 592,
   "metadata": {},
   "outputs": [],
   "source": [
    "def onehot_function(column):\n",
    "    #List all possible entries in a columnn\n",
    "    list_all = list(movies_model[column].unique())\n",
    "    \n",
    "    #Split the entries in case there are multiple items\n",
    "    list_all_split = []\n",
    "    for group in list_all:\n",
    "        try:\n",
    "            [list_all_split.append(item) for item in group.split(', ')]\n",
    "        except:\n",
    "            list_all_split.append(group) #in case it is a single item already\n",
    "            \n",
    "    #\n",
    "    list_all_split = set(list_all_split)\n",
    "    list_all_split_cleaned = [item for item in list_all_split if type(item) == str]\n",
    "    \n",
    "    #Create dataframe where the data will be stored\n",
    "    column_np = np.zeros(shape=(movies_model.shape[0],len(list_all_split_cleaned)))\n",
    "    column_df = pd.DataFrame(columns=list_all_split_cleaned)\n",
    "    column_df = pd.DataFrame(column_np, columns=list_all_split_cleaned)\n",
    "    \n",
    "    #Iterate through dataframe\n",
    "    for index, row in movies_model.iterrows():\n",
    "        for item in list_all_split_cleaned:\n",
    "            if item in row[column]:\n",
    "                column_df.at[index, item] = 1\n",
    "            else:\n",
    "                column_df.at[index, item] = 0\n",
    "                \n",
    "    return column_df"
   ]
  },
  {
   "cell_type": "code",
   "execution_count": 57,
   "metadata": {},
   "outputs": [],
   "source": [
    "#encode categorical feature\n",
    "actors_df = onehot_function('Actors')\n",
    "country_df = onehot_function('Country')\n",
    "director_df = onehot_function('Director')\n",
    "genre_df = onehot_function('Genre')\n",
    "language_df = onehot_function('Language')\n",
    "writer_df = onehot_function('Writer')\n",
    "rated_df = onehot_function('Rated')\n",
    "production_df = onehot_function('Production')\n",
    "released_df = onehot_function('Released')"
   ]
  },
  {
   "cell_type": "code",
   "execution_count": 593,
   "metadata": {},
   "outputs": [],
   "source": [
    "genre_df = onehot_function('Genre')\n",
    "rated_df = onehot_function('Rated')\n",
    "released_df = onehot_function('Released')"
   ]
  },
  {
   "cell_type": "code",
   "execution_count": 58,
   "metadata": {},
   "outputs": [],
   "source": [
    "#add to movies_model dataframe\n",
    "movies_model[actors_df.columns] = actors_df\n",
    "movies_model[country_df.columns] = country_df\n",
    "movies_model[director_df.columns] = director_df\n",
    "movies_model[genre_df.columns] = genre_df\n",
    "movies_model[language_df.columns] = language_df\n",
    "movies_model[rated_df.columns] = rated_df\n",
    "movies_model[writer_df.columns] = writer_df\n",
    "movies_model[production_df.columns] = production_df\n",
    "movies_model[released_df.columns] = released_df"
   ]
  },
  {
   "cell_type": "code",
   "execution_count": 705,
   "metadata": {},
   "outputs": [],
   "source": [
    "movies_model[genre_df.columns] = genre_df\n",
    "movies_model[rated_df.columns] = rated_df\n",
    "movies_model[released_df.columns] = released_df"
   ]
  },
  {
   "cell_type": "markdown",
   "metadata": {},
   "source": [
    "2.2.7 Plot"
   ]
  },
  {
   "cell_type": "markdown",
   "metadata": {},
   "source": [
    "Plot is a short story that summarizes the script of the film. The problem is how to use it in machine learning."
   ]
  },
  {
   "cell_type": "code",
   "execution_count": 63,
   "metadata": {},
   "outputs": [],
   "source": [
    "import nltk\n",
    "from nltk.tokenize import word_tokenize\n",
    "from nltk.corpus import stopwords\n",
    "from nltk.probability import FreqDist"
   ]
  },
  {
   "cell_type": "code",
   "execution_count": 64,
   "metadata": {},
   "outputs": [],
   "source": [
    "#Get the list of word from each Plot. Remove stopwords and punctuation\n",
    "#The result is stored in plot_strip column\n",
    "def strip_plot(text):\n",
    "    word_list = word_tokenize(text)\n",
    "    word_list_strip = [word.lower() for word in word_list if word.lower() not in stopwords.words() and word.isalpha()]\n",
    "    return word_list_strip"
   ]
  },
  {
   "cell_type": "code",
   "execution_count": 65,
   "metadata": {},
   "outputs": [],
   "source": [
    "movies_model['Plot_strip'] = movies_model.apply(lambda x: strip_plot(x['Plot']), axis=1)"
   ]
  },
  {
   "cell_type": "code",
   "execution_count": 67,
   "metadata": {},
   "outputs": [],
   "source": [
    "#Make a list of all words\n",
    "all_words = list(movies_model['Plot_strip'])"
   ]
  },
  {
   "cell_type": "code",
   "execution_count": 68,
   "metadata": {},
   "outputs": [],
   "source": [
    "#Define a function that removes nested list\n",
    "#Result is a list of words from each plot\n",
    "output = []\n",
    "def remove_nested_list(l): \n",
    "    for i in l: \n",
    "        if type(i) == list: \n",
    "            remove_nested_list(i) \n",
    "        else: \n",
    "            output.append(i) \n",
    "    return output"
   ]
  },
  {
   "cell_type": "code",
   "execution_count": 69,
   "metadata": {},
   "outputs": [],
   "source": [
    "#Apply nested function\n",
    "all_words_list = remove_nested_list(all_words)"
   ]
  },
  {
   "cell_type": "code",
   "execution_count": 71,
   "metadata": {},
   "outputs": [
    {
     "name": "stdout",
     "output_type": "stream",
     "text": [
      "The result is a list of  38229  words.\n",
      "The number of unique words is  9814\n"
     ]
    }
   ],
   "source": [
    "print('The result is a list of ', len(all_words_list), ' words.')\n",
    "print('The number of unique words is ', len(set(all_words_list)))"
   ]
  },
  {
   "cell_type": "code",
   "execution_count": null,
   "metadata": {},
   "outputs": [],
   "source": [
    "#most_common_words = [word[0] for word in FreqDist(all_all_words_onelist).most_common(100)]"
   ]
  },
  {
   "cell_type": "code",
   "execution_count": 72,
   "metadata": {},
   "outputs": [],
   "source": [
    "#Create a database to count word frequency\n",
    "words_count = pd.DataFrame(np.zeros(shape=(len(set(all_words_list)),2)), columns=['word','freq'])\n",
    "words_count['word'] = list(set(all_words_list))"
   ]
  },
  {
   "cell_type": "code",
   "execution_count": 73,
   "metadata": {},
   "outputs": [],
   "source": [
    "#Iterate through the Plots and count words\n",
    "for indexplot, rowplot in movies_model.iterrows():\n",
    "    for indexword, rowword in words_count.iterrows():\n",
    "        if rowword['word'] in rowplot['Plot_strip']:\n",
    "            words_count.at[indexword, 'freq'] += 1"
   ]
  },
  {
   "cell_type": "code",
   "execution_count": 74,
   "metadata": {},
   "outputs": [
    {
     "name": "stdout",
     "output_type": "stream",
     "text": [
      "The most common words are:\n"
     ]
    },
    {
     "data": {
      "text/html": [
       "<div>\n",
       "<style scoped>\n",
       "    .dataframe tbody tr th:only-of-type {\n",
       "        vertical-align: middle;\n",
       "    }\n",
       "\n",
       "    .dataframe tbody tr th {\n",
       "        vertical-align: top;\n",
       "    }\n",
       "\n",
       "    .dataframe thead th {\n",
       "        text-align: right;\n",
       "    }\n",
       "</style>\n",
       "<table border=\"1\" class=\"dataframe\">\n",
       "  <thead>\n",
       "    <tr style=\"text-align: right;\">\n",
       "      <th></th>\n",
       "      <th>word</th>\n",
       "      <th>freq</th>\n",
       "    </tr>\n",
       "  </thead>\n",
       "  <tbody>\n",
       "    <tr>\n",
       "      <th>8259</th>\n",
       "      <td>world</td>\n",
       "      <td>157.0</td>\n",
       "    </tr>\n",
       "    <tr>\n",
       "      <th>1370</th>\n",
       "      <td>one</td>\n",
       "      <td>156.0</td>\n",
       "    </tr>\n",
       "    <tr>\n",
       "      <th>9184</th>\n",
       "      <td>life</td>\n",
       "      <td>154.0</td>\n",
       "    </tr>\n",
       "    <tr>\n",
       "      <th>3637</th>\n",
       "      <td>new</td>\n",
       "      <td>149.0</td>\n",
       "    </tr>\n",
       "    <tr>\n",
       "      <th>4519</th>\n",
       "      <td>find</td>\n",
       "      <td>139.0</td>\n",
       "    </tr>\n",
       "    <tr>\n",
       "      <th>3106</th>\n",
       "      <td>must</td>\n",
       "      <td>131.0</td>\n",
       "    </tr>\n",
       "    <tr>\n",
       "      <th>1159</th>\n",
       "      <td>family</td>\n",
       "      <td>108.0</td>\n",
       "    </tr>\n",
       "    <tr>\n",
       "      <th>5744</th>\n",
       "      <td>get</td>\n",
       "      <td>104.0</td>\n",
       "    </tr>\n",
       "    <tr>\n",
       "      <th>7038</th>\n",
       "      <td>years</td>\n",
       "      <td>102.0</td>\n",
       "    </tr>\n",
       "    <tr>\n",
       "      <th>5925</th>\n",
       "      <td>help</td>\n",
       "      <td>100.0</td>\n",
       "    </tr>\n",
       "  </tbody>\n",
       "</table>\n",
       "</div>"
      ],
      "text/plain": [
       "        word   freq\n",
       "8259   world  157.0\n",
       "1370     one  156.0\n",
       "9184    life  154.0\n",
       "3637     new  149.0\n",
       "4519    find  139.0\n",
       "3106    must  131.0\n",
       "1159  family  108.0\n",
       "5744     get  104.0\n",
       "7038   years  102.0\n",
       "5925    help  100.0"
      ]
     },
     "execution_count": 74,
     "metadata": {},
     "output_type": "execute_result"
    }
   ],
   "source": [
    "print('The most common words are:')\n",
    "words_count.sort_values('freq', ascending=False).head(10)"
   ]
  },
  {
   "cell_type": "markdown",
   "metadata": {},
   "source": [
    "Select words which appear in Plot at least 15 times. Create a data frame with their presence for each title"
   ]
  },
  {
   "cell_type": "code",
   "execution_count": 81,
   "metadata": {},
   "outputs": [],
   "source": [
    "#Create a list of words which frequency is >=15\n",
    "most_common_words = words_count['word'][words_count['freq']>2]"
   ]
  },
  {
   "cell_type": "code",
   "execution_count": 82,
   "metadata": {},
   "outputs": [
    {
     "data": {
      "text/plain": [
       "2733"
      ]
     },
     "execution_count": 82,
     "metadata": {},
     "output_type": "execute_result"
    }
   ],
   "source": [
    "len(most_common_words)"
   ]
  },
  {
   "cell_type": "code",
   "execution_count": 83,
   "metadata": {},
   "outputs": [],
   "source": [
    "#One hot encoding. Create a blank dataframe\n",
    "most_common_words_df = pd.DataFrame(np.zeros(shape=(len(movies_model['Plot']), len(most_common_words))), columns=most_common_words)"
   ]
  },
  {
   "cell_type": "code",
   "execution_count": 84,
   "metadata": {},
   "outputs": [],
   "source": [
    "#Iterate through Plots and assigned 1, if the Plot contains most common word\n",
    "for indexplot, wordplot in movies_model.iterrows():\n",
    "    for wordword in most_common_words:\n",
    "        if wordword in wordplot['Plot_strip']:\n",
    "            most_common_words_df.at[indexplot, wordword] = 1"
   ]
  },
  {
   "cell_type": "code",
   "execution_count": 596,
   "metadata": {},
   "outputs": [],
   "source": [
    "movies_model[most_common_words_df.columns] = most_common_words_df"
   ]
  },
  {
   "cell_type": "code",
   "execution_count": 87,
   "metadata": {},
   "outputs": [
    {
     "data": {
      "text/plain": [
       "Index(['level_0', 'index', 'Year', 'Rank', 'Total', 'Opening', 'Actors',\n",
       "       'Country', 'Director', 'Genre', 'Language', 'Plot', 'Production',\n",
       "       'Rated', 'Released', 'Runtime', 'Writer', 'Budget', 'Kevin Guthrie',\n",
       "       'Shailene Woodley', 'Riley Thomas Stewart', 'Alex Kendrick',\n",
       "       'Henry Cavill', 'Devon Bostick', 'Patrick St. Esprit', 'Sophie Stuckey',\n",
       "       'Aidy Bryant', 'Omar Sy', 'Zachary Bailess', 'Stephanie Beatriz'],\n",
       "      dtype='object')"
      ]
     },
     "execution_count": 87,
     "metadata": {},
     "output_type": "execute_result"
    }
   ],
   "source": [
    "movies_model.columns[0:30]"
   ]
  },
  {
   "cell_type": "markdown",
   "metadata": {},
   "source": [
    "<b> 2.3 Prepare input table for machine learning </b>"
   ]
  },
  {
   "cell_type": "markdown",
   "metadata": {},
   "source": [
    "Remove columns which were one hot encoded"
   ]
  },
  {
   "cell_type": "code",
   "execution_count": 708,
   "metadata": {},
   "outputs": [],
   "source": [
    "#Define columns to be removed\n",
    "columns_to_remove = ['level_0', 'index', 'Year', 'Rank', 'Total', 'Actors', 'Country', 'Director', 'Genre',  'Language', 'Plot', 'Production', 'Rated', 'Writer', 'Released']columns_to_remove = ['level_0', 'index', 'Year', 'Rank', 'Total', 'Actors', 'Country', 'Director', 'Genre',  'Language', 'Plot', 'Plot_strip', 'Production', 'Rated', 'Writer', 'Released']"
   ]
  },
  {
   "cell_type": "code",
   "execution_count": 709,
   "metadata": {},
   "outputs": [],
   "source": [
    "#Remove columns\n",
    "movies_model.drop(columns_to_remove, axis=1, inplace=True)"
   ]
  },
  {
   "cell_type": "code",
   "execution_count": 92,
   "metadata": {},
   "outputs": [],
   "source": [
    "#Save to csv\n",
    "movies_model.to_csv('model_input.csv')"
   ]
  },
  {
   "cell_type": "markdown",
   "metadata": {},
   "source": [
    "<h3> 3. Modelling </h3>"
   ]
  },
  {
   "cell_type": "markdown",
   "metadata": {},
   "source": [
    "<b> 3.1 Create train and test data </b>"
   ]
  },
  {
   "cell_type": "markdown",
   "metadata": {},
   "source": [
    "Split data"
   ]
  },
  {
   "cell_type": "code",
   "execution_count": 95,
   "metadata": {},
   "outputs": [],
   "source": [
    "from sklearn.model_selection import train_test_split"
   ]
  },
  {
   "cell_type": "code",
   "execution_count": 710,
   "metadata": {},
   "outputs": [],
   "source": [
    "target = movies_model['Opening']"
   ]
  },
  {
   "cell_type": "code",
   "execution_count": 711,
   "metadata": {},
   "outputs": [],
   "source": [
    "movies_model.drop('Opening', axis=1, inplace=True)"
   ]
  },
  {
   "cell_type": "code",
   "execution_count": 712,
   "metadata": {},
   "outputs": [],
   "source": [
    "X_train, X_test, y_train, y_test = train_test_split(movies_model, target, random_state=0, train_size=0.9)"
   ]
  },
  {
   "cell_type": "markdown",
   "metadata": {},
   "source": [
    "Scale data"
   ]
  },
  {
   "cell_type": "code",
   "execution_count": 100,
   "metadata": {},
   "outputs": [],
   "source": [
    "from sklearn.preprocessing import MinMaxScaler"
   ]
  },
  {
   "cell_type": "code",
   "execution_count": 713,
   "metadata": {},
   "outputs": [
    {
     "name": "stderr",
     "output_type": "stream",
     "text": [
      "C:\\Users\\tomas\\Anaconda3\\lib\\site-packages\\ipykernel_launcher.py:3: SettingWithCopyWarning: \n",
      "A value is trying to be set on a copy of a slice from a DataFrame.\n",
      "Try using .loc[row_indexer,col_indexer] = value instead\n",
      "\n",
      "See the caveats in the documentation: http://pandas.pydata.org/pandas-docs/stable/indexing.html#indexing-view-versus-copy\n",
      "  This is separate from the ipykernel package so we can avoid doing imports until\n",
      "C:\\Users\\tomas\\Anaconda3\\lib\\site-packages\\pandas\\core\\indexing.py:543: SettingWithCopyWarning: \n",
      "A value is trying to be set on a copy of a slice from a DataFrame.\n",
      "Try using .loc[row_indexer,col_indexer] = value instead\n",
      "\n",
      "See the caveats in the documentation: http://pandas.pydata.org/pandas-docs/stable/indexing.html#indexing-view-versus-copy\n",
      "  self.obj[item] = s\n"
     ]
    }
   ],
   "source": [
    "scaler = MinMaxScaler()\n",
    "scaler.fit(X_train[['Runtime', 'Budget']])\n",
    "X_train[['Runtime', 'Budget']] = scaler.transform(X_train[['Runtime', 'Budget']])"
   ]
  },
  {
   "cell_type": "code",
   "execution_count": 714,
   "metadata": {},
   "outputs": [
    {
     "name": "stderr",
     "output_type": "stream",
     "text": [
      "C:\\Users\\tomas\\Anaconda3\\lib\\site-packages\\ipykernel_launcher.py:1: SettingWithCopyWarning: \n",
      "A value is trying to be set on a copy of a slice from a DataFrame.\n",
      "Try using .loc[row_indexer,col_indexer] = value instead\n",
      "\n",
      "See the caveats in the documentation: http://pandas.pydata.org/pandas-docs/stable/indexing.html#indexing-view-versus-copy\n",
      "  \"\"\"Entry point for launching an IPython kernel.\n",
      "C:\\Users\\tomas\\Anaconda3\\lib\\site-packages\\pandas\\core\\indexing.py:543: SettingWithCopyWarning: \n",
      "A value is trying to be set on a copy of a slice from a DataFrame.\n",
      "Try using .loc[row_indexer,col_indexer] = value instead\n",
      "\n",
      "See the caveats in the documentation: http://pandas.pydata.org/pandas-docs/stable/indexing.html#indexing-view-versus-copy\n",
      "  self.obj[item] = s\n"
     ]
    }
   ],
   "source": [
    "X_test[['Runtime', 'Budget']] = scaler.transform(X_test[['Runtime', 'Budget']])"
   ]
  },
  {
   "cell_type": "markdown",
   "metadata": {},
   "source": [
    "<b> 3.2 Linear regression </b>"
   ]
  },
  {
   "cell_type": "code",
   "execution_count": 107,
   "metadata": {},
   "outputs": [],
   "source": [
    "from sklearn.linear_model import LinearRegression"
   ]
  },
  {
   "cell_type": "code",
   "execution_count": 531,
   "metadata": {},
   "outputs": [],
   "source": [
    "lr = LinearRegression().fit(X_train, y_train)"
   ]
  },
  {
   "cell_type": "code",
   "execution_count": 532,
   "metadata": {},
   "outputs": [
    {
     "data": {
      "text/plain": [
       "0.8207566093404185"
      ]
     },
     "execution_count": 532,
     "metadata": {},
     "output_type": "execute_result"
    }
   ],
   "source": [
    "lr.score(X_train, y_train)"
   ]
  },
  {
   "cell_type": "code",
   "execution_count": 533,
   "metadata": {},
   "outputs": [
    {
     "data": {
      "text/plain": [
       "-1.840526381606688e+25"
      ]
     },
     "execution_count": 533,
     "metadata": {},
     "output_type": "execute_result"
    }
   ],
   "source": [
    "lr.score(X_test, y_test)"
   ]
  },
  {
   "cell_type": "markdown",
   "metadata": {},
   "source": [
    "Linear regression does not work well"
   ]
  },
  {
   "cell_type": "markdown",
   "metadata": {},
   "source": [
    "<b> 3.3 Decision tree </b>"
   ]
  },
  {
   "cell_type": "code",
   "execution_count": 111,
   "metadata": {},
   "outputs": [],
   "source": [
    "from sklearn.tree import DecisionTreeRegressor"
   ]
  },
  {
   "cell_type": "code",
   "execution_count": 207,
   "metadata": {},
   "outputs": [],
   "source": [
    "tree = DecisionTreeRegressor(criterion='mse', max_depth=2, splitter='random')"
   ]
  },
  {
   "cell_type": "code",
   "execution_count": 208,
   "metadata": {},
   "outputs": [
    {
     "data": {
      "text/plain": [
       "DecisionTreeRegressor(criterion='mse', max_depth=2, max_features=None,\n",
       "           max_leaf_nodes=None, min_impurity_decrease=0.0,\n",
       "           min_impurity_split=None, min_samples_leaf=1,\n",
       "           min_samples_split=2, min_weight_fraction_leaf=0.0,\n",
       "           presort=False, random_state=None, splitter='random')"
      ]
     },
     "execution_count": 208,
     "metadata": {},
     "output_type": "execute_result"
    }
   ],
   "source": [
    "tree.fit(X_train, y_train)"
   ]
  },
  {
   "cell_type": "code",
   "execution_count": 209,
   "metadata": {},
   "outputs": [
    {
     "data": {
      "text/plain": [
       "0.23842916782076795"
      ]
     },
     "execution_count": 209,
     "metadata": {},
     "output_type": "execute_result"
    }
   ],
   "source": [
    "tree.score(X_train, y_train)"
   ]
  },
  {
   "cell_type": "code",
   "execution_count": 210,
   "metadata": {},
   "outputs": [
    {
     "data": {
      "text/plain": [
       "0.18554539843090467"
      ]
     },
     "execution_count": 210,
     "metadata": {},
     "output_type": "execute_result"
    }
   ],
   "source": [
    "tree.score(X_test, y_test)"
   ]
  },
  {
   "cell_type": "markdown",
   "metadata": {},
   "source": [
    "Decision tree regression does not work well"
   ]
  },
  {
   "cell_type": "markdown",
   "metadata": {},
   "source": [
    "<b> 3.4 Stochastic Gradient Descent </b>"
   ]
  },
  {
   "cell_type": "code",
   "execution_count": 211,
   "metadata": {},
   "outputs": [],
   "source": [
    "from sklearn import linear_model"
   ]
  },
  {
   "cell_type": "code",
   "execution_count": 236,
   "metadata": {},
   "outputs": [
    {
     "name": "stderr",
     "output_type": "stream",
     "text": [
      "C:\\Users\\tomas\\Anaconda3\\lib\\site-packages\\sklearn\\linear_model\\stochastic_gradient.py:1022: ConvergenceWarning: Maximum number of iteration reached before convergence. Consider increasing max_iter to improve the fit.\n",
      "  ConvergenceWarning)\n"
     ]
    },
    {
     "data": {
      "text/plain": [
       "SGDRegressor(alpha=0.0001, average=False, epsilon=0.1, eta0=0.01,\n",
       "       fit_intercept=True, l1_ratio=0.15, learning_rate='invscaling',\n",
       "       loss='squared_loss', max_iter=100, n_iter=None, penalty='l2',\n",
       "       power_t=0.25, random_state=None, shuffle=True, tol=10, verbose=0,\n",
       "       warm_start=False)"
      ]
     },
     "execution_count": 236,
     "metadata": {},
     "output_type": "execute_result"
    }
   ],
   "source": [
    "clf = linear_model.SGDRegressor(max_iter=100, tol=10)\n",
    "clf.fit(X_train, y_train)"
   ]
  },
  {
   "cell_type": "code",
   "execution_count": 237,
   "metadata": {},
   "outputs": [
    {
     "data": {
      "text/plain": [
       "0.9818339439589961"
      ]
     },
     "execution_count": 237,
     "metadata": {},
     "output_type": "execute_result"
    }
   ],
   "source": [
    "clf.score(X_train, y_train)"
   ]
  },
  {
   "cell_type": "code",
   "execution_count": 238,
   "metadata": {},
   "outputs": [
    {
     "data": {
      "text/plain": [
       "0.29512683007912976"
      ]
     },
     "execution_count": 238,
     "metadata": {},
     "output_type": "execute_result"
    }
   ],
   "source": [
    "clf.score(X_test, y_test)"
   ]
  },
  {
   "cell_type": "markdown",
   "metadata": {},
   "source": [
    "The result is better, but still overfitting"
   ]
  },
  {
   "cell_type": "markdown",
   "metadata": {},
   "source": [
    "<b> 3.5 Neural network </b>"
   ]
  },
  {
   "cell_type": "code",
   "execution_count": 239,
   "metadata": {},
   "outputs": [],
   "source": [
    "from sklearn.neural_network import MLPRegressor"
   ]
  },
  {
   "cell_type": "code",
   "execution_count": 240,
   "metadata": {},
   "outputs": [],
   "source": [
    "mlp = MLPRegressor(solver='lbfgs', random_state=0, alpha=0.001, hidden_layer_sizes=[10,10]).fit(X_train, y_train)"
   ]
  },
  {
   "cell_type": "code",
   "execution_count": 241,
   "metadata": {},
   "outputs": [
    {
     "data": {
      "text/plain": [
       "0.997602514558085"
      ]
     },
     "execution_count": 241,
     "metadata": {},
     "output_type": "execute_result"
    }
   ],
   "source": [
    "mlp.score(X_train,y_train)"
   ]
  },
  {
   "cell_type": "code",
   "execution_count": 242,
   "metadata": {},
   "outputs": [
    {
     "data": {
      "text/plain": [
       "0.21737011495110947"
      ]
     },
     "execution_count": 242,
     "metadata": {},
     "output_type": "execute_result"
    }
   ],
   "source": [
    "mlp.score(X_test, y_test)"
   ]
  },
  {
   "cell_type": "markdown",
   "metadata": {},
   "source": [
    "Overfitting. Requires parameter tuning."
   ]
  },
  {
   "cell_type": "markdown",
   "metadata": {},
   "source": [
    "<b> 3.6 Gradient Boosting </b>"
   ]
  },
  {
   "cell_type": "code",
   "execution_count": 292,
   "metadata": {},
   "outputs": [],
   "source": [
    "from sklearn.ensemble import GradientBoostingRegressor"
   ]
  },
  {
   "cell_type": "code",
   "execution_count": 300,
   "metadata": {},
   "outputs": [],
   "source": [
    "gbrt=GradientBoostingRegressor(n_estimators=100)"
   ]
  },
  {
   "cell_type": "code",
   "execution_count": 301,
   "metadata": {},
   "outputs": [
    {
     "data": {
      "text/plain": [
       "GradientBoostingRegressor(alpha=0.9, criterion='friedman_mse', init=None,\n",
       "             learning_rate=0.1, loss='ls', max_depth=3, max_features=None,\n",
       "             max_leaf_nodes=None, min_impurity_decrease=0.0,\n",
       "             min_impurity_split=None, min_samples_leaf=1,\n",
       "             min_samples_split=2, min_weight_fraction_leaf=0.0,\n",
       "             n_estimators=1000, presort='auto', random_state=None,\n",
       "             subsample=1.0, verbose=0, warm_start=False)"
      ]
     },
     "execution_count": 301,
     "metadata": {},
     "output_type": "execute_result"
    }
   ],
   "source": [
    "gbrt.fit(X_train, y_train)"
   ]
  },
  {
   "cell_type": "code",
   "execution_count": 451,
   "metadata": {},
   "outputs": [
    {
     "data": {
      "text/plain": [
       "0.6719015408313063"
      ]
     },
     "execution_count": 451,
     "metadata": {},
     "output_type": "execute_result"
    }
   ],
   "source": [
    "gbrt.score(X_train, y_train)"
   ]
  },
  {
   "cell_type": "code",
   "execution_count": 452,
   "metadata": {},
   "outputs": [
    {
     "data": {
      "text/plain": [
       "0.43598069744003193"
      ]
     },
     "execution_count": 452,
     "metadata": {},
     "output_type": "execute_result"
    }
   ],
   "source": [
    "gbrt.score(X_test, y_test)"
   ]
  },
  {
   "cell_type": "markdown",
   "metadata": {},
   "source": [
    "Most consisten resuly, but still not satisfactory."
   ]
  },
  {
   "cell_type": "code",
   "execution_count": 446,
   "metadata": {},
   "outputs": [],
   "source": [
    "import seaborn as sns"
   ]
  },
  {
   "cell_type": "code",
   "execution_count": 453,
   "metadata": {},
   "outputs": [],
   "source": [
    "ybar = gbrt.predict(X_test)"
   ]
  },
  {
   "cell_type": "code",
   "execution_count": 454,
   "metadata": {},
   "outputs": [
    {
     "data": {
      "text/plain": [
       "<matplotlib.axes._subplots.AxesSubplot at 0x239009ab5c0>"
      ]
     },
     "execution_count": 454,
     "metadata": {},
     "output_type": "execute_result"
    },
    {
     "data": {
      "image/png": "[encoded data removed]",
      "text/plain": [
       "<matplotlib.figure.Figure at 0x239009a3f28>"
      ]
     },
     "metadata": {},
     "output_type": "display_data"
    }
   ],
   "source": [
    "ax1 = sns.distplot(y_test, hist=False, color='r', label='Actual')\n",
    "sns.distplot(ybar, hist=False, color='b', label='Guess', ax=ax1)"
   ]
  },
  {
   "cell_type": "markdown",
   "metadata": {},
   "source": [
    "<b> 3.7 Support Vector Machine</b>"
   ]
  },
  {
   "cell_type": "code",
   "execution_count": 507,
   "metadata": {},
   "outputs": [],
   "source": [
    "from sklearn.svm import SVC"
   ]
  },
  {
   "cell_type": "code",
   "execution_count": 527,
   "metadata": {},
   "outputs": [],
   "source": [
    "clf = SVC(C= 0.1, kernel='rbf', gamma='auto')"
   ]
  },
  {
   "cell_type": "code",
   "execution_count": 528,
   "metadata": {},
   "outputs": [
    {
     "data": {
      "text/plain": [
       "SVC(C=0.1, cache_size=200, class_weight=None, coef0=0.0,\n",
       "  decision_function_shape='ovr', degree=3, gamma='auto', kernel='rbf',\n",
       "  max_iter=-1, probability=False, random_state=None, shrinking=True,\n",
       "  tol=0.001, verbose=False)"
      ]
     },
     "execution_count": 528,
     "metadata": {},
     "output_type": "execute_result"
    }
   ],
   "source": [
    "clf.fit(X_train, y_train)"
   ]
  },
  {
   "cell_type": "code",
   "execution_count": 529,
   "metadata": {},
   "outputs": [
    {
     "data": {
      "text/plain": [
       "1.0"
      ]
     },
     "execution_count": 529,
     "metadata": {},
     "output_type": "execute_result"
    }
   ],
   "source": [
    "clf.score(X_train, y_train)"
   ]
  },
  {
   "cell_type": "code",
   "execution_count": 530,
   "metadata": {},
   "outputs": [
    {
     "data": {
      "text/plain": [
       "0.0"
      ]
     },
     "execution_count": 530,
     "metadata": {},
     "output_type": "execute_result"
    }
   ],
   "source": [
    "clf.score(X_test, y_test)"
   ]
  },
  {
   "cell_type": "markdown",
   "metadata": {},
   "source": [
    "<h1> 4. Example of prediction </h1>"
   ]
  },
  {
   "cell_type": "code",
   "execution_count": 721,
   "metadata": {},
   "outputs": [],
   "source": [
    "ybar = gbrt.predict(X_test)"
   ]
  },
  {
   "cell_type": "code",
   "execution_count": 726,
   "metadata": {},
   "outputs": [
    {
     "data": {
      "text/plain": [
       "array([15734224.65631003, 27278085.8718708 , 24447134.9512056 ])"
      ]
     },
     "execution_count": 726,
     "metadata": {},
     "output_type": "execute_result"
    }
   ],
   "source": [
    "ybar[0:3]"
   ]
  },
  {
   "cell_type": "code",
   "execution_count": 727,
   "metadata": {},
   "outputs": [
    {
     "data": {
      "text/plain": [
       "8      24830443\n",
       "253    21052227\n",
       "85     10609795\n",
       "Name: Opening, dtype: int64"
      ]
     },
     "execution_count": 727,
     "metadata": {},
     "output_type": "execute_result"
    }
   ],
   "source": [
    "y_test[0:3]"
   ]
  },
  {
   "cell_type": "code",
   "execution_count": 769,
   "metadata": {},
   "outputs": [],
   "source": [
    "genres_df = pd.DataFrame(genres_np, columns=['Genre', 'Profit'])\n",
    "genres_df['Genre'] = genres"
   ]
  },
  {
   "cell_type": "code",
   "execution_count": null,
   "metadata": {},
   "outputs": [],
   "source": []
  }
 ],
 "metadata": {
  "kernelspec": {
   "display_name": "Python 3",
   "language": "python",
   "name": "python3"
  },
  "language_info": {
   "codemirror_mode": {
    "name": "ipython",
    "version": 3
   },
   "file_extension": ".py",
   "mimetype": "text/x-python",
   "name": "python",
   "nbconvert_exporter": "python",
   "pygments_lexer": "ipython3",
   "version": "3.6.4"
  }
 },
 "nbformat": 4,
 "nbformat_minor": 2
}
