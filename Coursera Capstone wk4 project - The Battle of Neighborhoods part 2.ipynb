{
 "cells": [
  {
   "cell_type": "markdown",
   "metadata": {},
   "source": [
    "<h1> Coursera Capstone project: The Battle of Neighborhoods part 2</h1>"
   ]
  },
  {
   "cell_type": "markdown",
   "metadata": {},
   "source": [
    "<h2> 1) Get Singapore zones </h2>"
   ]
  },
  {
   "cell_type": "markdown",
   "metadata": {},
   "source": [
    "Import the libraries"
   ]
  },
  {
   "cell_type": "code",
   "execution_count": 1,
   "metadata": {},
   "outputs": [],
   "source": [
    "import requests # library to handle requests to websites\n",
    "from bs4 import BeautifulSoup #library to get wikipedia content\n",
    "import numpy as np"
   ]
  },
  {
   "cell_type": "markdown",
   "metadata": {},
   "source": [
    "I use the list of places from Wikipedia, as I find most useful for my purpose. This is a  list of places in Singapore based on the planning areas and their constituent subzones as designated by the Urban Redevelopment Authority."
   ]
  },
  {
   "cell_type": "code",
   "execution_count": 2,
   "metadata": {},
   "outputs": [],
   "source": [
    "#define variable with the url of zones in Singapore\n",
    "website_url = 'https://en.wikipedia.org/wiki/List_of_places_in_Singapore'\n",
    "#create requets object\n",
    "result = requests.get(website_url).text"
   ]
  },
  {
   "cell_type": "code",
   "execution_count": 4,
   "metadata": {},
   "outputs": [],
   "source": [
    "#create Beautifulsoup object\n",
    "soup = BeautifulSoup(result, 'lxml')"
   ]
  },
  {
   "cell_type": "markdown",
   "metadata": {},
   "source": [
    "Now I will extract only the zones, excluding subzones."
   ]
  },
  {
   "cell_type": "code",
   "execution_count": 5,
   "metadata": {
    "scrolled": true
   },
   "outputs": [
    {
     "data": {
      "text/plain": [
       "'a'"
      ]
     },
     "execution_count": 5,
     "metadata": {},
     "output_type": "execute_result"
    }
   ],
   "source": [
    "neighbourhoods = [] #creates empty list of zones\n",
    "for item in soup.find_all('li'): #iterates through all items in the list\n",
    "    if item.find('sup') != None: #checks, if the list item is zone or subzone\n",
    "        neighbourhoods.append(item.a.get_text(strip=True)) #if zone append to the list\n",
    "    else:\n",
    "        pass #if subzone, do nothing\n",
    "neighbourhoods.pop() #removes last item in the list"
   ]
  },
  {
   "cell_type": "code",
   "execution_count": 6,
   "metadata": {},
   "outputs": [
    {
     "data": {
      "text/plain": [
       "55"
      ]
     },
     "execution_count": 6,
     "metadata": {},
     "output_type": "execute_result"
    }
   ],
   "source": [
    "len(neighbourhoods)"
   ]
  },
  {
   "cell_type": "markdown",
   "metadata": {},
   "source": [
    "OK. This is a list of 55 zones in Singapore."
   ]
  },
  {
   "cell_type": "markdown",
   "metadata": {},
   "source": [
    "<h2> 2) Get geo coordinates for each zone in Singapore</h2>"
   ]
  },
  {
   "cell_type": "code",
   "execution_count": 7,
   "metadata": {},
   "outputs": [],
   "source": [
    "#!conda install -c conda-forge geopy --yes \n",
    "from geopy.geocoders import Nominatim # module to convert an address into latitude and longitude values\n",
    "\n",
    "import pandas as pd # import pandas library"
   ]
  },
  {
   "cell_type": "code",
   "execution_count": 8,
   "metadata": {},
   "outputs": [],
   "source": [
    "latitude = []\n",
    "longitude = []\n",
    "geolocator = Nominatim(user_agent=\"foursquare_agent\") #create geopy object\n",
    "for item in neighbourhoods: #iterate through the zone list\n",
    "    address = '{}, Singapore'.format(item)\n",
    "    try: #assign coordinates, if geolocator can find them\n",
    "        location = geolocator.geocode(address, limit=1)\n",
    "        latitude.append(location.latitude)\n",
    "        longitude.append(location.longitude)\n",
    "    except: #if geolocator cannot find assign 0\n",
    "        latitude.append(0)\n",
    "        longitude.append(0)"
   ]
  },
  {
   "cell_type": "code",
   "execution_count": 9,
   "metadata": {},
   "outputs": [],
   "source": [
    "# create dataframe with zones and their geo coordinates\n",
    "singapore_zones = []\n",
    "singapore_zones = pd.DataFrame(zip(neighbourhoods, latitude, longitude), columns=['Zone', 'Latitude', 'Longitude'])"
   ]
  },
  {
   "cell_type": "markdown",
   "metadata": {},
   "source": [
    "There are three zones for which the geolocator could not find the geo coordinates, so I will add them manually."
   ]
  },
  {
   "cell_type": "code",
   "execution_count": 10,
   "metadata": {},
   "outputs": [
    {
     "data": {
      "text/html": [
       "<div>\n",
       "<style scoped>\n",
       "    .dataframe tbody tr th:only-of-type {\n",
       "        vertical-align: middle;\n",
       "    }\n",
       "\n",
       "    .dataframe tbody tr th {\n",
       "        vertical-align: top;\n",
       "    }\n",
       "\n",
       "    .dataframe thead th {\n",
       "        text-align: right;\n",
       "    }\n",
       "</style>\n",
       "<table border=\"1\" class=\"dataframe\">\n",
       "  <thead>\n",
       "    <tr style=\"text-align: right;\">\n",
       "      <th></th>\n",
       "      <th>Zone</th>\n",
       "      <th>Latitude</th>\n",
       "      <th>Longitude</th>\n",
       "    </tr>\n",
       "  </thead>\n",
       "  <tbody>\n",
       "    <tr>\n",
       "      <th>3</th>\n",
       "      <td>Downtown Core</td>\n",
       "      <td>0.0</td>\n",
       "      <td>0.0</td>\n",
       "    </tr>\n",
       "    <tr>\n",
       "      <th>28</th>\n",
       "      <td>Central Water Catchment</td>\n",
       "      <td>0.0</td>\n",
       "      <td>0.0</td>\n",
       "    </tr>\n",
       "    <tr>\n",
       "      <th>38</th>\n",
       "      <td>North-Eastern Islands</td>\n",
       "      <td>0.0</td>\n",
       "      <td>0.0</td>\n",
       "    </tr>\n",
       "  </tbody>\n",
       "</table>\n",
       "</div>"
      ],
      "text/plain": [
       "                       Zone  Latitude  Longitude\n",
       "3             Downtown Core       0.0        0.0\n",
       "28  Central Water Catchment       0.0        0.0\n",
       "38    North-Eastern Islands       0.0        0.0"
      ]
     },
     "execution_count": 10,
     "metadata": {},
     "output_type": "execute_result"
    }
   ],
   "source": [
    "singapore_zones[singapore_zones['Latitude']==0]"
   ]
  },
  {
   "cell_type": "code",
   "execution_count": 11,
   "metadata": {},
   "outputs": [],
   "source": [
    "#not found geo coordinates\n",
    "singapore_zones.at[3,'Latitude'] = 1.288964\n",
    "singapore_zones.at[3,'Longitude'] = 103.854853\n",
    "singapore_zones.at[28,'Latitude'] = 1.363807\n",
    "singapore_zones.at[28,'Longitude'] = 103.812493\n",
    "singapore_zones.at[38,'Latitude'] = 1.409144\n",
    "singapore_zones.at[38,'Longitude'] = 103.960626\n",
    "#corrected geo coordinates\n",
    "singapore_zones.at[18,'Latitude'] = 1.251608\n",
    "singapore_zones.at[18,'Longitude'] = 103.824711\n",
    "singapore_zones.at[1,'Latitude'] = 1.297277\n",
    "singapore_zones.at[1,'Longitude'] = 103.823502\n",
    "singapore_zones.at[2,'Latitude'] = 1.327489\n",
    "singapore_zones.at[2,'Longitude'] = 103.793582\n",
    "singapore_zones.at[9,'Latitude'] = 1.299035\n",
    "singapore_zones.at[9,'Longitude'] = 103.845754\n",
    "singapore_zones.at[50,'Latitude'] = 1.322726\n",
    "singapore_zones.at[50,'Longitude'] = 103.679061\n",
    "singapore_zones.at[15,'Latitude'] = 1.295848\n",
    "singapore_zones.at[15,'Longitude'] = 103.837408\n",
    "singapore_zones.at[53,'Latitude'] = 1.271448\n",
    "singapore_zones.at[53,'Longitude'] = 103.684605"
   ]
  },
  {
   "cell_type": "markdown",
   "metadata": {},
   "source": [
    "Based on visual inspection I need to correct some geo coordinates."
   ]
  },
  {
   "cell_type": "code",
   "execution_count": 12,
   "metadata": {},
   "outputs": [
    {
     "data": {
      "text/html": [
       "<div>\n",
       "<style scoped>\n",
       "    .dataframe tbody tr th:only-of-type {\n",
       "        vertical-align: middle;\n",
       "    }\n",
       "\n",
       "    .dataframe tbody tr th {\n",
       "        vertical-align: top;\n",
       "    }\n",
       "\n",
       "    .dataframe thead th {\n",
       "        text-align: right;\n",
       "    }\n",
       "</style>\n",
       "<table border=\"1\" class=\"dataframe\">\n",
       "  <thead>\n",
       "    <tr style=\"text-align: right;\">\n",
       "      <th></th>\n",
       "      <th>Zone</th>\n",
       "      <th>Latitude</th>\n",
       "      <th>Longitude</th>\n",
       "    </tr>\n",
       "  </thead>\n",
       "  <tbody>\n",
       "    <tr>\n",
       "      <th>0</th>\n",
       "      <td>Bishan</td>\n",
       "      <td>1.351452</td>\n",
       "      <td>103.848250</td>\n",
       "    </tr>\n",
       "    <tr>\n",
       "      <th>1</th>\n",
       "      <td>Bukit Merah</td>\n",
       "      <td>1.297277</td>\n",
       "      <td>103.823502</td>\n",
       "    </tr>\n",
       "    <tr>\n",
       "      <th>2</th>\n",
       "      <td>Bukit Timah</td>\n",
       "      <td>1.327489</td>\n",
       "      <td>103.793582</td>\n",
       "    </tr>\n",
       "    <tr>\n",
       "      <th>3</th>\n",
       "      <td>Downtown Core</td>\n",
       "      <td>1.288964</td>\n",
       "      <td>103.854853</td>\n",
       "    </tr>\n",
       "    <tr>\n",
       "      <th>4</th>\n",
       "      <td>Geylang</td>\n",
       "      <td>1.318186</td>\n",
       "      <td>103.887056</td>\n",
       "    </tr>\n",
       "    <tr>\n",
       "      <th>5</th>\n",
       "      <td>Kallang</td>\n",
       "      <td>1.310759</td>\n",
       "      <td>103.866262</td>\n",
       "    </tr>\n",
       "    <tr>\n",
       "      <th>6</th>\n",
       "      <td>Marina East</td>\n",
       "      <td>1.288624</td>\n",
       "      <td>103.869827</td>\n",
       "    </tr>\n",
       "    <tr>\n",
       "      <th>7</th>\n",
       "      <td>Marina South</td>\n",
       "      <td>1.276998</td>\n",
       "      <td>103.861500</td>\n",
       "    </tr>\n",
       "    <tr>\n",
       "      <th>8</th>\n",
       "      <td>Marine Parade</td>\n",
       "      <td>1.302689</td>\n",
       "      <td>103.907395</td>\n",
       "    </tr>\n",
       "    <tr>\n",
       "      <th>9</th>\n",
       "      <td>Museum</td>\n",
       "      <td>1.299035</td>\n",
       "      <td>103.845754</td>\n",
       "    </tr>\n",
       "  </tbody>\n",
       "</table>\n",
       "</div>"
      ],
      "text/plain": [
       "            Zone  Latitude   Longitude\n",
       "0         Bishan  1.351452  103.848250\n",
       "1    Bukit Merah  1.297277  103.823502\n",
       "2    Bukit Timah  1.327489  103.793582\n",
       "3  Downtown Core  1.288964  103.854853\n",
       "4        Geylang  1.318186  103.887056\n",
       "5        Kallang  1.310759  103.866262\n",
       "6    Marina East  1.288624  103.869827\n",
       "7   Marina South  1.276998  103.861500\n",
       "8  Marine Parade  1.302689  103.907395\n",
       "9         Museum  1.299035  103.845754"
      ]
     },
     "execution_count": 12,
     "metadata": {},
     "output_type": "execute_result"
    }
   ],
   "source": [
    "singapore_zones.head(10)"
   ]
  },
  {
   "cell_type": "markdown",
   "metadata": {},
   "source": [
    "This is a dataframe with Singapore zones and their respective geo coordinates. <br>\n",
    "Let's check visually, if the geolocator result is ok."
   ]
  },
  {
   "cell_type": "code",
   "execution_count": 13,
   "metadata": {},
   "outputs": [],
   "source": [
    "# Matplotlib and associated plotting modules\n",
    "import folium # map rendering library"
   ]
  },
  {
   "cell_type": "code",
   "execution_count": 15,
   "metadata": {},
   "outputs": [
    {
     "data": {
      "text/html": [
       "<div style=\"width:100%;\"><div style=\"position:relative;width:100%;height:0;padding-bottom:60%;\"><iframe src=\"data:text/html;charset=utf-8;base64,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\" style=\"position:absolute;width:100%;height:100%;left:0;top:0;border:none !important;\" allowfullscreen webkitallowfullscreen mozallowfullscreen></iframe></div></div>"
      ],
      "text/plain": [
       "<folium.folium.Map at 0x208b3b88b00>"
      ]
     },
     "execution_count": 15,
     "metadata": {},
     "output_type": "execute_result"
    }
   ],
   "source": [
    "# create map\n",
    "latitude = singapore_zones['Latitude'][0]\n",
    "longitude = singapore_zones['Longitude'][0]\n",
    "map_clusters = folium.Map(location=[latitude, longitude], zoom_start=11)\n",
    "\n",
    "# add markers to the map\n",
    "for lat, lon, label in zip(singapore_zones['Latitude'], singapore_zones['Longitude'], singapore_zones['Zone']):\n",
    "    district = folium.Popup(str(label), parse_html=True)\n",
    "    folium.CircleMarker(\n",
    "        [lat, lon],\n",
    "        radius=5,\n",
    "        color='red',\n",
    "        fill=True,\n",
    "        fill_color='red',\n",
    "        fill_opacity=0.6,\n",
    "        popup=district).add_to(map_clusters)\n",
    "\n",
    "map_clusters"
   ]
  },
  {
   "cell_type": "markdown",
   "metadata": {},
   "source": [
    "<img src=\"map1.jpg"/>",
   ]
  },
  {
   "cell_type": "markdown",
   "metadata": {},
   "source": [
    "<h2> 3) Explore the zones </h2>"
   ]
  },
  {
   "cell_type": "markdown",
   "metadata": {},
   "source": [
    "First I download all the categories from Foursquare"
   ]
  },
  {
   "cell_type": "code",
   "execution_count": 16,
   "metadata": {},
   "outputs": [],
   "source": [
    "import requests # library to handle requests\n",
    "from pandas.io.json import json_normalize # tranform JSON file into a pandas dataframe"
   ]
  },
  {
   "cell_type": "code",
   "execution_count": 17,
   "metadata": {},
   "outputs": [],
   "source": [
    "CLIENT_ID = '...' # your Foursquare ID\n",
    "CLIENT_SECRET = '...' # your Foursquare Secret\n",
    "VERSION = '20180605' # Foursquare API version\n",
    "radius = 1000\n",
    "LIMIT = 500"
   ]
  },
  {
   "cell_type": "code",
   "execution_count": 18,
   "metadata": {},
   "outputs": [],
   "source": [
    "#download all categories in foursquare\n",
    "url = 'https://api.foursquare.com/v2/venues/categories?&client_id={}&client_secret={}&v={}'.format(\n",
    "            CLIENT_ID, \n",
    "            CLIENT_SECRET, \n",
    "            VERSION)\n",
    "results = requests.get(url).json()['response']['categories']"
   ]
  },
  {
   "cell_type": "code",
   "execution_count": 19,
   "metadata": {},
   "outputs": [],
   "source": [
    "#Select all cuisines under category food\n",
    "food_categories = []\n",
    "for cuisine in results[3]['categories']:\n",
    "    food_categories.append([cuisine['id'], cuisine['name']])"
   ]
  },
  {
   "cell_type": "code",
   "execution_count": 20,
   "metadata": {},
   "outputs": [
    {
     "data": {
      "text/plain": [
       "91"
      ]
     },
     "execution_count": 20,
     "metadata": {},
     "output_type": "execute_result"
    }
   ],
   "source": [
    "len(food_categories)"
   ]
  },
  {
   "cell_type": "markdown",
   "metadata": {},
   "source": [
    "Number of categories is 91. <br>\n",
    "I want to iterate through all categories in each zone 91 x 55 = 5005 combination > 950 Foursquare request limit. Unfortunately the number of combination is larger than the Foursquare limit, therefore for the purpose of this project I reduce the number of the categories to the most popular cuisines."
   ]
  },
  {
   "cell_type": "code",
   "execution_count": 21,
   "metadata": {},
   "outputs": [],
   "source": [
    "food_categories_reduced = [['4bf58dd8d48988d1c8941735', 'African Restaurant'],\n",
    " ['4bf58dd8d48988d14e941735', 'American Restaurant'],\n",
    " ['4bf58dd8d48988d142941735', 'Asian Restaurant'],\n",
    " ['4bf58dd8d48988d169941735', 'Australian Restaurant'],\n",
    " ['52e81612bcbc57f1066b7a05', 'English Restaurant'],\n",
    " ['4bf58dd8d48988d120951735', 'Food Court'],\n",
    " ['4bf58dd8d48988d10c941735', 'French Restaurant'],\n",
    " ['4bf58dd8d48988d10d941735', 'German Restaurant'],\n",
    " ['4bf58dd8d48988d10e941735', 'Greek Restaurant'],\n",
    " ['4bf58dd8d48988d10f941735', 'Indian Restaurant'],\n",
    " ['4bf58dd8d48988d110941735', 'Italian Restaurant'],\n",
    " ['52e81612bcbc57f1066b79fd', 'Jewish Restaurant'],\n",
    " ['4bf58dd8d48988d1be941735', 'Latin American Restaurant'],\n",
    " ['4bf58dd8d48988d1c0941735', 'Mediterranean Restaurant'],\n",
    " ['4bf58dd8d48988d1c1941735', 'Mexican Restaurant'],\n",
    " ['5293a7563cf9994f4e043a44', 'Russian Restaurant'],\n",
    " ['4bf58dd8d48988d150941735', 'Spanish Restaurant']]"
   ]
  },
  {
   "cell_type": "code",
   "execution_count": 22,
   "metadata": {},
   "outputs": [
    {
     "data": {
      "text/plain": [
       "17"
      ]
     },
     "execution_count": 22,
     "metadata": {},
     "output_type": "execute_result"
    }
   ],
   "source": [
    "len(food_categories_reduced)"
   ]
  },
  {
   "cell_type": "markdown",
   "metadata": {},
   "source": [
    "Now I iterate through all zones and category to get Foursquare restaurants."
   ]
  },
  {
   "cell_type": "code",
   "execution_count": null,
   "metadata": {},
   "outputs": [],
   "source": [
    "venues_list=[] #create target list for the results\n",
    "#iterate through zones\n",
    "for index, row in singapore_zones.iterrows(): \n",
    "    zone = row[0]\n",
    "    lat = row[1]\n",
    "    lng = row[2]\n",
    "    print(zone)\n",
    "    \n",
    "    #iterate through categories\n",
    "    for cuisine in food_categories_reduced: \n",
    "        categoryId = cuisine[0]\n",
    "        cuisine_name = cuisine[1]\n",
    "        print(cuisine_name)\n",
    "        \n",
    "        # create the API request URL\n",
    "        url = 'https://api.foursquare.com/v2/venues/search?&client_id={}&client_secret={}&v={}&ll={},{}&categoryId={}&radius={}&limit={}'.format(\n",
    "            CLIENT_ID, \n",
    "            CLIENT_SECRET, \n",
    "            VERSION, \n",
    "            lat, \n",
    "            lng,\n",
    "            categoryId,\n",
    "            radius, \n",
    "            LIMIT)\n",
    "        \n",
    "        # make the GET request\n",
    "        try: #I use try function to avoid error in case there is no result for specific category in specific zone\n",
    "            results = requests.get(url).json()['response']['venues']\n",
    "            \n",
    "            # append the information in the target list\n",
    "            venues_list.append([(\n",
    "            zone, \n",
    "            lat, \n",
    "            lng,\n",
    "            categoryId,\n",
    "            cuisine_name,\n",
    "            v['name'],\n",
    "            v['id'],\n",
    "            v['location']['lat'], \n",
    "            v['location']['lng'],\n",
    "            v['location']['distance']) for v in results])\n",
    "        except:\n",
    "            pass"
   ]
  },
  {
   "cell_type": "code",
   "execution_count": null,
   "metadata": {},
   "outputs": [],
   "source": [
    "#create dataframe with the results\n",
    "singapore_restaurants = pd.DataFrame([item for venue_list in venues_list for item in venue_list])\n",
    "singapore_restaurants.columns = ['Zone',\n",
    "                               'Zone_Latitude',\n",
    "                               'Zone_Longitude',\n",
    "                               'Cuisine_ID',\n",
    "                               'Cuisine',\n",
    "                               'Resto_Name',\n",
    "                               'Resto_ID',\n",
    "                               'Resto_Latitude',\n",
    "                               'Resto_Longitude',\n",
    "                               'Resto_distance_from_zone']"
   ]
  },
  {
   "cell_type": "code",
   "execution_count": null,
   "metadata": {},
   "outputs": [],
   "source": [
    "#save the dataframe to csv file\n",
    "singapore_restaurants.to_csv('singapore_resturants_reduced.csv')"
   ]
  },
  {
   "cell_type": "markdown",
   "metadata": {},
   "source": [
    "<h3> Basic data investigation </h3>"
   ]
  },
  {
   "cell_type": "code",
   "execution_count": 28,
   "metadata": {},
   "outputs": [],
   "source": [
    "#Total number of restaurants\n",
    "print('The total number of restaurants downloaded from Foursquare is {}'.format(len(venues_list)) )"
   ]
  },
  {
   "cell_type": "markdown",
   "metadata": {},
   "source": [
    "I was expecting a higher number, but this is result of limited Foursquare radius and food categories."
   ]
  },
  {
   "cell_type": "code",
   "execution_count": 33,
   "metadata": {},
   "outputs": [
    {
     "name": "stdout",
     "output_type": "stream",
     "text": [
      "Top 10 zones in terms of number of restaurants:\n",
      "Zone\n",
      "Singapore River    408\n",
      "Downtown Core      395\n",
      "Rochor             380\n",
      "Straits View       375\n",
      "Museum             371\n",
      "Outram             342\n",
      "Yishun             313\n",
      "River Valley       302\n",
      "Orchard            287\n",
      "Kallang            195\n",
      "Name: Resto_Name, dtype: int64\n"
     ]
    }
   ],
   "source": [
    "#Zones with the highest number of restaurants\n",
    "top_10_zones = singapore_restaurants.groupby('Zone').Resto_Name.count().sort_values(ascending=False).head(10)\n",
    "print('Top 10 zones in terms of number of restaurants:')\n",
    "print(top_10_zones)"
   ]
  },
  {
   "cell_type": "code",
   "execution_count": 34,
   "metadata": {},
   "outputs": [],
   "source": [
    "top_10_zones_list = list(top_10_zones.index)"
   ]
  },
  {
   "cell_type": "markdown",
   "metadata": {},
   "source": [
    "All the zones are very central except Yishun, which is quite far from the sentre, but apparently there is a big number of places to eat."
   ]
  },
  {
   "cell_type": "code",
   "execution_count": 35,
   "metadata": {},
   "outputs": [
    {
     "name": "stdout",
     "output_type": "stream",
     "text": [
      "Top 10 food categories:\n",
      "Cuisine\n",
      "Asian Restaurant            2123\n",
      "Food Court                  1704\n",
      "Indian Restaurant            982\n",
      "American Restaurant          719\n",
      "Italian Restaurant           546\n",
      "French Restaurant            401\n",
      "Mexican Restaurant           323\n",
      "Spanish Restaurant           241\n",
      "Mediterranean Restaurant     152\n",
      "Australian Restaurant        110\n",
      "Name: Resto_Name, dtype: int64\n"
     ]
    }
   ],
   "source": [
    "#Most popular restaurant category\n",
    "print('Top 10 food categories:')\n",
    "print(singapore_restaurants.groupby('Cuisine').Resto_Name.count().sort_values(ascending=False).head(10))"
   ]
  },
  {
   "cell_type": "markdown",
   "metadata": {},
   "source": [
    "No surprise the Asian Restaurants are mose represented in Singapore. It would be interesting to further explore different Asian food categories<br>\n",
    "Food courts are very popular place to eat in Singapore, therefore they or on second place."
   ]
  },
  {
   "cell_type": "markdown",
   "metadata": {},
   "source": [
    "<h3> Analyze Each Zone </h3>"
   ]
  },
  {
   "cell_type": "markdown",
   "metadata": {},
   "source": [
    "Next, let's group rows by neighborhood and by taking the mean of the frequency of occurrence of each category"
   ]
  },
  {
   "cell_type": "code",
   "execution_count": 36,
   "metadata": {},
   "outputs": [],
   "source": [
    "# one hot encoding\n",
    "singapore_onehot = pd.get_dummies(singapore_restaurants['Cuisine'], prefix=\"\", prefix_sep=\"\")"
   ]
  },
  {
   "cell_type": "code",
   "execution_count": 37,
   "metadata": {},
   "outputs": [],
   "source": [
    "# add neighborhood column back to dataframe\n",
    "singapore_onehot['Zone'] = singapore_restaurants['Zone'] "
   ]
  },
  {
   "cell_type": "code",
   "execution_count": 38,
   "metadata": {},
   "outputs": [],
   "source": [
    "#group rows by neighborhood and by taking the mean of the frequency of occurrence of each category\n",
    "singapore_grouped = singapore_onehot.groupby('Zone').mean().reset_index()"
   ]
  },
  {
   "cell_type": "code",
   "execution_count": 39,
   "metadata": {},
   "outputs": [],
   "source": [
    "#A function to sort the venues in descending order.\n",
    "def return_most_common_venues(row, num_top_venues):\n",
    "    row_categories = row.iloc[1:]\n",
    "    row_categories_sorted = row_categories.sort_values(ascending=False)\n",
    "    \n",
    "    return row_categories_sorted.index.values[0:num_top_venues]"
   ]
  },
  {
   "cell_type": "code",
   "execution_count": 40,
   "metadata": {},
   "outputs": [],
   "source": [
    "#New dataframe which displays the top 5 restaurant categories for each zone.\n",
    "num_top_venues = 5\n",
    "\n",
    "indicators = ['st', 'nd', 'rd']\n",
    "\n",
    "# create columns according to number of top venues\n",
    "columns = ['Zone']\n",
    "for ind in np.arange(num_top_venues):\n",
    "    try:\n",
    "        columns.append('{}{} Most Common Venue'.format(ind+1, indicators[ind]))\n",
    "    except:\n",
    "        columns.append('{}th Most Common Venue'.format(ind+1))\n",
    "\n",
    "# create a new dataframe\n",
    "singapore_sorted = pd.DataFrame(columns=columns)\n",
    "singapore_sorted['Zone'] = singapore_grouped['Zone']\n",
    "\n",
    "for ind in np.arange(singapore_grouped.shape[0]):\n",
    "    singapore_sorted['Zone'] = singapore_grouped['Zone']\n",
    "    singapore_sorted.iloc[ind, 1:] = return_most_common_venues(singapore_grouped.iloc[ind, :], num_top_venues)"
   ]
  },
  {
   "cell_type": "markdown",
   "metadata": {},
   "source": [
    "<h3> Analyze result </h3>"
   ]
  },
  {
   "cell_type": "markdown",
   "metadata": {},
   "source": [
    "The result is a dataframe showing each zone top 5 resturant category in terms of number. <br>\n",
    "I will explore only the 10 zones with the highest number of reaturants in general."
   ]
  },
  {
   "cell_type": "code",
   "execution_count": 41,
   "metadata": {},
   "outputs": [
    {
     "data": {
      "text/html": [
       "<div>\n",
       "<style scoped>\n",
       "    .dataframe tbody tr th:only-of-type {\n",
       "        vertical-align: middle;\n",
       "    }\n",
       "\n",
       "    .dataframe tbody tr th {\n",
       "        vertical-align: top;\n",
       "    }\n",
       "\n",
       "    .dataframe thead th {\n",
       "        text-align: right;\n",
       "    }\n",
       "</style>\n",
       "<table border=\"1\" class=\"dataframe\">\n",
       "  <thead>\n",
       "    <tr style=\"text-align: right;\">\n",
       "      <th></th>\n",
       "      <th>Zone</th>\n",
       "      <th>1st Most Common Venue</th>\n",
       "      <th>2nd Most Common Venue</th>\n",
       "      <th>3rd Most Common Venue</th>\n",
       "      <th>4th Most Common Venue</th>\n",
       "      <th>5th Most Common Venue</th>\n",
       "    </tr>\n",
       "  </thead>\n",
       "  <tbody>\n",
       "    <tr>\n",
       "      <th>13</th>\n",
       "      <td>Downtown Core</td>\n",
       "      <td>Italian Restaurant</td>\n",
       "      <td>Indian Restaurant</td>\n",
       "      <td>Asian Restaurant</td>\n",
       "      <td>Food Court</td>\n",
       "      <td>American Restaurant</td>\n",
       "    </tr>\n",
       "    <tr>\n",
       "      <th>18</th>\n",
       "      <td>Kallang</td>\n",
       "      <td>Asian Restaurant</td>\n",
       "      <td>Food Court</td>\n",
       "      <td>Indian Restaurant</td>\n",
       "      <td>American Restaurant</td>\n",
       "      <td>Italian Restaurant</td>\n",
       "    </tr>\n",
       "    <tr>\n",
       "      <th>23</th>\n",
       "      <td>Museum</td>\n",
       "      <td>American Restaurant</td>\n",
       "      <td>Asian Restaurant</td>\n",
       "      <td>Indian Restaurant</td>\n",
       "      <td>Food Court</td>\n",
       "      <td>Italian Restaurant</td>\n",
       "    </tr>\n",
       "    <tr>\n",
       "      <th>27</th>\n",
       "      <td>Orchard</td>\n",
       "      <td>Asian Restaurant</td>\n",
       "      <td>Food Court</td>\n",
       "      <td>American Restaurant</td>\n",
       "      <td>Italian Restaurant</td>\n",
       "      <td>Indian Restaurant</td>\n",
       "    </tr>\n",
       "    <tr>\n",
       "      <th>28</th>\n",
       "      <td>Outram</td>\n",
       "      <td>Food Court</td>\n",
       "      <td>Asian Restaurant</td>\n",
       "      <td>Indian Restaurant</td>\n",
       "      <td>Italian Restaurant</td>\n",
       "      <td>French Restaurant</td>\n",
       "    </tr>\n",
       "    <tr>\n",
       "      <th>34</th>\n",
       "      <td>River Valley</td>\n",
       "      <td>Asian Restaurant</td>\n",
       "      <td>Food Court</td>\n",
       "      <td>Italian Restaurant</td>\n",
       "      <td>Indian Restaurant</td>\n",
       "      <td>American Restaurant</td>\n",
       "    </tr>\n",
       "    <tr>\n",
       "      <th>35</th>\n",
       "      <td>Rochor</td>\n",
       "      <td>American Restaurant</td>\n",
       "      <td>Indian Restaurant</td>\n",
       "      <td>Asian Restaurant</td>\n",
       "      <td>Food Court</td>\n",
       "      <td>Italian Restaurant</td>\n",
       "    </tr>\n",
       "    <tr>\n",
       "      <th>41</th>\n",
       "      <td>Singapore River</td>\n",
       "      <td>Italian Restaurant</td>\n",
       "      <td>Indian Restaurant</td>\n",
       "      <td>Asian Restaurant</td>\n",
       "      <td>French Restaurant</td>\n",
       "      <td>Food Court</td>\n",
       "    </tr>\n",
       "    <tr>\n",
       "      <th>43</th>\n",
       "      <td>Straits View</td>\n",
       "      <td>Italian Restaurant</td>\n",
       "      <td>Indian Restaurant</td>\n",
       "      <td>Asian Restaurant</td>\n",
       "      <td>French Restaurant</td>\n",
       "      <td>Food Court</td>\n",
       "    </tr>\n",
       "    <tr>\n",
       "      <th>53</th>\n",
       "      <td>Yishun</td>\n",
       "      <td>Asian Restaurant</td>\n",
       "      <td>Food Court</td>\n",
       "      <td>Indian Restaurant</td>\n",
       "      <td>African Restaurant</td>\n",
       "      <td>American Restaurant</td>\n",
       "    </tr>\n",
       "  </tbody>\n",
       "</table>\n",
       "</div>"
      ],
      "text/plain": [
       "               Zone 1st Most Common Venue 2nd Most Common Venue  \\\n",
       "13    Downtown Core    Italian Restaurant     Indian Restaurant   \n",
       "18          Kallang      Asian Restaurant            Food Court   \n",
       "23           Museum   American Restaurant      Asian Restaurant   \n",
       "27          Orchard      Asian Restaurant            Food Court   \n",
       "28           Outram            Food Court      Asian Restaurant   \n",
       "34     River Valley      Asian Restaurant            Food Court   \n",
       "35           Rochor   American Restaurant     Indian Restaurant   \n",
       "41  Singapore River    Italian Restaurant     Indian Restaurant   \n",
       "43     Straits View    Italian Restaurant     Indian Restaurant   \n",
       "53           Yishun      Asian Restaurant            Food Court   \n",
       "\n",
       "   3rd Most Common Venue 4th Most Common Venue 5th Most Common Venue  \n",
       "13      Asian Restaurant            Food Court   American Restaurant  \n",
       "18     Indian Restaurant   American Restaurant    Italian Restaurant  \n",
       "23     Indian Restaurant            Food Court    Italian Restaurant  \n",
       "27   American Restaurant    Italian Restaurant     Indian Restaurant  \n",
       "28     Indian Restaurant    Italian Restaurant     French Restaurant  \n",
       "34    Italian Restaurant     Indian Restaurant   American Restaurant  \n",
       "35      Asian Restaurant            Food Court    Italian Restaurant  \n",
       "41      Asian Restaurant     French Restaurant            Food Court  \n",
       "43      Asian Restaurant     French Restaurant            Food Court  \n",
       "53     Indian Restaurant    African Restaurant   American Restaurant  "
      ]
     },
     "execution_count": 41,
     "metadata": {},
     "output_type": "execute_result"
    }
   ],
   "source": [
    "singapore_sorted[singapore_sorted['Zone'].isin(top_10_zones_list)]"
   ]
  },
  {
   "cell_type": "markdown",
   "metadata": {},
   "source": [
    "<li> Downtown Core, Straits View, Singapore River - are very central zones around marina and CBD. Italian resturants count for the highest number followed surprisingly by Indian cuisine, which overtakes Asian cuisine. This is interesting. </li>\n",
    "<li> Rochor - is the area including Little India. Surprisingly American resturants are the mose popular and the Indian ones are only in the second place. </li>\n",
    "<li> Outram - includes ChinaTown. It has the highest number of Food Courts - low budget food stalls. However it is worth mentioning some of the stalls are recognized by Guide Michelin. </li>\n",
    "<li> Museum - includes the main shopping street Orchard Road. The leading restaurant category is American </li>\n",
    "<li> In general the top restaurants are Asian, therefore it would be interesting to see the results including sub categories, however due to Forsquare limits I do not include such analysis. </li>"
   ]
  },
  {
   "cell_type": "markdown",
   "metadata": {},
   "source": [
    "<h3> Classification </h3>"
   ]
  },
  {
   "cell_type": "markdown",
   "metadata": {},
   "source": [
    "I will perform the zone classification to see, if there are any interesting results."
   ]
  },
  {
   "cell_type": "code",
   "execution_count": 42,
   "metadata": {},
   "outputs": [],
   "source": [
    "# import k-means from clustering stage\n",
    "from sklearn.cluster import KMeans"
   ]
  },
  {
   "cell_type": "code",
   "execution_count": 43,
   "metadata": {},
   "outputs": [
    {
     "data": {
      "text/plain": [
       "array([0, 0, 0, 0, 0, 0, 0, 3, 1, 3])"
      ]
     },
     "execution_count": 43,
     "metadata": {},
     "output_type": "execute_result"
    }
   ],
   "source": [
    "# set number of clusters\n",
    "kclusters = 5\n",
    "\n",
    "singapore_grouped_clustering = singapore_grouped.drop('Zone', 1)\n",
    "\n",
    "# run k-means clustering\n",
    "kmeans = KMeans(n_clusters=kclusters, random_state=0).fit(singapore_grouped_clustering)\n",
    "\n",
    "# check cluster labels generated for each row in the dataframe\n",
    "kmeans.labels_[0:10] "
   ]
  },
  {
   "cell_type": "markdown",
   "metadata": {},
   "source": [
    "Let's create a new dataframe that includes the cluster as well as the top 5 categories for each zone."
   ]
  },
  {
   "cell_type": "code",
   "execution_count": 44,
   "metadata": {},
   "outputs": [],
   "source": [
    "singapore_grouped.insert(0, 'Cluster Labels', kmeans.labels_)"
   ]
  },
  {
   "cell_type": "code",
   "execution_count": 79,
   "metadata": {},
   "outputs": [],
   "source": [
    "# add clustering labels\n",
    "singapore_zones = singapore_zones.merge(singapore_grouped, on='Zone')"
   ]
  },
  {
   "cell_type": "markdown",
   "metadata": {},
   "source": [
    "This is the final table. Now I will vizualize the results on the map."
   ]
  },
  {
   "cell_type": "code",
   "execution_count": 80,
   "metadata": {},
   "outputs": [
    {
     "data": {
      "text/html": [
       "<div>\n",
       "<style scoped>\n",
       "    .dataframe tbody tr th:only-of-type {\n",
       "        vertical-align: middle;\n",
       "    }\n",
       "\n",
       "    .dataframe tbody tr th {\n",
       "        vertical-align: top;\n",
       "    }\n",
       "\n",
       "    .dataframe thead th {\n",
       "        text-align: right;\n",
       "    }\n",
       "</style>\n",
       "<table border=\"1\" class=\"dataframe\">\n",
       "  <thead>\n",
       "    <tr style=\"text-align: right;\">\n",
       "      <th></th>\n",
       "      <th>Zone</th>\n",
       "      <th>Latitude</th>\n",
       "      <th>Longitude</th>\n",
       "      <th>Cluster Labels_x</th>\n",
       "      <th>African Restaurant_x</th>\n",
       "      <th>American Restaurant_x</th>\n",
       "      <th>Asian Restaurant_x</th>\n",
       "      <th>Australian Restaurant_x</th>\n",
       "      <th>English Restaurant_x</th>\n",
       "      <th>Food Court_x</th>\n",
       "      <th>...</th>\n",
       "      <th>German Restaurant_y</th>\n",
       "      <th>Greek Restaurant_y</th>\n",
       "      <th>Indian Restaurant_y</th>\n",
       "      <th>Italian Restaurant_y</th>\n",
       "      <th>Jewish Restaurant_y</th>\n",
       "      <th>Latin American Restaurant_y</th>\n",
       "      <th>Mediterranean Restaurant_y</th>\n",
       "      <th>Mexican Restaurant_y</th>\n",
       "      <th>Russian Restaurant_y</th>\n",
       "      <th>Spanish Restaurant_y</th>\n",
       "    </tr>\n",
       "  </thead>\n",
       "  <tbody>\n",
       "    <tr>\n",
       "      <th>0</th>\n",
       "      <td>Bishan</td>\n",
       "      <td>1.351452</td>\n",
       "      <td>103.848250</td>\n",
       "      <td>0</td>\n",
       "      <td>0.006667</td>\n",
       "      <td>0.060000</td>\n",
       "      <td>0.333333</td>\n",
       "      <td>0.006667</td>\n",
       "      <td>0.000000</td>\n",
       "      <td>0.313333</td>\n",
       "      <td>...</td>\n",
       "      <td>0.006667</td>\n",
       "      <td>0.006667</td>\n",
       "      <td>0.146667</td>\n",
       "      <td>0.066667</td>\n",
       "      <td>0.006667</td>\n",
       "      <td>0.000000</td>\n",
       "      <td>0.020000</td>\n",
       "      <td>0.006667</td>\n",
       "      <td>0.000000</td>\n",
       "      <td>0.013333</td>\n",
       "    </tr>\n",
       "    <tr>\n",
       "      <th>1</th>\n",
       "      <td>Bukit Merah</td>\n",
       "      <td>1.297277</td>\n",
       "      <td>103.823502</td>\n",
       "      <td>0</td>\n",
       "      <td>0.000000</td>\n",
       "      <td>0.051282</td>\n",
       "      <td>0.427350</td>\n",
       "      <td>0.017094</td>\n",
       "      <td>0.000000</td>\n",
       "      <td>0.205128</td>\n",
       "      <td>...</td>\n",
       "      <td>0.008547</td>\n",
       "      <td>0.000000</td>\n",
       "      <td>0.119658</td>\n",
       "      <td>0.068376</td>\n",
       "      <td>0.000000</td>\n",
       "      <td>0.000000</td>\n",
       "      <td>0.017094</td>\n",
       "      <td>0.017094</td>\n",
       "      <td>0.008547</td>\n",
       "      <td>0.008547</td>\n",
       "    </tr>\n",
       "    <tr>\n",
       "      <th>2</th>\n",
       "      <td>Bukit Timah</td>\n",
       "      <td>1.327489</td>\n",
       "      <td>103.793582</td>\n",
       "      <td>3</td>\n",
       "      <td>0.018182</td>\n",
       "      <td>0.054545</td>\n",
       "      <td>0.600000</td>\n",
       "      <td>0.000000</td>\n",
       "      <td>0.000000</td>\n",
       "      <td>0.072727</td>\n",
       "      <td>...</td>\n",
       "      <td>0.000000</td>\n",
       "      <td>0.000000</td>\n",
       "      <td>0.127273</td>\n",
       "      <td>0.090909</td>\n",
       "      <td>0.000000</td>\n",
       "      <td>0.018182</td>\n",
       "      <td>0.018182</td>\n",
       "      <td>0.000000</td>\n",
       "      <td>0.000000</td>\n",
       "      <td>0.000000</td>\n",
       "    </tr>\n",
       "    <tr>\n",
       "      <th>3</th>\n",
       "      <td>Downtown Core</td>\n",
       "      <td>1.288964</td>\n",
       "      <td>103.854853</td>\n",
       "      <td>2</td>\n",
       "      <td>0.005063</td>\n",
       "      <td>0.124051</td>\n",
       "      <td>0.126582</td>\n",
       "      <td>0.022785</td>\n",
       "      <td>0.007595</td>\n",
       "      <td>0.126582</td>\n",
       "      <td>...</td>\n",
       "      <td>0.027848</td>\n",
       "      <td>0.000000</td>\n",
       "      <td>0.126582</td>\n",
       "      <td>0.126582</td>\n",
       "      <td>0.002532</td>\n",
       "      <td>0.007595</td>\n",
       "      <td>0.027848</td>\n",
       "      <td>0.083544</td>\n",
       "      <td>0.000000</td>\n",
       "      <td>0.065823</td>\n",
       "    </tr>\n",
       "    <tr>\n",
       "      <th>4</th>\n",
       "      <td>Geylang</td>\n",
       "      <td>1.318186</td>\n",
       "      <td>103.887056</td>\n",
       "      <td>0</td>\n",
       "      <td>0.012987</td>\n",
       "      <td>0.097403</td>\n",
       "      <td>0.324675</td>\n",
       "      <td>0.006494</td>\n",
       "      <td>0.000000</td>\n",
       "      <td>0.324675</td>\n",
       "      <td>...</td>\n",
       "      <td>0.000000</td>\n",
       "      <td>0.000000</td>\n",
       "      <td>0.149351</td>\n",
       "      <td>0.045455</td>\n",
       "      <td>0.000000</td>\n",
       "      <td>0.000000</td>\n",
       "      <td>0.012987</td>\n",
       "      <td>0.012987</td>\n",
       "      <td>0.000000</td>\n",
       "      <td>0.000000</td>\n",
       "    </tr>\n",
       "  </tbody>\n",
       "</table>\n",
       "<p>5 rows × 39 columns</p>\n",
       "</div>"
      ],
      "text/plain": [
       "            Zone  Latitude   Longitude  Cluster Labels_x  \\\n",
       "0         Bishan  1.351452  103.848250                 0   \n",
       "1    Bukit Merah  1.297277  103.823502                 0   \n",
       "2    Bukit Timah  1.327489  103.793582                 3   \n",
       "3  Downtown Core  1.288964  103.854853                 2   \n",
       "4        Geylang  1.318186  103.887056                 0   \n",
       "\n",
       "   African Restaurant_x  American Restaurant_x  Asian Restaurant_x  \\\n",
       "0              0.006667               0.060000            0.333333   \n",
       "1              0.000000               0.051282            0.427350   \n",
       "2              0.018182               0.054545            0.600000   \n",
       "3              0.005063               0.124051            0.126582   \n",
       "4              0.012987               0.097403            0.324675   \n",
       "\n",
       "   Australian Restaurant_x  English Restaurant_x  Food Court_x  ...  \\\n",
       "0                 0.006667              0.000000      0.313333  ...   \n",
       "1                 0.017094              0.000000      0.205128  ...   \n",
       "2                 0.000000              0.000000      0.072727  ...   \n",
       "3                 0.022785              0.007595      0.126582  ...   \n",
       "4                 0.006494              0.000000      0.324675  ...   \n",
       "\n",
       "   German Restaurant_y  Greek Restaurant_y  Indian Restaurant_y  \\\n",
       "0             0.006667            0.006667             0.146667   \n",
       "1             0.008547            0.000000             0.119658   \n",
       "2             0.000000            0.000000             0.127273   \n",
       "3             0.027848            0.000000             0.126582   \n",
       "4             0.000000            0.000000             0.149351   \n",
       "\n",
       "   Italian Restaurant_y  Jewish Restaurant_y  Latin American Restaurant_y  \\\n",
       "0              0.066667             0.006667                     0.000000   \n",
       "1              0.068376             0.000000                     0.000000   \n",
       "2              0.090909             0.000000                     0.018182   \n",
       "3              0.126582             0.002532                     0.007595   \n",
       "4              0.045455             0.000000                     0.000000   \n",
       "\n",
       "   Mediterranean Restaurant_y  Mexican Restaurant_y  Russian Restaurant_y  \\\n",
       "0                    0.020000              0.006667              0.000000   \n",
       "1                    0.017094              0.017094              0.008547   \n",
       "2                    0.018182              0.000000              0.000000   \n",
       "3                    0.027848              0.083544              0.000000   \n",
       "4                    0.012987              0.012987              0.000000   \n",
       "\n",
       "   Spanish Restaurant_y  \n",
       "0              0.013333  \n",
       "1              0.008547  \n",
       "2              0.000000  \n",
       "3              0.065823  \n",
       "4              0.000000  \n",
       "\n",
       "[5 rows x 39 columns]"
      ]
     },
     "execution_count": 80,
     "metadata": {},
     "output_type": "execute_result"
    }
   ],
   "source": [
    "singapore_zones.head()"
   ]
  },
  {
   "cell_type": "code",
   "execution_count": 57,
   "metadata": {},
   "outputs": [],
   "source": [
    "# Matplotlib and associated plotting modules\n",
    "import matplotlib.cm as cm\n",
    "import matplotlib.colors as colors"
   ]
  },
  {
   "cell_type": "code",
   "execution_count": 64,
   "metadata": {
    "scrolled": true
   },
   "outputs": [
    {
     "data": {
      "text/html": [
       "<div style=\"width:100%;\"><div style=\"position:relative;width:100%;height:0;padding-bottom:60%;\"><iframe src=\"data:text/html;charset=utf-8;base64,PCFET0NUWVBFIGh0bWw+CjxoZWFkPiAgICAKICAgIDxtZXRhIGh0dHAtZXF1aXY9ImNvbnRlbnQtdHlwZSIgY29udGVudD0idGV4dC9odG1sOyBjaGFyc2V0PVVURi04IiAvPgogICAgPHNjcmlwdD5MX1BSRUZFUl9DQU5WQVMgPSBmYWxzZTsgTF9OT19UT1VDSCA9IGZhbHNlOyBMX0RJU0FCTEVfM0QgPSBmYWxzZTs8L3NjcmlwdD4KICAgIDxzY3JpcHQgc3JjPSJodHRwczovL2Nkbi5qc2RlbGl2ci5uZXQvbnBtL2xlYWZsZXRAMS4yLjAvZGlzdC9sZWFmbGV0LmpzIj48L3NjcmlwdD4KICAgIDxzY3JpcHQgc3JjPSJodHRwczovL2FqYXguZ29vZ2xlYXBpcy5jb20vYWpheC9saWJzL2pxdWVyeS8xLjExLjEvanF1ZXJ5Lm1pbi5qcyI+PC9zY3JpcHQ+CiAgICA8c2NyaXB0IHNyYz0iaHR0cHM6Ly9tYXhjZG4uYm9vdHN0cmFwY2RuLmNvbS9ib290c3RyYXAvMy4yLjAvanMvYm9vdHN0cmFwLm1pbi5qcyI+PC9zY3JpcHQ+CiAgICA8c2NyaXB0IHNyYz0iaHR0cHM6Ly9jZG5qcy5jbG91ZGZsYXJlLmNvbS9hamF4L2xpYnMvTGVhZmxldC5hd2Vzb21lLW1hcmtlcnMvMi4wLjIvbGVhZmxldC5hd2Vzb21lLW1hcmtlcnMuanMiPjwvc2NyaXB0PgogICAgPGxpbmsgcmVsPSJzdHlsZXNoZWV0IiBocmVmPSJodHRwczovL2Nkbi5qc2RlbGl2ci5uZXQvbnBtL2xlYWZsZXRAMS4yLjAvZGlzdC9sZWFmbGV0LmNzcyIvPgogICAgPGxpbmsgcmVsPSJzdHlsZXNoZWV0IiBocmVmPSJodHRwczovL21heGNkbi5ib290c3RyYXBjZG4uY29tL2Jvb3RzdHJhcC8zLjIuMC9jc3MvYm9vdHN0cmFwLm1pbi5jc3MiLz4KICAgIDxsaW5rIHJlbD0ic3R5bGVzaGVldCIgaHJlZj0iaHR0cHM6Ly9tYXhjZG4uYm9vdHN0cmFwY2RuLmNvbS9ib290c3RyYXAvMy4yLjAvY3NzL2Jvb3RzdHJhcC10aGVtZS5taW4uY3NzIi8+CiAgICA8bGluayByZWw9InN0eWxlc2hlZXQiIGhyZWY9Imh0dHBzOi8vbWF4Y2RuLmJvb3RzdHJhcGNkbi5jb20vZm9udC1hd2Vzb21lLzQuNi4zL2Nzcy9mb250LWF3ZXNvbWUubWluLmNzcyIvPgogICAgPGxpbmsgcmVsPSJzdHlsZXNoZWV0IiBocmVmPSJodHRwczovL2NkbmpzLmNsb3VkZmxhcmUuY29tL2FqYXgvbGlicy9MZWFmbGV0LmF3ZXNvbWUtbWFya2Vycy8yLjAuMi9sZWFmbGV0LmF3ZXNvbWUtbWFya2Vycy5jc3MiLz4KICAgIDxsaW5rIHJlbD0ic3R5bGVzaGVldCIgaHJlZj0iaHR0cHM6Ly9yYXdnaXQuY29tL3B5dGhvbi12aXN1YWxpemF0aW9uL2ZvbGl1bS9tYXN0ZXIvZm9saXVtL3RlbXBsYXRlcy9sZWFmbGV0LmF3ZXNvbWUucm90YXRlLmNzcyIvPgogICAgPHN0eWxlPmh0bWwsIGJvZHkge3dpZHRoOiAxMDAlO2hlaWdodDogMTAwJTttYXJnaW46IDA7cGFkZGluZzogMDt9PC9zdHlsZT4KICAgIDxzdHlsZT4jbWFwIHtwb3NpdGlvbjphYnNvbHV0ZTt0b3A6MDtib3R0b206MDtyaWdodDowO2xlZnQ6MDt9PC9zdHlsZT4KICAgIAogICAgICAgICAgICA8c3R5bGU+ICNtYXBfNmVkNGQ1YjM0ZmY4NDgwM2E1YTgyNDVmZmZiNThhZTIgewogICAgICAgICAgICAgICAgcG9zaXRpb24gOiByZWxhdGl2ZTsKICAgICAgICAgICAgICAgIHdpZHRoIDogMTAwLjAlOwogICAgICAgICAgICAgICAgaGVpZ2h0OiAxMDAuMCU7CiAgICAgICAgICAgICAgICBsZWZ0OiAwLjAlOwogICAgICAgICAgICAgICAgdG9wOiAwLjAlOwogICAgICAgICAgICAgICAgfQogICAgICAgICAgICA8L3N0eWxlPgogICAgICAgIAo8L2hlYWQ+Cjxib2R5PiAgICAKICAgIAogICAgICAgICAgICA8ZGl2IGNsYXNzPSJmb2xpdW0tbWFwIiBpZD0ibWFwXzZlZDRkNWIzNGZmODQ4MDNhNWE4MjQ1ZmZmYjU4YWUyIiA+PC9kaXY+CiAgICAgICAgCjwvYm9keT4KPHNjcmlwdD4gICAgCiAgICAKCiAgICAgICAgICAgIAogICAgICAgICAgICAgICAgdmFyIGJvdW5kcyA9IG51bGw7CiAgICAgICAgICAgIAoKICAgICAgICAgICAgdmFyIG1hcF82ZWQ0ZDViMzRmZjg0ODAzYTVhODI0NWZmZmI1OGFlMiA9IEwubWFwKAogICAgICAgICAgICAgICAgICAgICAgICAgICAgICAgICAgJ21hcF82ZWQ0ZDViMzRmZjg0ODAzYTVhODI0NWZmZmI1OGFlMicsCiAgICAgICAgICAgICAgICAgICAgICAgICAgICAgICAgICB7Y2VudGVyOiBbMS4zNTE0NTIxLDEwMy44NDgyNDk2XSwKICAgICAgICAgICAgICAgICAgICAgICAgICAgICAgICAgIHpvb206IDExLAogICAgICAgICAgICAgICAgICAgICAgICAgICAgICAgICAgbWF4Qm91bmRzOiBib3VuZHMsCiAgICAgICAgICAgICAgICAgICAgICAgICAgICAgICAgICBsYXllcnM6IFtdLAogICAgICAgICAgICAgICAgICAgICAgICAgICAgICAgICAgd29ybGRDb3B5SnVtcDogZmFsc2UsCiAgICAgICAgICAgICAgICAgICAgICAgICAgICAgICAgICBjcnM6IEwuQ1JTLkVQU0czODU3CiAgICAgICAgICAgICAgICAgICAgICAgICAgICAgICAgIH0pOwogICAgICAgICAgICAKICAgICAgICAKICAgIAogICAgICAgICAgICB2YXIgdGlsZV9sYXllcl9mYjQ5M2E2MDU2ODQ0OWU0OGU2Y2Y1NGU3YTIyZmNhNyA9IEwudGlsZUxheWVyKAogICAgICAgICAgICAgICAgJ2h0dHBzOi8ve3N9LnRpbGUub3BlbnN0cmVldG1hcC5vcmcve3p9L3t4fS97eX0ucG5nJywKICAgICAgICAgICAgICAgIHsKICAiYXR0cmlidXRpb24iOiBudWxsLAogICJkZXRlY3RSZXRpbmEiOiBmYWxzZSwKICAibWF4Wm9vbSI6IDE4LAogICJtaW5ab29tIjogMSwKICAibm9XcmFwIjogZmFsc2UsCiAgInN1YmRvbWFpbnMiOiAiYWJjIgp9CiAgICAgICAgICAgICAgICApLmFkZFRvKG1hcF82ZWQ0ZDViMzRmZjg0ODAzYTVhODI0NWZmZmI1OGFlMik7CiAgICAgICAgCiAgICAKICAgICAgICAgICAgdmFyIGNpcmNsZV9tYXJrZXJfNjM2MDhiNDQ4YmJkNDk4YWIyMWIzZTMxNjIxYThlNzcgPSBMLmNpcmNsZU1hcmtlcigKICAgICAgICAgICAgICAgIFsxLjM1MTQ1MjEsMTAzLjg0ODI0OTZdLAogICAgICAgICAgICAgICAgewogICJidWJibGluZ01vdXNlRXZlbnRzIjogdHJ1ZSwKICAiY29sb3IiOiAiI2ZmMDAwMCIsCiAgImRhc2hBcnJheSI6IG51bGwsCiAgImRhc2hPZmZzZXQiOiBudWxsLAogICJmaWxsIjogdHJ1ZSwKICAiZmlsbENvbG9yIjogIiNmZjAwMDAiLAogICJmaWxsT3BhY2l0eSI6IDAuNiwKICAiZmlsbFJ1bGUiOiAiZXZlbm9kZCIsCiAgImxpbmVDYXAiOiAicm91bmQiLAogICJsaW5lSm9pbiI6ICJyb3VuZCIsCiAgIm9wYWNpdHkiOiAxLjAsCiAgInJhZGl1cyI6IDUsCiAgInN0cm9rZSI6IHRydWUsCiAgIndlaWdodCI6IDMKfQogICAgICAgICAgICAgICAgKS5hZGRUbyhtYXBfNmVkNGQ1YjM0ZmY4NDgwM2E1YTgyNDVmZmZiNThhZTIpOwogICAgICAgICAgICAKICAgIAogICAgICAgICAgICB2YXIgcG9wdXBfZGMxNmFmNzljMTNhNGYwZWI1ZjYyNjUwZmMwN2JkZmIgPSBMLnBvcHVwKHttYXhXaWR0aDogJzMwMCd9KTsKCiAgICAgICAgICAgIAogICAgICAgICAgICAgICAgdmFyIGh0bWxfMjI0MGEzNzRiMzM2NDE0ZWJiNzk0N2I0YmRlMTYwZGIgPSAkKCc8ZGl2IGlkPSJodG1sXzIyNDBhMzc0YjMzNjQxNGViYjc5NDdiNGJkZTE2MGRiIiBzdHlsZT0id2lkdGg6IDEwMC4wJTsgaGVpZ2h0OiAxMDAuMCU7Ij5CaXNoYW4gMDwvZGl2PicpWzBdOwogICAgICAgICAgICAgICAgcG9wdXBfZGMxNmFmNzljMTNhNGYwZWI1ZjYyNjUwZmMwN2JkZmIuc2V0Q29udGVudChodG1sXzIyNDBhMzc0YjMzNjQxNGViYjc5NDdiNGJkZTE2MGRiKTsKICAgICAgICAgICAgCgogICAgICAgICAgICBjaXJjbGVfbWFya2VyXzYzNjA4YjQ0OGJiZDQ5OGFiMjFiM2UzMTYyMWE4ZTc3LmJpbmRQb3B1cChwb3B1cF9kYzE2YWY3OWMxM2E0ZjBlYjVmNjI2NTBmYzA3YmRmYik7CgogICAgICAgICAgICAKICAgICAgICAKICAgIAogICAgICAgICAgICB2YXIgY2lyY2xlX21hcmtlcl9kNDY4Y2Y0YjlhYTc0NzkwYmE0YmMyZDgwYTViOGEwNCA9IEwuY2lyY2xlTWFya2VyKAogICAgICAgICAgICAgICAgWzEuMjk3Mjc3LDEwMy44MjM1MDJdLAogICAgICAgICAgICAgICAgewogICJidWJibGluZ01vdXNlRXZlbnRzIjogdHJ1ZSwKICAiY29sb3IiOiAiI2ZmMDAwMCIsCiAgImRhc2hBcnJheSI6IG51bGwsCiAgImRhc2hPZmZzZXQiOiBudWxsLAogICJmaWxsIjogdHJ1ZSwKICAiZmlsbENvbG9yIjogIiNmZjAwMDAiLAogICJmaWxsT3BhY2l0eSI6IDAuNiwKICAiZmlsbFJ1bGUiOiAiZXZlbm9kZCIsCiAgImxpbmVDYXAiOiAicm91bmQiLAogICJsaW5lSm9pbiI6ICJyb3VuZCIsCiAgIm9wYWNpdHkiOiAxLjAsCiAgInJhZGl1cyI6IDUsCiAgInN0cm9rZSI6IHRydWUsCiAgIndlaWdodCI6IDMKfQogICAgICAgICAgICAgICAgKS5hZGRUbyhtYXBfNmVkNGQ1YjM0ZmY4NDgwM2E1YTgyNDVmZmZiNThhZTIpOwogICAgICAgICAgICAKICAgIAogICAgICAgICAgICB2YXIgcG9wdXBfNWI0ODRjY2NjMDUxNDVlNWI0NTlkZTg0YzI4ZDgyOWEgPSBMLnBvcHVwKHttYXhXaWR0aDogJzMwMCd9KTsKCiAgICAgICAgICAgIAogICAgICAgICAgICAgICAgdmFyIGh0bWxfNDRmYjczZmY1NGUyNGUyMDhmMjVhZWUzMjkxOWE4MDQgPSAkKCc8ZGl2IGlkPSJodG1sXzQ0ZmI3M2ZmNTRlMjRlMjA4ZjI1YWVlMzI5MTlhODA0IiBzdHlsZT0id2lkdGg6IDEwMC4wJTsgaGVpZ2h0OiAxMDAuMCU7Ij5CdWtpdCBNZXJhaCAwPC9kaXY+JylbMF07CiAgICAgICAgICAgICAgICBwb3B1cF81YjQ4NGNjY2MwNTE0NWU1YjQ1OWRlODRjMjhkODI5YS5zZXRDb250ZW50KGh0bWxfNDRmYjczZmY1NGUyNGUyMDhmMjVhZWUzMjkxOWE4MDQpOwogICAgICAgICAgICAKCiAgICAgICAgICAgIGNpcmNsZV9tYXJrZXJfZDQ2OGNmNGI5YWE3NDc5MGJhNGJjMmQ4MGE1YjhhMDQuYmluZFBvcHVwKHBvcHVwXzViNDg0Y2NjYzA1MTQ1ZTViNDU5ZGU4NGMyOGQ4MjlhKTsKCiAgICAgICAgICAgIAogICAgICAgIAogICAgCiAgICAgICAgICAgIHZhciBjaXJjbGVfbWFya2VyXzJhOTUxMDEwYjc3ODQ4ZDFiMDVjZjYzYWZmY2FlNTk1ID0gTC5jaXJjbGVNYXJrZXIoCiAgICAgICAgICAgICAgICBbMS4zMjc0ODksMTAzLjc5MzU4Ml0sCiAgICAgICAgICAgICAgICB7CiAgImJ1YmJsaW5nTW91c2VFdmVudHMiOiB0cnVlLAogICJjb2xvciI6ICIjODBmZmI0IiwKICAiZGFzaEFycmF5IjogbnVsbCwKICAiZGFzaE9mZnNldCI6IG51bGwsCiAgImZpbGwiOiB0cnVlLAogICJmaWxsQ29sb3IiOiAiIzgwZmZiNCIsCiAgImZpbGxPcGFjaXR5IjogMC42LAogICJmaWxsUnVsZSI6ICJldmVub2RkIiwKICAibGluZUNhcCI6ICJyb3VuZCIsCiAgImxpbmVKb2luIjogInJvdW5kIiwKICAib3BhY2l0eSI6IDEuMCwKICAicmFkaXVzIjogNSwKICAic3Ryb2tlIjogdHJ1ZSwKICAid2VpZ2h0IjogMwp9CiAgICAgICAgICAgICAgICApLmFkZFRvKG1hcF82ZWQ0ZDViMzRmZjg0ODAzYTVhODI0NWZmZmI1OGFlMik7CiAgICAgICAgICAgIAogICAgCiAgICAgICAgICAgIHZhciBwb3B1cF9hODk2ZDZlOGMwNzk0YTg3OTlhN2YzYjUyNjkyMGU3YSA9IEwucG9wdXAoe21heFdpZHRoOiAnMzAwJ30pOwoKICAgICAgICAgICAgCiAgICAgICAgICAgICAgICB2YXIgaHRtbF9iZDVhOGIzZmFjMDQ0OTE0YTYzMzc0YjVkYjdmOTNkMyA9ICQoJzxkaXYgaWQ9Imh0bWxfYmQ1YThiM2ZhYzA0NDkxNGE2MzM3NGI1ZGI3ZjkzZDMiIHN0eWxlPSJ3aWR0aDogMTAwLjAlOyBoZWlnaHQ6IDEwMC4wJTsiPkJ1a2l0IFRpbWFoIDM8L2Rpdj4nKVswXTsKICAgICAgICAgICAgICAgIHBvcHVwX2E4OTZkNmU4YzA3OTRhODc5OWE3ZjNiNTI2OTIwZTdhLnNldENvbnRlbnQoaHRtbF9iZDVhOGIzZmFjMDQ0OTE0YTYzMzc0YjVkYjdmOTNkMyk7CiAgICAgICAgICAgIAoKICAgICAgICAgICAgY2lyY2xlX21hcmtlcl8yYTk1MTAxMGI3Nzg0OGQxYjA1Y2Y2M2FmZmNhZTU5NS5iaW5kUG9wdXAocG9wdXBfYTg5NmQ2ZThjMDc5NGE4Nzk5YTdmM2I1MjY5MjBlN2EpOwoKICAgICAgICAgICAgCiAgICAgICAgCiAgICAKICAgICAgICAgICAgdmFyIGNpcmNsZV9tYXJrZXJfZDA0NTk0M2IzMWQxNGY3MGFkZWVkNmZlYjMwMjk5ZDYgPSBMLmNpcmNsZU1hcmtlcigKICAgICAgICAgICAgICAgIFsxLjI4ODk2NCwxMDMuODU0ODUzXSwKICAgICAgICAgICAgICAgIHsKICAiYnViYmxpbmdNb3VzZUV2ZW50cyI6IHRydWUsCiAgImNvbG9yIjogIiMwMGI1ZWIiLAogICJkYXNoQXJyYXkiOiBudWxsLAogICJkYXNoT2Zmc2V0IjogbnVsbCwKICAiZmlsbCI6IHRydWUsCiAgImZpbGxDb2xvciI6ICIjMDBiNWViIiwKICAiZmlsbE9wYWNpdHkiOiAwLjYsCiAgImZpbGxSdWxlIjogImV2ZW5vZGQiLAogICJsaW5lQ2FwIjogInJvdW5kIiwKICAibGluZUpvaW4iOiAicm91bmQiLAogICJvcGFjaXR5IjogMS4wLAogICJyYWRpdXMiOiA1LAogICJzdHJva2UiOiB0cnVlLAogICJ3ZWlnaHQiOiAzCn0KICAgICAgICAgICAgICAgICkuYWRkVG8obWFwXzZlZDRkNWIzNGZmODQ4MDNhNWE4MjQ1ZmZmYjU4YWUyKTsKICAgICAgICAgICAgCiAgICAKICAgICAgICAgICAgdmFyIHBvcHVwX2Y4MTFkYmVhMDYwNjQ3ZmQ5NzRjYTBhODUzM2VmY2Y5ID0gTC5wb3B1cCh7bWF4V2lkdGg6ICczMDAnfSk7CgogICAgICAgICAgICAKICAgICAgICAgICAgICAgIHZhciBodG1sX2JjN2M5Y2E4MTJkNjQ3ZGZiZjBkOWNkNGE3MTIzMjcxID0gJCgnPGRpdiBpZD0iaHRtbF9iYzdjOWNhODEyZDY0N2RmYmYwZDljZDRhNzEyMzI3MSIgc3R5bGU9IndpZHRoOiAxMDAuMCU7IGhlaWdodDogMTAwLjAlOyI+RG93bnRvd24gQ29yZSAyPC9kaXY+JylbMF07CiAgICAgICAgICAgICAgICBwb3B1cF9mODExZGJlYTA2MDY0N2ZkOTc0Y2EwYTg1MzNlZmNmOS5zZXRDb250ZW50KGh0bWxfYmM3YzljYTgxMmQ2NDdkZmJmMGQ5Y2Q0YTcxMjMyNzEpOwogICAgICAgICAgICAKCiAgICAgICAgICAgIGNpcmNsZV9tYXJrZXJfZDA0NTk0M2IzMWQxNGY3MGFkZWVkNmZlYjMwMjk5ZDYuYmluZFBvcHVwKHBvcHVwX2Y4MTFkYmVhMDYwNjQ3ZmQ5NzRjYTBhODUzM2VmY2Y5KTsKCiAgICAgICAgICAgIAogICAgICAgIAogICAgCiAgICAgICAgICAgIHZhciBjaXJjbGVfbWFya2VyXzM3YmYyYjQ3YWI1MzRhNTRhZjAyOWMwNGUxOGNkYTQyID0gTC5jaXJjbGVNYXJrZXIoCiAgICAgICAgICAgICAgICBbMS4zMTgxODYyLDEwMy44ODcwNTYzXSwKICAgICAgICAgICAgICAgIHsKICAiYnViYmxpbmdNb3VzZUV2ZW50cyI6IHRydWUsCiAgImNvbG9yIjogIiNmZjAwMDAiLAogICJkYXNoQXJyYXkiOiBudWxsLAogICJkYXNoT2Zmc2V0IjogbnVsbCwKICAiZmlsbCI6IHRydWUsCiAgImZpbGxDb2xvciI6ICIjZmYwMDAwIiwKICAiZmlsbE9wYWNpdHkiOiAwLjYsCiAgImZpbGxSdWxlIjogImV2ZW5vZGQiLAogICJsaW5lQ2FwIjogInJvdW5kIiwKICAibGluZUpvaW4iOiAicm91bmQiLAogICJvcGFjaXR5IjogMS4wLAogICJyYWRpdXMiOiA1LAogICJzdHJva2UiOiB0cnVlLAogICJ3ZWlnaHQiOiAzCn0KICAgICAgICAgICAgICAgICkuYWRkVG8obWFwXzZlZDRkNWIzNGZmODQ4MDNhNWE4MjQ1ZmZmYjU4YWUyKTsKICAgICAgICAgICAgCiAgICAKICAgICAgICAgICAgdmFyIHBvcHVwX2Q2YzI4OWUyOGU4YTQxNDVhMzQ2YzM2YTUwNDc2ZmEyID0gTC5wb3B1cCh7bWF4V2lkdGg6ICczMDAnfSk7CgogICAgICAgICAgICAKICAgICAgICAgICAgICAgIHZhciBodG1sX2JlZTZjODZlYTdhMTQxYjhhMGI1YmU5Y2RiZjVhYWI2ID0gJCgnPGRpdiBpZD0iaHRtbF9iZWU2Yzg2ZWE3YTE0MWI4YTBiNWJlOWNkYmY1YWFiNiIgc3R5bGU9IndpZHRoOiAxMDAuMCU7IGhlaWdodDogMTAwLjAlOyI+R2V5bGFuZyAwPC9kaXY+JylbMF07CiAgICAgICAgICAgICAgICBwb3B1cF9kNmMyODllMjhlOGE0MTQ1YTM0NmMzNmE1MDQ3NmZhMi5zZXRDb250ZW50KGh0bWxfYmVlNmM4NmVhN2ExNDFiOGEwYjViZTljZGJmNWFhYjYpOwogICAgICAgICAgICAKCiAgICAgICAgICAgIGNpcmNsZV9tYXJrZXJfMzdiZjJiNDdhYjUzNGE1NGFmMDI5YzA0ZTE4Y2RhNDIuYmluZFBvcHVwKHBvcHVwX2Q2YzI4OWUyOGU4YTQxNDVhMzQ2YzM2YTUwNDc2ZmEyKTsKCiAgICAgICAgICAgIAogICAgICAgIAogICAgCiAgICAgICAgICAgIHZhciBjaXJjbGVfbWFya2VyXzUzZjI4ZjE4ZmU0ODRlNmM5MTczYjgzMmUwZTYxNTVhID0gTC5jaXJjbGVNYXJrZXIoCiAgICAgICAgICAgICAgICBbMS4zMTA3NTksMTAzLjg2NjI2Ml0sCiAgICAgICAgICAgICAgICB7CiAgImJ1YmJsaW5nTW91c2VFdmVudHMiOiB0cnVlLAogICJjb2xvciI6ICIjZmYwMDAwIiwKICAiZGFzaEFycmF5IjogbnVsbCwKICAiZGFzaE9mZnNldCI6IG51bGwsCiAgImZpbGwiOiB0cnVlLAogICJmaWxsQ29sb3IiOiAiI2ZmMDAwMCIsCiAgImZpbGxPcGFjaXR5IjogMC42LAogICJmaWxsUnVsZSI6ICJldmVub2RkIiwKICAibGluZUNhcCI6ICJyb3VuZCIsCiAgImxpbmVKb2luIjogInJvdW5kIiwKICAib3BhY2l0eSI6IDEuMCwKICAicmFkaXVzIjogNSwKICAic3Ryb2tlIjogdHJ1ZSwKICAid2VpZ2h0IjogMwp9CiAgICAgICAgICAgICAgICApLmFkZFRvKG1hcF82ZWQ0ZDViMzRmZjg0ODAzYTVhODI0NWZmZmI1OGFlMik7CiAgICAgICAgICAgIAogICAgCiAgICAgICAgICAgIHZhciBwb3B1cF81OGMyNWVhZTIzN2I0ZDI4YjE3Mjg0OTA4ZWYyZTE3YSA9IEwucG9wdXAoe21heFdpZHRoOiAnMzAwJ30pOwoKICAgICAgICAgICAgCiAgICAgICAgICAgICAgICB2YXIgaHRtbF8yNzU3ODVjZjBkODk0NTA1YmE4NzI4YWIzY2E0MGE5NyA9ICQoJzxkaXYgaWQ9Imh0bWxfMjc1Nzg1Y2YwZDg5NDUwNWJhODcyOGFiM2NhNDBhOTciIHN0eWxlPSJ3aWR0aDogMTAwLjAlOyBoZWlnaHQ6IDEwMC4wJTsiPkthbGxhbmcgMDwvZGl2PicpWzBdOwogICAgICAgICAgICAgICAgcG9wdXBfNThjMjVlYWUyMzdiNGQyOGIxNzI4NDkwOGVmMmUxN2Euc2V0Q29udGVudChodG1sXzI3NTc4NWNmMGQ4OTQ1MDViYTg3MjhhYjNjYTQwYTk3KTsKICAgICAgICAgICAgCgogICAgICAgICAgICBjaXJjbGVfbWFya2VyXzUzZjI4ZjE4ZmU0ODRlNmM5MTczYjgzMmUwZTYxNTVhLmJpbmRQb3B1cChwb3B1cF81OGMyNWVhZTIzN2I0ZDI4YjE3Mjg0OTA4ZWYyZTE3YSk7CgogICAgICAgICAgICAKICAgICAgICAKICAgIAogICAgICAgICAgICB2YXIgY2lyY2xlX21hcmtlcl8zZjNhMDBhMmE0NWE0Y2I4YTAwNDJiMjM2ZGNkNDFiNCA9IEwuY2lyY2xlTWFya2VyKAogICAgICAgICAgICAgICAgWzEuMjg4NjI0LDEwMy44Njk4MjddLAogICAgICAgICAgICAgICAgewogICJidWJibGluZ01vdXNlRXZlbnRzIjogdHJ1ZSwKICAiY29sb3IiOiAiIzgwZmZiNCIsCiAgImRhc2hBcnJheSI6IG51bGwsCiAgImRhc2hPZmZzZXQiOiBudWxsLAogICJmaWxsIjogdHJ1ZSwKICAiZmlsbENvbG9yIjogIiM4MGZmYjQiLAogICJmaWxsT3BhY2l0eSI6IDAuNiwKICAiZmlsbFJ1bGUiOiAiZXZlbm9kZCIsCiAgImxpbmVDYXAiOiAicm91bmQiLAogICJsaW5lSm9pbiI6ICJyb3VuZCIsCiAgIm9wYWNpdHkiOiAxLjAsCiAgInJhZGl1cyI6IDUsCiAgInN0cm9rZSI6IHRydWUsCiAgIndlaWdodCI6IDMKfQogICAgICAgICAgICAgICAgKS5hZGRUbyhtYXBfNmVkNGQ1YjM0ZmY4NDgwM2E1YTgyNDVmZmZiNThhZTIpOwogICAgICAgICAgICAKICAgIAogICAgICAgICAgICB2YXIgcG9wdXBfMTRjNzliMmY1ZjMwNGIwOTlkMjVhNTc0YmQ5MmFjYTcgPSBMLnBvcHVwKHttYXhXaWR0aDogJzMwMCd9KTsKCiAgICAgICAgICAgIAogICAgICAgICAgICAgICAgdmFyIGh0bWxfNGJhMjAwNTI2ZDFhNDA0YWI0N2EzOWE1NmMxNjI0NGEgPSAkKCc8ZGl2IGlkPSJodG1sXzRiYTIwMDUyNmQxYTQwNGFiNDdhMzlhNTZjMTYyNDRhIiBzdHlsZT0id2lkdGg6IDEwMC4wJTsgaGVpZ2h0OiAxMDAuMCU7Ij5NYXJpbmEgRWFzdCAzPC9kaXY+JylbMF07CiAgICAgICAgICAgICAgICBwb3B1cF8xNGM3OWIyZjVmMzA0YjA5OWQyNWE1NzRiZDkyYWNhNy5zZXRDb250ZW50KGh0bWxfNGJhMjAwNTI2ZDFhNDA0YWI0N2EzOWE1NmMxNjI0NGEpOwogICAgICAgICAgICAKCiAgICAgICAgICAgIGNpcmNsZV9tYXJrZXJfM2YzYTAwYTJhNDVhNGNiOGEwMDQyYjIzNmRjZDQxYjQuYmluZFBvcHVwKHBvcHVwXzE0Yzc5YjJmNWYzMDRiMDk5ZDI1YTU3NGJkOTJhY2E3KTsKCiAgICAgICAgICAgIAogICAgICAgIAogICAgCiAgICAgICAgICAgIHZhciBjaXJjbGVfbWFya2VyX2FjZjE4ZmRjM2E1NzQ2NWM5ZDBjODRlZGVjM2RjNmI2ID0gTC5jaXJjbGVNYXJrZXIoCiAgICAgICAgICAgICAgICBbMS4yNzY5OTgsMTAzLjg2MTUwMDJdLAogICAgICAgICAgICAgICAgewogICJidWJibGluZ01vdXNlRXZlbnRzIjogdHJ1ZSwKICAiY29sb3IiOiAiI2ZmMDAwMCIsCiAgImRhc2hBcnJheSI6IG51bGwsCiAgImRhc2hPZmZzZXQiOiBudWxsLAogICJmaWxsIjogdHJ1ZSwKICAiZmlsbENvbG9yIjogIiNmZjAwMDAiLAogICJmaWxsT3BhY2l0eSI6IDAuNiwKICAiZmlsbFJ1bGUiOiAiZXZlbm9kZCIsCiAgImxpbmVDYXAiOiAicm91bmQiLAogICJsaW5lSm9pbiI6ICJyb3VuZCIsCiAgIm9wYWNpdHkiOiAxLjAsCiAgInJhZGl1cyI6IDUsCiAgInN0cm9rZSI6IHRydWUsCiAgIndlaWdodCI6IDMKfQogICAgICAgICAgICAgICAgKS5hZGRUbyhtYXBfNmVkNGQ1YjM0ZmY4NDgwM2E1YTgyNDVmZmZiNThhZTIpOwogICAgICAgICAgICAKICAgIAogICAgICAgICAgICB2YXIgcG9wdXBfZjMyNTEwODBiZTdjNDdkZWE1NTAwNzBjMTg3MTNiZmQgPSBMLnBvcHVwKHttYXhXaWR0aDogJzMwMCd9KTsKCiAgICAgICAgICAgIAogICAgICAgICAgICAgICAgdmFyIGh0bWxfYWY5YzA1YzkzMjk4NDlmMDliZDY4YTk2YTVhNjA1NjEgPSAkKCc8ZGl2IGlkPSJodG1sX2FmOWMwNWM5MzI5ODQ5ZjA5YmQ2OGE5NmE1YTYwNTYxIiBzdHlsZT0id2lkdGg6IDEwMC4wJTsgaGVpZ2h0OiAxMDAuMCU7Ij5NYXJpbmEgU291dGggMDwvZGl2PicpWzBdOwogICAgICAgICAgICAgICAgcG9wdXBfZjMyNTEwODBiZTdjNDdkZWE1NTAwNzBjMTg3MTNiZmQuc2V0Q29udGVudChodG1sX2FmOWMwNWM5MzI5ODQ5ZjA5YmQ2OGE5NmE1YTYwNTYxKTsKICAgICAgICAgICAgCgogICAgICAgICAgICBjaXJjbGVfbWFya2VyX2FjZjE4ZmRjM2E1NzQ2NWM5ZDBjODRlZGVjM2RjNmI2LmJpbmRQb3B1cChwb3B1cF9mMzI1MTA4MGJlN2M0N2RlYTU1MDA3MGMxODcxM2JmZCk7CgogICAgICAgICAgICAKICAgICAgICAKICAgIAogICAgICAgICAgICB2YXIgY2lyY2xlX21hcmtlcl8zMTk2NmFhNzA5YzY0M2E2Yjg0NzY4Y2UzMjg5ZWIyYSA9IEwuY2lyY2xlTWFya2VyKAogICAgICAgICAgICAgICAgWzEuMzAyNjg4OSwxMDMuOTA3Mzk1Ml0sCiAgICAgICAgICAgICAgICB7CiAgImJ1YmJsaW5nTW91c2VFdmVudHMiOiB0cnVlLAogICJjb2xvciI6ICIjZmYwMDAwIiwKICAiZGFzaEFycmF5IjogbnVsbCwKICAiZGFzaE9mZnNldCI6IG51bGwsCiAgImZpbGwiOiB0cnVlLAogICJmaWxsQ29sb3IiOiAiI2ZmMDAwMCIsCiAgImZpbGxPcGFjaXR5IjogMC42LAogICJmaWxsUnVsZSI6ICJldmVub2RkIiwKICAibGluZUNhcCI6ICJyb3VuZCIsCiAgImxpbmVKb2luIjogInJvdW5kIiwKICAib3BhY2l0eSI6IDEuMCwKICAicmFkaXVzIjogNSwKICAic3Ryb2tlIjogdHJ1ZSwKICAid2VpZ2h0IjogMwp9CiAgICAgICAgICAgICAgICApLmFkZFRvKG1hcF82ZWQ0ZDViMzRmZjg0ODAzYTVhODI0NWZmZmI1OGFlMik7CiAgICAgICAgICAgIAogICAgCiAgICAgICAgICAgIHZhciBwb3B1cF9kNTkxYmQxNTIwY2Q0OGMyODk4NzQ5NWIxMGU0NWY2YSA9IEwucG9wdXAoe21heFdpZHRoOiAnMzAwJ30pOwoKICAgICAgICAgICAgCiAgICAgICAgICAgICAgICB2YXIgaHRtbF9jZTlkYTUxNGY5ODM0MWNiOGJiOTFhMjc0MzI1MzU1NCA9ICQoJzxkaXYgaWQ9Imh0bWxfY2U5ZGE1MTRmOTgzNDFjYjhiYjkxYTI3NDMyNTM1NTQiIHN0eWxlPSJ3aWR0aDogMTAwLjAlOyBoZWlnaHQ6IDEwMC4wJTsiPk1hcmluZSBQYXJhZGUgMDwvZGl2PicpWzBdOwogICAgICAgICAgICAgICAgcG9wdXBfZDU5MWJkMTUyMGNkNDhjMjg5ODc0OTViMTBlNDVmNmEuc2V0Q29udGVudChodG1sX2NlOWRhNTE0Zjk4MzQxY2I4YmI5MWEyNzQzMjUzNTU0KTsKICAgICAgICAgICAgCgogICAgICAgICAgICBjaXJjbGVfbWFya2VyXzMxOTY2YWE3MDljNjQzYTZiODQ3NjhjZTMyODllYjJhLmJpbmRQb3B1cChwb3B1cF9kNTkxYmQxNTIwY2Q0OGMyODk4NzQ5NWIxMGU0NWY2YSk7CgogICAgICAgICAgICAKICAgICAgICAKICAgIAogICAgICAgICAgICB2YXIgY2lyY2xlX21hcmtlcl80MzI4ZmU4MzI2NDA0MTJhOGEzYzNmNWU2YmZmNDI1MiA9IEwuY2lyY2xlTWFya2VyKAogICAgICAgICAgICAgICAgWzEuMjk5MDM1LDEwMy44NDU3NTRdLAogICAgICAgICAgICAgICAgewogICJidWJibGluZ01vdXNlRXZlbnRzIjogdHJ1ZSwKICAiY29sb3IiOiAiIzAwYjVlYiIsCiAgImRhc2hBcnJheSI6IG51bGwsCiAgImRhc2hPZmZzZXQiOiBudWxsLAogICJmaWxsIjogdHJ1ZSwKICAiZmlsbENvbG9yIjogIiMwMGI1ZWIiLAogICJmaWxsT3BhY2l0eSI6IDAuNiwKICAiZmlsbFJ1bGUiOiAiZXZlbm9kZCIsCiAgImxpbmVDYXAiOiAicm91bmQiLAogICJsaW5lSm9pbiI6ICJyb3VuZCIsCiAgIm9wYWNpdHkiOiAxLjAsCiAgInJhZGl1cyI6IDUsCiAgInN0cm9rZSI6IHRydWUsCiAgIndlaWdodCI6IDMKfQogICAgICAgICAgICAgICAgKS5hZGRUbyhtYXBfNmVkNGQ1YjM0ZmY4NDgwM2E1YTgyNDVmZmZiNThhZTIpOwogICAgICAgICAgICAKICAgIAogICAgICAgICAgICB2YXIgcG9wdXBfZjdmY2M2MWUyY2ViNDliMGFmYzhjN2NmNTVmMWRlNzcgPSBMLnBvcHVwKHttYXhXaWR0aDogJzMwMCd9KTsKCiAgICAgICAgICAgIAogICAgICAgICAgICAgICAgdmFyIGh0bWxfMmY1ZDBjODc1MzdhNDdiNGFmMGJjOGFjNmI0MGIyY2UgPSAkKCc8ZGl2IGlkPSJodG1sXzJmNWQwYzg3NTM3YTQ3YjRhZjBiYzhhYzZiNDBiMmNlIiBzdHlsZT0id2lkdGg6IDEwMC4wJTsgaGVpZ2h0OiAxMDAuMCU7Ij5NdXNldW0gMjwvZGl2PicpWzBdOwogICAgICAgICAgICAgICAgcG9wdXBfZjdmY2M2MWUyY2ViNDliMGFmYzhjN2NmNTVmMWRlNzcuc2V0Q29udGVudChodG1sXzJmNWQwYzg3NTM3YTQ3YjRhZjBiYzhhYzZiNDBiMmNlKTsKICAgICAgICAgICAgCgogICAgICAgICAgICBjaXJjbGVfbWFya2VyXzQzMjhmZTgzMjY0MDQxMmE4YTNjM2Y1ZTZiZmY0MjUyLmJpbmRQb3B1cChwb3B1cF9mN2ZjYzYxZTJjZWI0OWIwYWZjOGM3Y2Y1NWYxZGU3Nyk7CgogICAgICAgICAgICAKICAgICAgICAKICAgIAogICAgICAgICAgICB2YXIgY2lyY2xlX21hcmtlcl9hNTdiYzNjZWExNmU0NmE3YjVhYWFhMmI5ZTExNmExMCA9IEwuY2lyY2xlTWFya2VyKAogICAgICAgICAgICAgICAgWzEuMzEyNzk1OSwxMDMuODM4NTc4Nl0sCiAgICAgICAgICAgICAgICB7CiAgImJ1YmJsaW5nTW91c2VFdmVudHMiOiB0cnVlLAogICJjb2xvciI6ICIjZmYwMDAwIiwKICAiZGFzaEFycmF5IjogbnVsbCwKICAiZGFzaE9mZnNldCI6IG51bGwsCiAgImZpbGwiOiB0cnVlLAogICJmaWxsQ29sb3IiOiAiI2ZmMDAwMCIsCiAgImZpbGxPcGFjaXR5IjogMC42LAogICJmaWxsUnVsZSI6ICJldmVub2RkIiwKICAibGluZUNhcCI6ICJyb3VuZCIsCiAgImxpbmVKb2luIjogInJvdW5kIiwKICAib3BhY2l0eSI6IDEuMCwKICAicmFkaXVzIjogNSwKICAic3Ryb2tlIjogdHJ1ZSwKICAid2VpZ2h0IjogMwp9CiAgICAgICAgICAgICAgICApLmFkZFRvKG1hcF82ZWQ0ZDViMzRmZjg0ODAzYTVhODI0NWZmZmI1OGFlMik7CiAgICAgICAgICAgIAogICAgCiAgICAgICAgICAgIHZhciBwb3B1cF81NmM1Mjc3ODQ5ZGQ0MzhiOGY5MDVjZjA5NzFmZDA1NSA9IEwucG9wdXAoe21heFdpZHRoOiAnMzAwJ30pOwoKICAgICAgICAgICAgCiAgICAgICAgICAgICAgICB2YXIgaHRtbF83YTVjYzhkNzc3Zjg0MzM4YWIzZjk3Y2ZlMzIyMDkwYyA9ICQoJzxkaXYgaWQ9Imh0bWxfN2E1Y2M4ZDc3N2Y4NDMzOGFiM2Y5N2NmZTMyMjA5MGMiIHN0eWxlPSJ3aWR0aDogMTAwLjAlOyBoZWlnaHQ6IDEwMC4wJTsiPk5ld3RvbiAwPC9kaXY+JylbMF07CiAgICAgICAgICAgICAgICBwb3B1cF81NmM1Mjc3ODQ5ZGQ0MzhiOGY5MDVjZjA5NzFmZDA1NS5zZXRDb250ZW50KGh0bWxfN2E1Y2M4ZDc3N2Y4NDMzOGFiM2Y5N2NmZTMyMjA5MGMpOwogICAgICAgICAgICAKCiAgICAgICAgICAgIGNpcmNsZV9tYXJrZXJfYTU3YmMzY2VhMTZlNDZhN2I1YWFhYTJiOWUxMTZhMTAuYmluZFBvcHVwKHBvcHVwXzU2YzUyNzc4NDlkZDQzOGI4ZjkwNWNmMDk3MWZkMDU1KTsKCiAgICAgICAgICAgIAogICAgICAgIAogICAgCiAgICAgICAgICAgIHZhciBjaXJjbGVfbWFya2VyXzM5MmNlNmExMTU3NzQyMGZiOTU0Mzc5NGI3ZmJmNzIzID0gTC5jaXJjbGVNYXJrZXIoCiAgICAgICAgICAgICAgICBbMS4zMjAwODQyLDEwMy44NDM0OTI0XSwKICAgICAgICAgICAgICAgIHsKICAiYnViYmxpbmdNb3VzZUV2ZW50cyI6IHRydWUsCiAgImNvbG9yIjogIiNmZjAwMDAiLAogICJkYXNoQXJyYXkiOiBudWxsLAogICJkYXNoT2Zmc2V0IjogbnVsbCwKICAiZmlsbCI6IHRydWUsCiAgImZpbGxDb2xvciI6ICIjZmYwMDAwIiwKICAiZmlsbE9wYWNpdHkiOiAwLjYsCiAgImZpbGxSdWxlIjogImV2ZW5vZGQiLAogICJsaW5lQ2FwIjogInJvdW5kIiwKICAibGluZUpvaW4iOiAicm91bmQiLAogICJvcGFjaXR5IjogMS4wLAogICJyYWRpdXMiOiA1LAogICJzdHJva2UiOiB0cnVlLAogICJ3ZWlnaHQiOiAzCn0KICAgICAgICAgICAgICAgICkuYWRkVG8obWFwXzZlZDRkNWIzNGZmODQ4MDNhNWE4MjQ1ZmZmYjU4YWUyKTsKICAgICAgICAgICAgCiAgICAKICAgICAgICAgICAgdmFyIHBvcHVwXzVjMzI2ZjQ4NTgxNzQyOTE5OTdmZDM3OTg2MGY3OWQ4ID0gTC5wb3B1cCh7bWF4V2lkdGg6ICczMDAnfSk7CgogICAgICAgICAgICAKICAgICAgICAgICAgICAgIHZhciBodG1sXzhjNTllYjYzZWRiMTQxNTdiOWUyMjZkNmI2OTExMDMxID0gJCgnPGRpdiBpZD0iaHRtbF84YzU5ZWI2M2VkYjE0MTU3YjllMjI2ZDZiNjkxMTAzMSIgc3R5bGU9IndpZHRoOiAxMDAuMCU7IGhlaWdodDogMTAwLjAlOyI+Tm92ZW5hIDA8L2Rpdj4nKVswXTsKICAgICAgICAgICAgICAgIHBvcHVwXzVjMzI2ZjQ4NTgxNzQyOTE5OTdmZDM3OTg2MGY3OWQ4LnNldENvbnRlbnQoaHRtbF84YzU5ZWI2M2VkYjE0MTU3YjllMjI2ZDZiNjkxMTAzMSk7CiAgICAgICAgICAgIAoKICAgICAgICAgICAgY2lyY2xlX21hcmtlcl8zOTJjZTZhMTE1Nzc0MjBmYjk1NDM3OTRiN2ZiZjcyMy5iaW5kUG9wdXAocG9wdXBfNWMzMjZmNDg1ODE3NDI5MTk5N2ZkMzc5ODYwZjc5ZDgpOwoKICAgICAgICAgICAgCiAgICAgICAgCiAgICAKICAgICAgICAgICAgdmFyIGNpcmNsZV9tYXJrZXJfMWMyMDIyYmZlZjMzNDY0ZWE5ZDY2MmQwZWU3ZTBlODMgPSBMLmNpcmNsZU1hcmtlcigKICAgICAgICAgICAgICAgIFsxLjMwNTI3MiwxMDMuODMyODc1N10sCiAgICAgICAgICAgICAgICB7CiAgImJ1YmJsaW5nTW91c2VFdmVudHMiOiB0cnVlLAogICJjb2xvciI6ICIjMDBiNWViIiwKICAiZGFzaEFycmF5IjogbnVsbCwKICAiZGFzaE9mZnNldCI6IG51bGwsCiAgImZpbGwiOiB0cnVlLAogICJmaWxsQ29sb3IiOiAiIzAwYjVlYiIsCiAgImZpbGxPcGFjaXR5IjogMC42LAogICJmaWxsUnVsZSI6ICJldmVub2RkIiwKICAibGluZUNhcCI6ICJyb3VuZCIsCiAgImxpbmVKb2luIjogInJvdW5kIiwKICAib3BhY2l0eSI6IDEuMCwKICAicmFkaXVzIjogNSwKICAic3Ryb2tlIjogdHJ1ZSwKICAid2VpZ2h0IjogMwp9CiAgICAgICAgICAgICAgICApLmFkZFRvKG1hcF82ZWQ0ZDViMzRmZjg0ODAzYTVhODI0NWZmZmI1OGFlMik7CiAgICAgICAgICAgIAogICAgCiAgICAgICAgICAgIHZhciBwb3B1cF80M2FkMWE5MmRiNGI0MzAxYmE4ZDIyNjM3NDNkMDMyYiA9IEwucG9wdXAoe21heFdpZHRoOiAnMzAwJ30pOwoKICAgICAgICAgICAgCiAgICAgICAgICAgICAgICB2YXIgaHRtbF85MWMyYTUxNDc0NDk0MzRmYTQ4ODU1OTIzM2NhZGYzZiA9ICQoJzxkaXYgaWQ9Imh0bWxfOTFjMmE1MTQ3NDQ5NDM0ZmE0ODg1NTkyMzNjYWRmM2YiIHN0eWxlPSJ3aWR0aDogMTAwLjAlOyBoZWlnaHQ6IDEwMC4wJTsiPk9yY2hhcmQgMjwvZGl2PicpWzBdOwogICAgICAgICAgICAgICAgcG9wdXBfNDNhZDFhOTJkYjRiNDMwMWJhOGQyMjYzNzQzZDAzMmIuc2V0Q29udGVudChodG1sXzkxYzJhNTE0NzQ0OTQzNGZhNDg4NTU5MjMzY2FkZjNmKTsKICAgICAgICAgICAgCgogICAgICAgICAgICBjaXJjbGVfbWFya2VyXzFjMjAyMmJmZWYzMzQ2NGVhOWQ2NjJkMGVlN2UwZTgzLmJpbmRQb3B1cChwb3B1cF80M2FkMWE5MmRiNGI0MzAxYmE4ZDIyNjM3NDNkMDMyYik7CgogICAgICAgICAgICAKICAgICAgICAKICAgIAogICAgICAgICAgICB2YXIgY2lyY2xlX21hcmtlcl9hOTFhZjcxMDg1OWE0OTc3OGJjMGE5Y2MxZjVlZjM0YyA9IEwuY2lyY2xlTWFya2VyKAogICAgICAgICAgICAgICAgWzEuMjgyODY5NSwxMDMuODM3ODYwM10sCiAgICAgICAgICAgICAgICB7CiAgImJ1YmJsaW5nTW91c2VFdmVudHMiOiB0cnVlLAogICJjb2xvciI6ICIjMDBiNWViIiwKICAiZGFzaEFycmF5IjogbnVsbCwKICAiZGFzaE9mZnNldCI6IG51bGwsCiAgImZpbGwiOiB0cnVlLAogICJmaWxsQ29sb3IiOiAiIzAwYjVlYiIsCiAgImZpbGxPcGFjaXR5IjogMC42LAogICJmaWxsUnVsZSI6ICJldmVub2RkIiwKICAibGluZUNhcCI6ICJyb3VuZCIsCiAgImxpbmVKb2luIjogInJvdW5kIiwKICAib3BhY2l0eSI6IDEuMCwKICAicmFkaXVzIjogNSwKICAic3Ryb2tlIjogdHJ1ZSwKICAid2VpZ2h0IjogMwp9CiAgICAgICAgICAgICAgICApLmFkZFRvKG1hcF82ZWQ0ZDViMzRmZjg0ODAzYTVhODI0NWZmZmI1OGFlMik7CiAgICAgICAgICAgIAogICAgCiAgICAgICAgICAgIHZhciBwb3B1cF8yMTI5MmFmZDllMDc0NDU5OTRiODVmZjg1NGUyNzk2NCA9IEwucG9wdXAoe21heFdpZHRoOiAnMzAwJ30pOwoKICAgICAgICAgICAgCiAgICAgICAgICAgICAgICB2YXIgaHRtbF9mZDAwYTU1NzVlYTA0MTliYTk5YTM3ZWJmMGMwMWVlOCA9ICQoJzxkaXYgaWQ9Imh0bWxfZmQwMGE1NTc1ZWEwNDE5YmE5OWEzN2ViZjBjMDFlZTgiIHN0eWxlPSJ3aWR0aDogMTAwLjAlOyBoZWlnaHQ6IDEwMC4wJTsiPk91dHJhbSAyPC9kaXY+JylbMF07CiAgICAgICAgICAgICAgICBwb3B1cF8yMTI5MmFmZDllMDc0NDU5OTRiODVmZjg1NGUyNzk2NC5zZXRDb250ZW50KGh0bWxfZmQwMGE1NTc1ZWEwNDE5YmE5OWEzN2ViZjBjMDFlZTgpOwogICAgICAgICAgICAKCiAgICAgICAgICAgIGNpcmNsZV9tYXJrZXJfYTkxYWY3MTA4NTlhNDk3NzhiYzBhOWNjMWY1ZWYzNGMuYmluZFBvcHVwKHBvcHVwXzIxMjkyYWZkOWUwNzQ0NTk5NGI4NWZmODU0ZTI3OTY0KTsKCiAgICAgICAgICAgIAogICAgICAgIAogICAgCiAgICAgICAgICAgIHZhciBjaXJjbGVfbWFya2VyXzAyNWNjNjE5NGYxNzQ4OTM4MWRhMzMwYjczMjQwYzUyID0gTC5jaXJjbGVNYXJrZXIoCiAgICAgICAgICAgICAgICBbMS4yOTQ2MjM1LDEwMy44MDYwNDU0XSwKICAgICAgICAgICAgICAgIHsKICAiYnViYmxpbmdNb3VzZUV2ZW50cyI6IHRydWUsCiAgImNvbG9yIjogIiNmZjAwMDAiLAogICJkYXNoQXJyYXkiOiBudWxsLAogICJkYXNoT2Zmc2V0IjogbnVsbCwKICAiZmlsbCI6IHRydWUsCiAgImZpbGxDb2xvciI6ICIjZmYwMDAwIiwKICAiZmlsbE9wYWNpdHkiOiAwLjYsCiAgImZpbGxSdWxlIjogImV2ZW5vZGQiLAogICJsaW5lQ2FwIjogInJvdW5kIiwKICAibGluZUpvaW4iOiAicm91bmQiLAogICJvcGFjaXR5IjogMS4wLAogICJyYWRpdXMiOiA1LAogICJzdHJva2UiOiB0cnVlLAogICJ3ZWlnaHQiOiAzCn0KICAgICAgICAgICAgICAgICkuYWRkVG8obWFwXzZlZDRkNWIzNGZmODQ4MDNhNWE4MjQ1ZmZmYjU4YWUyKTsKICAgICAgICAgICAgCiAgICAKICAgICAgICAgICAgdmFyIHBvcHVwXzAwOWMxNzM2YWY1NjRjZTZiYjY5YWFjMTg3NDA5NWQzID0gTC5wb3B1cCh7bWF4V2lkdGg6ICczMDAnfSk7CgogICAgICAgICAgICAKICAgICAgICAgICAgICAgIHZhciBodG1sX2UzYmU2MjMwZDRiZjRiYjFiZjUwZTIwMzBlMGI4NjA1ID0gJCgnPGRpdiBpZD0iaHRtbF9lM2JlNjIzMGQ0YmY0YmIxYmY1MGUyMDMwZTBiODYwNSIgc3R5bGU9IndpZHRoOiAxMDAuMCU7IGhlaWdodDogMTAwLjAlOyI+UXVlZW5zdG93biAwPC9kaXY+JylbMF07CiAgICAgICAgICAgICAgICBwb3B1cF8wMDljMTczNmFmNTY0Y2U2YmI2OWFhYzE4NzQwOTVkMy5zZXRDb250ZW50KGh0bWxfZTNiZTYyMzBkNGJmNGJiMWJmNTBlMjAzMGUwYjg2MDUpOwogICAgICAgICAgICAKCiAgICAgICAgICAgIGNpcmNsZV9tYXJrZXJfMDI1Y2M2MTk0ZjE3NDg5MzgxZGEzMzBiNzMyNDBjNTIuYmluZFBvcHVwKHBvcHVwXzAwOWMxNzM2YWY1NjRjZTZiYjY5YWFjMTg3NDA5NWQzKTsKCiAgICAgICAgICAgIAogICAgICAgIAogICAgCiAgICAgICAgICAgIHZhciBjaXJjbGVfbWFya2VyX2FiYjdhZmE1NDk4MjQ3MzFiY2VlNWM3M2YwYjQ2MTkwID0gTC5jaXJjbGVNYXJrZXIoCiAgICAgICAgICAgICAgICBbMS4yOTU4NDgsMTAzLjgzNzQwOF0sCiAgICAgICAgICAgICAgICB7CiAgImJ1YmJsaW5nTW91c2VFdmVudHMiOiB0cnVlLAogICJjb2xvciI6ICIjMDBiNWViIiwKICAiZGFzaEFycmF5IjogbnVsbCwKICAiZGFzaE9mZnNldCI6IG51bGwsCiAgImZpbGwiOiB0cnVlLAogICJmaWxsQ29sb3IiOiAiIzAwYjVlYiIsCiAgImZpbGxPcGFjaXR5IjogMC42LAogICJmaWxsUnVsZSI6ICJldmVub2RkIiwKICAibGluZUNhcCI6ICJyb3VuZCIsCiAgImxpbmVKb2luIjogInJvdW5kIiwKICAib3BhY2l0eSI6IDEuMCwKICAicmFkaXVzIjogNSwKICAic3Ryb2tlIjogdHJ1ZSwKICAid2VpZ2h0IjogMwp9CiAgICAgICAgICAgICAgICApLmFkZFRvKG1hcF82ZWQ0ZDViMzRmZjg0ODAzYTVhODI0NWZmZmI1OGFlMik7CiAgICAgICAgICAgIAogICAgCiAgICAgICAgICAgIHZhciBwb3B1cF82MTMzZjgwZmUzYzY0OWMzOGFkOWY1NDRhYzc4YWM1MCA9IEwucG9wdXAoe21heFdpZHRoOiAnMzAwJ30pOwoKICAgICAgICAgICAgCiAgICAgICAgICAgICAgICB2YXIgaHRtbF9mN2IzMDUxODBhYjA0ZGEzYWUxMDE4ZTYxOTVmODM5OCA9ICQoJzxkaXYgaWQ9Imh0bWxfZjdiMzA1MTgwYWIwNGRhM2FlMTAxOGU2MTk1ZjgzOTgiIHN0eWxlPSJ3aWR0aDogMTAwLjAlOyBoZWlnaHQ6IDEwMC4wJTsiPlJpdmVyIFZhbGxleSAyPC9kaXY+JylbMF07CiAgICAgICAgICAgICAgICBwb3B1cF82MTMzZjgwZmUzYzY0OWMzOGFkOWY1NDRhYzc4YWM1MC5zZXRDb250ZW50KGh0bWxfZjdiMzA1MTgwYWIwNGRhM2FlMTAxOGU2MTk1ZjgzOTgpOwogICAgICAgICAgICAKCiAgICAgICAgICAgIGNpcmNsZV9tYXJrZXJfYWJiN2FmYTU0OTgyNDczMWJjZWU1YzczZjBiNDYxOTAuYmluZFBvcHVwKHBvcHVwXzYxMzNmODBmZTNjNjQ5YzM4YWQ5ZjU0NGFjNzhhYzUwKTsKCiAgICAgICAgICAgIAogICAgICAgIAogICAgCiAgICAgICAgICAgIHZhciBjaXJjbGVfbWFya2VyXzRjODhkNDc1ODIwYzRlY2RhNGYwNGY5MzMyYzgxZDJhID0gTC5jaXJjbGVNYXJrZXIoCiAgICAgICAgICAgICAgICBbMS4zMDM5ODM5LDEwMy44NTI2MTE4XSwKICAgICAgICAgICAgICAgIHsKICAiYnViYmxpbmdNb3VzZUV2ZW50cyI6IHRydWUsCiAgImNvbG9yIjogIiMwMGI1ZWIiLAogICJkYXNoQXJyYXkiOiBudWxsLAogICJkYXNoT2Zmc2V0IjogbnVsbCwKICAiZmlsbCI6IHRydWUsCiAgImZpbGxDb2xvciI6ICIjMDBiNWViIiwKICAiZmlsbE9wYWNpdHkiOiAwLjYsCiAgImZpbGxSdWxlIjogImV2ZW5vZGQiLAogICJsaW5lQ2FwIjogInJvdW5kIiwKICAibGluZUpvaW4iOiAicm91bmQiLAogICJvcGFjaXR5IjogMS4wLAogICJyYWRpdXMiOiA1LAogICJzdHJva2UiOiB0cnVlLAogICJ3ZWlnaHQiOiAzCn0KICAgICAgICAgICAgICAgICkuYWRkVG8obWFwXzZlZDRkNWIzNGZmODQ4MDNhNWE4MjQ1ZmZmYjU4YWUyKTsKICAgICAgICAgICAgCiAgICAKICAgICAgICAgICAgdmFyIHBvcHVwXzM3MjE1OWQ4MjM2ZjQ1MTBhNmJmMGQ3Y2ZkZGFjNGNiID0gTC5wb3B1cCh7bWF4V2lkdGg6ICczMDAnfSk7CgogICAgICAgICAgICAKICAgICAgICAgICAgICAgIHZhciBodG1sXzUzYzlhNjJmMWExYjQ0ODZhN2I2NDVhNjc3MzllNmVlID0gJCgnPGRpdiBpZD0iaHRtbF81M2M5YTYyZjFhMWI0NDg2YTdiNjQ1YTY3NzM5ZTZlZSIgc3R5bGU9IndpZHRoOiAxMDAuMCU7IGhlaWdodDogMTAwLjAlOyI+Um9jaG9yIDI8L2Rpdj4nKVswXTsKICAgICAgICAgICAgICAgIHBvcHVwXzM3MjE1OWQ4MjM2ZjQ1MTBhNmJmMGQ3Y2ZkZGFjNGNiLnNldENvbnRlbnQoaHRtbF81M2M5YTYyZjFhMWI0NDg2YTdiNjQ1YTY3NzM5ZTZlZSk7CiAgICAgICAgICAgIAoKICAgICAgICAgICAgY2lyY2xlX21hcmtlcl80Yzg4ZDQ3NTgyMGM0ZWNkYTRmMDRmOTMzMmM4MWQyYS5iaW5kUG9wdXAocG9wdXBfMzcyMTU5ZDgyMzZmNDUxMGE2YmYwZDdjZmRkYWM0Y2IpOwoKICAgICAgICAgICAgCiAgICAgICAgCiAgICAKICAgICAgICAgICAgdmFyIGNpcmNsZV9tYXJrZXJfZTY0YTYxZWJkODJlNGEwODkyMmE4MWNlNDE4ODkzZjIgPSBMLmNpcmNsZU1hcmtlcigKICAgICAgICAgICAgICAgIFsxLjI4OTE3ODM1LDEwMy44NDUxNTQzMTc2Nl0sCiAgICAgICAgICAgICAgICB7CiAgImJ1YmJsaW5nTW91c2VFdmVudHMiOiB0cnVlLAogICJjb2xvciI6ICIjMDBiNWViIiwKICAiZGFzaEFycmF5IjogbnVsbCwKICAiZGFzaE9mZnNldCI6IG51bGwsCiAgImZpbGwiOiB0cnVlLAogICJmaWxsQ29sb3IiOiAiIzAwYjVlYiIsCiAgImZpbGxPcGFjaXR5IjogMC42LAogICJmaWxsUnVsZSI6ICJldmVub2RkIiwKICAibGluZUNhcCI6ICJyb3VuZCIsCiAgImxpbmVKb2luIjogInJvdW5kIiwKICAib3BhY2l0eSI6IDEuMCwKICAicmFkaXVzIjogNSwKICAic3Ryb2tlIjogdHJ1ZSwKICAid2VpZ2h0IjogMwp9CiAgICAgICAgICAgICAgICApLmFkZFRvKG1hcF82ZWQ0ZDViMzRmZjg0ODAzYTVhODI0NWZmZmI1OGFlMik7CiAgICAgICAgICAgIAogICAgCiAgICAgICAgICAgIHZhciBwb3B1cF9jOTljYWIwOTRmNWM0YWY3YjVkOWNjNDBmZDYwZmM0NSA9IEwucG9wdXAoe21heFdpZHRoOiAnMzAwJ30pOwoKICAgICAgICAgICAgCiAgICAgICAgICAgICAgICB2YXIgaHRtbF80NWM1ZjFiYTEwYmQ0YTYzODI0NjVmYWEzOTQ3ZTMxNyA9ICQoJzxkaXYgaWQ9Imh0bWxfNDVjNWYxYmExMGJkNGE2MzgyNDY1ZmFhMzk0N2UzMTciIHN0eWxlPSJ3aWR0aDogMTAwLjAlOyBoZWlnaHQ6IDEwMC4wJTsiPlNpbmdhcG9yZSBSaXZlciAyPC9kaXY+JylbMF07CiAgICAgICAgICAgICAgICBwb3B1cF9jOTljYWIwOTRmNWM0YWY3YjVkOWNjNDBmZDYwZmM0NS5zZXRDb250ZW50KGh0bWxfNDVjNWYxYmExMGJkNGE2MzgyNDY1ZmFhMzk0N2UzMTcpOwogICAgICAgICAgICAKCiAgICAgICAgICAgIGNpcmNsZV9tYXJrZXJfZTY0YTYxZWJkODJlNGEwODkyMmE4MWNlNDE4ODkzZjIuYmluZFBvcHVwKHBvcHVwX2M5OWNhYjA5NGY1YzRhZjdiNWQ5Y2M0MGZkNjBmYzQ1KTsKCiAgICAgICAgICAgIAogICAgICAgIAogICAgCiAgICAgICAgICAgIHZhciBjaXJjbGVfbWFya2VyXzdhN2M3NzZhZTBmOTRhMDlhNjU0MjA5YzFhMjNhMjZlID0gTC5jaXJjbGVNYXJrZXIoCiAgICAgICAgICAgICAgICBbMS4yNTE2MDgsMTAzLjgyNDcxMV0sCiAgICAgICAgICAgICAgICB7CiAgImJ1YmJsaW5nTW91c2VFdmVudHMiOiB0cnVlLAogICJjb2xvciI6ICIjODBmZmI0IiwKICAiZGFzaEFycmF5IjogbnVsbCwKICAiZGFzaE9mZnNldCI6IG51bGwsCiAgImZpbGwiOiB0cnVlLAogICJmaWxsQ29sb3IiOiAiIzgwZmZiNCIsCiAgImZpbGxPcGFjaXR5IjogMC42LAogICJmaWxsUnVsZSI6ICJldmVub2RkIiwKICAibGluZUNhcCI6ICJyb3VuZCIsCiAgImxpbmVKb2luIjogInJvdW5kIiwKICAib3BhY2l0eSI6IDEuMCwKICAicmFkaXVzIjogNSwKICAic3Ryb2tlIjogdHJ1ZSwKICAid2VpZ2h0IjogMwp9CiAgICAgICAgICAgICAgICApLmFkZFRvKG1hcF82ZWQ0ZDViMzRmZjg0ODAzYTVhODI0NWZmZmI1OGFlMik7CiAgICAgICAgICAgIAogICAgCiAgICAgICAgICAgIHZhciBwb3B1cF9mMTMzNGE5NzA3M2E0ZjFjYTg1M2RjM2E2N2Q4YzllZiA9IEwucG9wdXAoe21heFdpZHRoOiAnMzAwJ30pOwoKICAgICAgICAgICAgCiAgICAgICAgICAgICAgICB2YXIgaHRtbF8wYTlmM2QyMWRkMmY0ZTk4YmMyYWNhOGRkNjY3MTYxZCA9ICQoJzxkaXYgaWQ9Imh0bWxfMGE5ZjNkMjFkZDJmNGU5OGJjMmFjYThkZDY2NzE2MWQiIHN0eWxlPSJ3aWR0aDogMTAwLjAlOyBoZWlnaHQ6IDEwMC4wJTsiPlNvdXRoZXJuIElzbGFuZHMgMzwvZGl2PicpWzBdOwogICAgICAgICAgICAgICAgcG9wdXBfZjEzMzRhOTcwNzNhNGYxY2E4NTNkYzNhNjdkOGM5ZWYuc2V0Q29udGVudChodG1sXzBhOWYzZDIxZGQyZjRlOThiYzJhY2E4ZGQ2NjcxNjFkKTsKICAgICAgICAgICAgCgogICAgICAgICAgICBjaXJjbGVfbWFya2VyXzdhN2M3NzZhZTBmOTRhMDlhNjU0MjA5YzFhMjNhMjZlLmJpbmRQb3B1cChwb3B1cF9mMTMzNGE5NzA3M2E0ZjFjYTg1M2RjM2E2N2Q4YzllZik7CgogICAgICAgICAgICAKICAgICAgICAKICAgIAogICAgICAgICAgICB2YXIgY2lyY2xlX21hcmtlcl83ODI5YzA3MWU0M2Q0MzczODgzMjMxNjdkMzNiYmU0NCA9IEwuY2lyY2xlTWFya2VyKAogICAgICAgICAgICAgICAgWzEuMjc4MzMyOSwxMDMuODUyNjAzM10sCiAgICAgICAgICAgICAgICB7CiAgImJ1YmJsaW5nTW91c2VFdmVudHMiOiB0cnVlLAogICJjb2xvciI6ICIjMDBiNWViIiwKICAiZGFzaEFycmF5IjogbnVsbCwKICAiZGFzaE9mZnNldCI6IG51bGwsCiAgImZpbGwiOiB0cnVlLAogICJmaWxsQ29sb3IiOiAiIzAwYjVlYiIsCiAgImZpbGxPcGFjaXR5IjogMC42LAogICJmaWxsUnVsZSI6ICJldmVub2RkIiwKICAibGluZUNhcCI6ICJyb3VuZCIsCiAgImxpbmVKb2luIjogInJvdW5kIiwKICAib3BhY2l0eSI6IDEuMCwKICAicmFkaXVzIjogNSwKICAic3Ryb2tlIjogdHJ1ZSwKICAid2VpZ2h0IjogMwp9CiAgICAgICAgICAgICAgICApLmFkZFRvKG1hcF82ZWQ0ZDViMzRmZjg0ODAzYTVhODI0NWZmZmI1OGFlMik7CiAgICAgICAgICAgIAogICAgCiAgICAgICAgICAgIHZhciBwb3B1cF83OGVkYmVlMTNkZDE0MWUzOTdmYjFjNmFhNTVjNDRmYiA9IEwucG9wdXAoe21heFdpZHRoOiAnMzAwJ30pOwoKICAgICAgICAgICAgCiAgICAgICAgICAgICAgICB2YXIgaHRtbF84MDYxZDA1YmQzMDQ0MzBjOWE3YmE0NGFjN2FlMjA5YyA9ICQoJzxkaXYgaWQ9Imh0bWxfODA2MWQwNWJkMzA0NDMwYzlhN2JhNDRhYzdhZTIwOWMiIHN0eWxlPSJ3aWR0aDogMTAwLjAlOyBoZWlnaHQ6IDEwMC4wJTsiPlN0cmFpdHMgVmlldyAyPC9kaXY+JylbMF07CiAgICAgICAgICAgICAgICBwb3B1cF83OGVkYmVlMTNkZDE0MWUzOTdmYjFjNmFhNTVjNDRmYi5zZXRDb250ZW50KGh0bWxfODA2MWQwNWJkMzA0NDMwYzlhN2JhNDRhYzdhZTIwOWMpOwogICAgICAgICAgICAKCiAgICAgICAgICAgIGNpcmNsZV9tYXJrZXJfNzgyOWMwNzFlNDNkNDM3Mzg4MzIzMTY3ZDMzYmJlNDQuYmluZFBvcHVwKHBvcHVwXzc4ZWRiZWUxM2RkMTQxZTM5N2ZiMWM2YWE1NWM0NGZiKTsKCiAgICAgICAgICAgIAogICAgICAgIAogICAgCiAgICAgICAgICAgIHZhciBjaXJjbGVfbWFya2VyX2RmNzZjZGM2MGE1YjQ3YzBiNTlmNDViM2Y5ZDA5NjAyID0gTC5jaXJjbGVNYXJrZXIoCiAgICAgICAgICAgICAgICBbMS4zMDYwNDQzLDEwMy44MTUyODA0XSwKICAgICAgICAgICAgICAgIHsKICAiYnViYmxpbmdNb3VzZUV2ZW50cyI6IHRydWUsCiAgImNvbG9yIjogIiM4MGZmYjQiLAogICJkYXNoQXJyYXkiOiBudWxsLAogICJkYXNoT2Zmc2V0IjogbnVsbCwKICAiZmlsbCI6IHRydWUsCiAgImZpbGxDb2xvciI6ICIjODBmZmI0IiwKICAiZmlsbE9wYWNpdHkiOiAwLjYsCiAgImZpbGxSdWxlIjogImV2ZW5vZGQiLAogICJsaW5lQ2FwIjogInJvdW5kIiwKICAibGluZUpvaW4iOiAicm91bmQiLAogICJvcGFjaXR5IjogMS4wLAogICJyYWRpdXMiOiA1LAogICJzdHJva2UiOiB0cnVlLAogICJ3ZWlnaHQiOiAzCn0KICAgICAgICAgICAgICAgICkuYWRkVG8obWFwXzZlZDRkNWIzNGZmODQ4MDNhNWE4MjQ1ZmZmYjU4YWUyKTsKICAgICAgICAgICAgCiAgICAKICAgICAgICAgICAgdmFyIHBvcHVwXzM0OWZiOWYxNGM3ODQ1NmViOTcxNGFmM2M3OTZjNjMzID0gTC5wb3B1cCh7bWF4V2lkdGg6ICczMDAnfSk7CgogICAgICAgICAgICAKICAgICAgICAgICAgICAgIHZhciBodG1sXzZkZjEzODg1NWYxYTQwOWQ4Mjk1NWU1N2MwNWU2YzRmID0gJCgnPGRpdiBpZD0iaHRtbF82ZGYxMzg4NTVmMWE0MDlkODI5NTVlNTdjMDVlNmM0ZiIgc3R5bGU9IndpZHRoOiAxMDAuMCU7IGhlaWdodDogMTAwLjAlOyI+VGFuZ2xpbiAzPC9kaXY+JylbMF07CiAgICAgICAgICAgICAgICBwb3B1cF8zNDlmYjlmMTRjNzg0NTZlYjk3MTRhZjNjNzk2YzYzMy5zZXRDb250ZW50KGh0bWxfNmRmMTM4ODU1ZjFhNDA5ZDgyOTU1ZTU3YzA1ZTZjNGYpOwogICAgICAgICAgICAKCiAgICAgICAgICAgIGNpcmNsZV9tYXJrZXJfZGY3NmNkYzYwYTViNDdjMGI1OWY0NWIzZjlkMDk2MDIuYmluZFBvcHVwKHBvcHVwXzM0OWZiOWYxNGM3ODQ1NmViOTcxNGFmM2M3OTZjNjMzKTsKCiAgICAgICAgICAgIAogICAgICAgIAogICAgCiAgICAgICAgICAgIHZhciBjaXJjbGVfbWFya2VyXzFmNThkYmU5YTAwZDQ4MmI4NWU1NTViYTE3ODE5ZTJjID0gTC5jaXJjbGVNYXJrZXIoCiAgICAgICAgICAgICAgICBbMS4zMzUzOTA2LDEwMy44NDk3NDE0XSwKICAgICAgICAgICAgICAgIHsKICAiYnViYmxpbmdNb3VzZUV2ZW50cyI6IHRydWUsCiAgImNvbG9yIjogIiNmZjAwMDAiLAogICJkYXNoQXJyYXkiOiBudWxsLAogICJkYXNoT2Zmc2V0IjogbnVsbCwKICAiZmlsbCI6IHRydWUsCiAgImZpbGxDb2xvciI6ICIjZmYwMDAwIiwKICAiZmlsbE9wYWNpdHkiOiAwLjYsCiAgImZpbGxSdWxlIjogImV2ZW5vZGQiLAogICJsaW5lQ2FwIjogInJvdW5kIiwKICAibGluZUpvaW4iOiAicm91bmQiLAogICJvcGFjaXR5IjogMS4wLAogICJyYWRpdXMiOiA1LAogICJzdHJva2UiOiB0cnVlLAogICJ3ZWlnaHQiOiAzCn0KICAgICAgICAgICAgICAgICkuYWRkVG8obWFwXzZlZDRkNWIzNGZmODQ4MDNhNWE4MjQ1ZmZmYjU4YWUyKTsKICAgICAgICAgICAgCiAgICAKICAgICAgICAgICAgdmFyIHBvcHVwXzdhNDZhZjNlMmIzMDQzNmVhMjAxMTZkNTA5YmVjZTY5ID0gTC5wb3B1cCh7bWF4V2lkdGg6ICczMDAnfSk7CgogICAgICAgICAgICAKICAgICAgICAgICAgICAgIHZhciBodG1sX2U0YjI3Y2M2OTM3NDQ3MjE4YTI3MDBhNTllNTU4YmFlID0gJCgnPGRpdiBpZD0iaHRtbF9lNGIyN2NjNjkzNzQ0NzIxOGEyNzAwYTU5ZTU1OGJhZSIgc3R5bGU9IndpZHRoOiAxMDAuMCU7IGhlaWdodDogMTAwLjAlOyI+VG9hIFBheW9oIDA8L2Rpdj4nKVswXTsKICAgICAgICAgICAgICAgIHBvcHVwXzdhNDZhZjNlMmIzMDQzNmVhMjAxMTZkNTA5YmVjZTY5LnNldENvbnRlbnQoaHRtbF9lNGIyN2NjNjkzNzQ0NzIxOGEyNzAwYTU5ZTU1OGJhZSk7CiAgICAgICAgICAgIAoKICAgICAgICAgICAgY2lyY2xlX21hcmtlcl8xZjU4ZGJlOWEwMGQ0ODJiODVlNTU1YmExNzgxOWUyYy5iaW5kUG9wdXAocG9wdXBfN2E0NmFmM2UyYjMwNDM2ZWEyMDExNmQ1MDliZWNlNjkpOwoKICAgICAgICAgICAgCiAgICAgICAgCiAgICAKICAgICAgICAgICAgdmFyIGNpcmNsZV9tYXJrZXJfY2Y2ZDc3OGZjYTU0NGY0NDg2MWFkZjFmNWYzYmQ0MTUgPSBMLmNpcmNsZU1hcmtlcigKICAgICAgICAgICAgICAgIFsxLjMyMzk3NjUsMTAzLjkzMDIxNl0sCiAgICAgICAgICAgICAgICB7CiAgImJ1YmJsaW5nTW91c2VFdmVudHMiOiB0cnVlLAogICJjb2xvciI6ICIjZmYwMDAwIiwKICAiZGFzaEFycmF5IjogbnVsbCwKICAiZGFzaE9mZnNldCI6IG51bGwsCiAgImZpbGwiOiB0cnVlLAogICJmaWxsQ29sb3IiOiAiI2ZmMDAwMCIsCiAgImZpbGxPcGFjaXR5IjogMC42LAogICJmaWxsUnVsZSI6ICJldmVub2RkIiwKICAibGluZUNhcCI6ICJyb3VuZCIsCiAgImxpbmVKb2luIjogInJvdW5kIiwKICAib3BhY2l0eSI6IDEuMCwKICAicmFkaXVzIjogNSwKICAic3Ryb2tlIjogdHJ1ZSwKICAid2VpZ2h0IjogMwp9CiAgICAgICAgICAgICAgICApLmFkZFRvKG1hcF82ZWQ0ZDViMzRmZjg0ODAzYTVhODI0NWZmZmI1OGFlMik7CiAgICAgICAgICAgIAogICAgCiAgICAgICAgICAgIHZhciBwb3B1cF9mNzNhNGQyMWQ0NDA0MTkyYTQxODJhYTZkMmVlMzhjMCA9IEwucG9wdXAoe21heFdpZHRoOiAnMzAwJ30pOwoKICAgICAgICAgICAgCiAgICAgICAgICAgICAgICB2YXIgaHRtbF8zZDYzYjViNzFmZmE0MmUwOGFjNzY3Y2JhMzA0YzQyZCA9ICQoJzxkaXYgaWQ9Imh0bWxfM2Q2M2I1YjcxZmZhNDJlMDhhYzc2N2NiYTMwNGM0MmQiIHN0eWxlPSJ3aWR0aDogMTAwLjAlOyBoZWlnaHQ6IDEwMC4wJTsiPkJlZG9rIDA8L2Rpdj4nKVswXTsKICAgICAgICAgICAgICAgIHBvcHVwX2Y3M2E0ZDIxZDQ0MDQxOTJhNDE4MmFhNmQyZWUzOGMwLnNldENvbnRlbnQoaHRtbF8zZDYzYjViNzFmZmE0MmUwOGFjNzY3Y2JhMzA0YzQyZCk7CiAgICAgICAgICAgIAoKICAgICAgICAgICAgY2lyY2xlX21hcmtlcl9jZjZkNzc4ZmNhNTQ0ZjQ0ODYxYWRmMWY1ZjNiZDQxNS5iaW5kUG9wdXAocG9wdXBfZjczYTRkMjFkNDQwNDE5MmE0MTgyYWE2ZDJlZTM4YzApOwoKICAgICAgICAgICAgCiAgICAgICAgCiAgICAKICAgICAgICAgICAgdmFyIGNpcmNsZV9tYXJrZXJfMTdmNmRjY2I4MzU4NDE3ZGFhNTFiZDlkOWRhOWY1YWUgPSBMLmNpcmNsZU1hcmtlcigKICAgICAgICAgICAgICAgIFsxLjM1MjUxNiwxMDMuOTg3MDA2OTY3NDEyXSwKICAgICAgICAgICAgICAgIHsKICAiYnViYmxpbmdNb3VzZUV2ZW50cyI6IHRydWUsCiAgImNvbG9yIjogIiM4MGZmYjQiLAogICJkYXNoQXJyYXkiOiBudWxsLAogICJkYXNoT2Zmc2V0IjogbnVsbCwKICAiZmlsbCI6IHRydWUsCiAgImZpbGxDb2xvciI6ICIjODBmZmI0IiwKICAiZmlsbE9wYWNpdHkiOiAwLjYsCiAgImZpbGxSdWxlIjogImV2ZW5vZGQiLAogICJsaW5lQ2FwIjogInJvdW5kIiwKICAibGluZUpvaW4iOiAicm91bmQiLAogICJvcGFjaXR5IjogMS4wLAogICJyYWRpdXMiOiA1LAogICJzdHJva2UiOiB0cnVlLAogICJ3ZWlnaHQiOiAzCn0KICAgICAgICAgICAgICAgICkuYWRkVG8obWFwXzZlZDRkNWIzNGZmODQ4MDNhNWE4MjQ1ZmZmYjU4YWUyKTsKICAgICAgICAgICAgCiAgICAKICAgICAgICAgICAgdmFyIHBvcHVwXzkzYjI3YWJhNjI5YzQ5ZTVhZTMyZmQ5ZTZiOTdjNzMxID0gTC5wb3B1cCh7bWF4V2lkdGg6ICczMDAnfSk7CgogICAgICAgICAgICAKICAgICAgICAgICAgICAgIHZhciBodG1sXzIyMjU3NTAxMjNjMDRlYzE5MmM2NTBhMGE5ZWUxNTE4ID0gJCgnPGRpdiBpZD0iaHRtbF8yMjI1NzUwMTIzYzA0ZWMxOTJjNjUwYTBhOWVlMTUxOCIgc3R5bGU9IndpZHRoOiAxMDAuMCU7IGhlaWdodDogMTAwLjAlOyI+Q2hhbmdpIDM8L2Rpdj4nKVswXTsKICAgICAgICAgICAgICAgIHBvcHVwXzkzYjI3YWJhNjI5YzQ5ZTVhZTMyZmQ5ZTZiOTdjNzMxLnNldENvbnRlbnQoaHRtbF8yMjI1NzUwMTIzYzA0ZWMxOTJjNjUwYTBhOWVlMTUxOCk7CiAgICAgICAgICAgIAoKICAgICAgICAgICAgY2lyY2xlX21hcmtlcl8xN2Y2ZGNjYjgzNTg0MTdkYWE1MWJkOWQ5ZGE5ZjVhZS5iaW5kUG9wdXAocG9wdXBfOTNiMjdhYmE2MjljNDllNWFlMzJmZDllNmI5N2M3MzEpOwoKICAgICAgICAgICAgCiAgICAgICAgCiAgICAKICAgICAgICAgICAgdmFyIGNpcmNsZV9tYXJrZXJfOWVlZTFmMjEzZTk5NGJhZTgwMTM5NDY5MTFiMTZiMGYgPSBMLmNpcmNsZU1hcmtlcigKICAgICAgICAgICAgICAgIFsxLjMxNjg0OTYsMTA0LjAyMDY0OTRdLAogICAgICAgICAgICAgICAgewogICJidWJibGluZ01vdXNlRXZlbnRzIjogdHJ1ZSwKICAiY29sb3IiOiAiI2ZmYjM2MCIsCiAgImRhc2hBcnJheSI6IG51bGwsCiAgImRhc2hPZmZzZXQiOiBudWxsLAogICJmaWxsIjogdHJ1ZSwKICAiZmlsbENvbG9yIjogIiNmZmIzNjAiLAogICJmaWxsT3BhY2l0eSI6IDAuNiwKICAiZmlsbFJ1bGUiOiAiZXZlbm9kZCIsCiAgImxpbmVDYXAiOiAicm91bmQiLAogICJsaW5lSm9pbiI6ICJyb3VuZCIsCiAgIm9wYWNpdHkiOiAxLjAsCiAgInJhZGl1cyI6IDUsCiAgInN0cm9rZSI6IHRydWUsCiAgIndlaWdodCI6IDMKfQogICAgICAgICAgICAgICAgKS5hZGRUbyhtYXBfNmVkNGQ1YjM0ZmY4NDgwM2E1YTgyNDVmZmZiNThhZTIpOwogICAgICAgICAgICAKICAgIAogICAgICAgICAgICB2YXIgcG9wdXBfZmE4YThhNDQ4OTE3NDE3ZGE1YjY4N2JhOTc4Zjk2YTcgPSBMLnBvcHVwKHttYXhXaWR0aDogJzMwMCd9KTsKCiAgICAgICAgICAgIAogICAgICAgICAgICAgICAgdmFyIGh0bWxfNWJhNWY3YWVlOGNlNGY1NGJmNDQ5MGFkY2I0ZWUxNjYgPSAkKCc8ZGl2IGlkPSJodG1sXzViYTVmN2FlZThjZTRmNTRiZjQ0OTBhZGNiNGVlMTY2IiBzdHlsZT0id2lkdGg6IDEwMC4wJTsgaGVpZ2h0OiAxMDAuMCU7Ij5DaGFuZ2kgQmF5IDQ8L2Rpdj4nKVswXTsKICAgICAgICAgICAgICAgIHBvcHVwX2ZhOGE4YTQ0ODkxNzQxN2RhNWI2ODdiYTk3OGY5NmE3LnNldENvbnRlbnQoaHRtbF81YmE1ZjdhZWU4Y2U0ZjU0YmY0NDkwYWRjYjRlZTE2Nik7CiAgICAgICAgICAgIAoKICAgICAgICAgICAgY2lyY2xlX21hcmtlcl85ZWVlMWYyMTNlOTk0YmFlODAxMzk0NjkxMWIxNmIwZi5iaW5kUG9wdXAocG9wdXBfZmE4YThhNDQ4OTE3NDE3ZGE1YjY4N2JhOTc4Zjk2YTcpOwoKICAgICAgICAgICAgCiAgICAgICAgCiAgICAKICAgICAgICAgICAgdmFyIGNpcmNsZV9tYXJrZXJfN2JkOGJiY2IxZjAxNDg5Yzg2ZjdmNmY3OTk0MGU5NzggPSBMLmNpcmNsZU1hcmtlcigKICAgICAgICAgICAgICAgIFsxLjM3NTk4OTA1LDEwMy45NTQzNTk3NDkyMTNdLAogICAgICAgICAgICAgICAgewogICJidWJibGluZ01vdXNlRXZlbnRzIjogdHJ1ZSwKICAiY29sb3IiOiAiI2ZmMDAwMCIsCiAgImRhc2hBcnJheSI6IG51bGwsCiAgImRhc2hPZmZzZXQiOiBudWxsLAogICJmaWxsIjogdHJ1ZSwKICAiZmlsbENvbG9yIjogIiNmZjAwMDAiLAogICJmaWxsT3BhY2l0eSI6IDAuNiwKICAiZmlsbFJ1bGUiOiAiZXZlbm9kZCIsCiAgImxpbmVDYXAiOiAicm91bmQiLAogICJsaW5lSm9pbiI6ICJyb3VuZCIsCiAgIm9wYWNpdHkiOiAxLjAsCiAgInJhZGl1cyI6IDUsCiAgInN0cm9rZSI6IHRydWUsCiAgIndlaWdodCI6IDMKfQogICAgICAgICAgICAgICAgKS5hZGRUbyhtYXBfNmVkNGQ1YjM0ZmY4NDgwM2E1YTgyNDVmZmZiNThhZTIpOwogICAgICAgICAgICAKICAgIAogICAgICAgICAgICB2YXIgcG9wdXBfNGMyNjIzOGQ4OWJmNDVlOGIwMzI4OGU0Nzk1MmIxNzAgPSBMLnBvcHVwKHttYXhXaWR0aDogJzMwMCd9KTsKCiAgICAgICAgICAgIAogICAgICAgICAgICAgICAgdmFyIGh0bWxfOGUzYWU1ZTAyMzdhNGI5NWE1NzRlNTY4MzUyY2MyOGYgPSAkKCc8ZGl2IGlkPSJodG1sXzhlM2FlNWUwMjM3YTRiOTVhNTc0ZTU2ODM1MmNjMjhmIiBzdHlsZT0id2lkdGg6IDEwMC4wJTsgaGVpZ2h0OiAxMDAuMCU7Ij5QYXNpciBSaXMgMDwvZGl2PicpWzBdOwogICAgICAgICAgICAgICAgcG9wdXBfNGMyNjIzOGQ4OWJmNDVlOGIwMzI4OGU0Nzk1MmIxNzAuc2V0Q29udGVudChodG1sXzhlM2FlNWUwMjM3YTRiOTVhNTc0ZTU2ODM1MmNjMjhmKTsKICAgICAgICAgICAgCgogICAgICAgICAgICBjaXJjbGVfbWFya2VyXzdiZDhiYmNiMWYwMTQ4OWM4NmY3ZjZmNzk5NDBlOTc4LmJpbmRQb3B1cChwb3B1cF80YzI2MjM4ZDg5YmY0NWU4YjAzMjg4ZTQ3OTUyYjE3MCk7CgogICAgICAgICAgICAKICAgICAgICAKICAgIAogICAgICAgICAgICB2YXIgY2lyY2xlX21hcmtlcl8xOWJkZGZmN2UwOGM0ZjViODRkOWM0ZmEyMjNiYWQwOSA9IEwuY2lyY2xlTWFya2VyKAogICAgICAgICAgICAgICAgWzEuMzUzODk5MywxMDMuODg3ODIwNTI2NjI0XSwKICAgICAgICAgICAgICAgIHsKICAiYnViYmxpbmdNb3VzZUV2ZW50cyI6IHRydWUsCiAgImNvbG9yIjogIiNmZjAwMDAiLAogICJkYXNoQXJyYXkiOiBudWxsLAogICJkYXNoT2Zmc2V0IjogbnVsbCwKICAiZmlsbCI6IHRydWUsCiAgImZpbGxDb2xvciI6ICIjZmYwMDAwIiwKICAiZmlsbE9wYWNpdHkiOiAwLjYsCiAgImZpbGxSdWxlIjogImV2ZW5vZGQiLAogICJsaW5lQ2FwIjogInJvdW5kIiwKICAibGluZUpvaW4iOiAicm91bmQiLAogICJvcGFjaXR5IjogMS4wLAogICJyYWRpdXMiOiA1LAogICJzdHJva2UiOiB0cnVlLAogICJ3ZWlnaHQiOiAzCn0KICAgICAgICAgICAgICAgICkuYWRkVG8obWFwXzZlZDRkNWIzNGZmODQ4MDNhNWE4MjQ1ZmZmYjU4YWUyKTsKICAgICAgICAgICAgCiAgICAKICAgICAgICAgICAgdmFyIHBvcHVwX2Y4ZDM1NmZmNGRjODQ0OTQ4YjE5OTZmOTY5M2Q1MWNjID0gTC5wb3B1cCh7bWF4V2lkdGg6ICczMDAnfSk7CgogICAgICAgICAgICAKICAgICAgICAgICAgICAgIHZhciBodG1sX2ZiZTRlZjY3Njc4MjRiNjI5NjE3Yjg3NDk2YWE4NGNjID0gJCgnPGRpdiBpZD0iaHRtbF9mYmU0ZWY2NzY3ODI0YjYyOTYxN2I4NzQ5NmFhODRjYyIgc3R5bGU9IndpZHRoOiAxMDAuMCU7IGhlaWdodDogMTAwLjAlOyI+UGF5YSBMZWJhciAwPC9kaXY+JylbMF07CiAgICAgICAgICAgICAgICBwb3B1cF9mOGQzNTZmZjRkYzg0NDk0OGIxOTk2Zjk2OTNkNTFjYy5zZXRDb250ZW50KGh0bWxfZmJlNGVmNjc2NzgyNGI2Mjk2MTdiODc0OTZhYTg0Y2MpOwogICAgICAgICAgICAKCiAgICAgICAgICAgIGNpcmNsZV9tYXJrZXJfMTliZGRmZjdlMDhjNGY1Yjg0ZDljNGZhMjIzYmFkMDkuYmluZFBvcHVwKHBvcHVwX2Y4ZDM1NmZmNGRjODQ0OTQ4YjE5OTZmOTY5M2Q1MWNjKTsKCiAgICAgICAgICAgIAogICAgICAgIAogICAgCiAgICAgICAgICAgIHZhciBjaXJjbGVfbWFya2VyXzIwYzAzNWVhNWQ3ZDRkOWViY2NiNzZlMDBiNjhhYTQyID0gTC5jaXJjbGVNYXJrZXIoCiAgICAgICAgICAgICAgICBbMS4zNTQ2NTI4LDEwMy45NDM1NzEyXSwKICAgICAgICAgICAgICAgIHsKICAiYnViYmxpbmdNb3VzZUV2ZW50cyI6IHRydWUsCiAgImNvbG9yIjogIiNmZjAwMDAiLAogICJkYXNoQXJyYXkiOiBudWxsLAogICJkYXNoT2Zmc2V0IjogbnVsbCwKICAiZmlsbCI6IHRydWUsCiAgImZpbGxDb2xvciI6ICIjZmYwMDAwIiwKICAiZmlsbE9wYWNpdHkiOiAwLjYsCiAgImZpbGxSdWxlIjogImV2ZW5vZGQiLAogICJsaW5lQ2FwIjogInJvdW5kIiwKICAibGluZUpvaW4iOiAicm91bmQiLAogICJvcGFjaXR5IjogMS4wLAogICJyYWRpdXMiOiA1LAogICJzdHJva2UiOiB0cnVlLAogICJ3ZWlnaHQiOiAzCn0KICAgICAgICAgICAgICAgICkuYWRkVG8obWFwXzZlZDRkNWIzNGZmODQ4MDNhNWE4MjQ1ZmZmYjU4YWUyKTsKICAgICAgICAgICAgCiAgICAKICAgICAgICAgICAgdmFyIHBvcHVwX2RlN2MxZTI3MDlmYzQyNWZhNzQwMjRlYTY0N2ExZDRiID0gTC5wb3B1cCh7bWF4V2lkdGg6ICczMDAnfSk7CgogICAgICAgICAgICAKICAgICAgICAgICAgICAgIHZhciBodG1sX2ZhOTM2NmE3NjNjNDQ2YzM5YTQzZTc4NDdjMzAzMGY0ID0gJCgnPGRpdiBpZD0iaHRtbF9mYTkzNjZhNzYzYzQ0NmMzOWE0M2U3ODQ3YzMwMzBmNCIgc3R5bGU9IndpZHRoOiAxMDAuMCU7IGhlaWdodDogMTAwLjAlOyI+VGFtcGluZXMgMDwvZGl2PicpWzBdOwogICAgICAgICAgICAgICAgcG9wdXBfZGU3YzFlMjcwOWZjNDI1ZmE3NDAyNGVhNjQ3YTFkNGIuc2V0Q29udGVudChodG1sX2ZhOTM2NmE3NjNjNDQ2YzM5YTQzZTc4NDdjMzAzMGY0KTsKICAgICAgICAgICAgCgogICAgICAgICAgICBjaXJjbGVfbWFya2VyXzIwYzAzNWVhNWQ3ZDRkOWViY2NiNzZlMDBiNjhhYTQyLmJpbmRQb3B1cChwb3B1cF9kZTdjMWUyNzA5ZmM0MjVmYTc0MDI0ZWE2NDdhMWQ0Yik7CgogICAgICAgICAgICAKICAgICAgICAKICAgIAogICAgICAgICAgICB2YXIgY2lyY2xlX21hcmtlcl9kNWZlYzFlNDRkZGM0YmViYTdkZjdmMDBjNWRmYTQ3ZSA9IEwuY2lyY2xlTWFya2VyKAogICAgICAgICAgICAgICAgWzEuMzYzODA3LDEwMy44MTI0OTNdLAogICAgICAgICAgICAgICAgewogICJidWJibGluZ01vdXNlRXZlbnRzIjogdHJ1ZSwKICAiY29sb3IiOiAiIzgwMDBmZiIsCiAgImRhc2hBcnJheSI6IG51bGwsCiAgImRhc2hPZmZzZXQiOiBudWxsLAogICJmaWxsIjogdHJ1ZSwKICAiZmlsbENvbG9yIjogIiM4MDAwZmYiLAogICJmaWxsT3BhY2l0eSI6IDAuNiwKICAiZmlsbFJ1bGUiOiAiZXZlbm9kZCIsCiAgImxpbmVDYXAiOiAicm91bmQiLAogICJsaW5lSm9pbiI6ICJyb3VuZCIsCiAgIm9wYWNpdHkiOiAxLjAsCiAgInJhZGl1cyI6IDUsCiAgInN0cm9rZSI6IHRydWUsCiAgIndlaWdodCI6IDMKfQogICAgICAgICAgICAgICAgKS5hZGRUbyhtYXBfNmVkNGQ1YjM0ZmY4NDgwM2E1YTgyNDVmZmZiNThhZTIpOwogICAgICAgICAgICAKICAgIAogICAgICAgICAgICB2YXIgcG9wdXBfN2M0MGE3NTVjOTg2NDYzM2IxNzBmNWMxZmI0M2ZhNjggPSBMLnBvcHVwKHttYXhXaWR0aDogJzMwMCd9KTsKCiAgICAgICAgICAgIAogICAgICAgICAgICAgICAgdmFyIGh0bWxfNmMwYTk3NWY5NmE3NDdiZmI2YzI5YWE0NDhkMzIzYjEgPSAkKCc8ZGl2IGlkPSJodG1sXzZjMGE5NzVmOTZhNzQ3YmZiNmMyOWFhNDQ4ZDMyM2IxIiBzdHlsZT0id2lkdGg6IDEwMC4wJTsgaGVpZ2h0OiAxMDAuMCU7Ij5DZW50cmFsIFdhdGVyIENhdGNobWVudCAxPC9kaXY+JylbMF07CiAgICAgICAgICAgICAgICBwb3B1cF83YzQwYTc1NWM5ODY0NjMzYjE3MGY1YzFmYjQzZmE2OC5zZXRDb250ZW50KGh0bWxfNmMwYTk3NWY5NmE3NDdiZmI2YzI5YWE0NDhkMzIzYjEpOwogICAgICAgICAgICAKCiAgICAgICAgICAgIGNpcmNsZV9tYXJrZXJfZDVmZWMxZTQ0ZGRjNGJlYmE3ZGY3ZjAwYzVkZmE0N2UuYmluZFBvcHVwKHBvcHVwXzdjNDBhNzU1Yzk4NjQ2MzNiMTcwZjVjMWZiNDNmYTY4KTsKCiAgICAgICAgICAgIAogICAgICAgIAogICAgCiAgICAgICAgICAgIHZhciBjaXJjbGVfbWFya2VyXzM3YTNiMzgwNWZiZjRlMTRhN2VlMmIwNmY0YzE2NGE0ID0gTC5jaXJjbGVNYXJrZXIoCiAgICAgICAgICAgICAgICBbMS40MjM1MzQ2LDEwMy44MDMzNDk5XSwKICAgICAgICAgICAgICAgIHsKICAiYnViYmxpbmdNb3VzZUV2ZW50cyI6IHRydWUsCiAgImNvbG9yIjogIiM4MGZmYjQiLAogICJkYXNoQXJyYXkiOiBudWxsLAogICJkYXNoT2Zmc2V0IjogbnVsbCwKICAiZmlsbCI6IHRydWUsCiAgImZpbGxDb2xvciI6ICIjODBmZmI0IiwKICAiZmlsbE9wYWNpdHkiOiAwLjYsCiAgImZpbGxSdWxlIjogImV2ZW5vZGQiLAogICJsaW5lQ2FwIjogInJvdW5kIiwKICAibGluZUpvaW4iOiAicm91bmQiLAogICJvcGFjaXR5IjogMS4wLAogICJyYWRpdXMiOiA1LAogICJzdHJva2UiOiB0cnVlLAogICJ3ZWlnaHQiOiAzCn0KICAgICAgICAgICAgICAgICkuYWRkVG8obWFwXzZlZDRkNWIzNGZmODQ4MDNhNWE4MjQ1ZmZmYjU4YWUyKTsKICAgICAgICAgICAgCiAgICAKICAgICAgICAgICAgdmFyIHBvcHVwXzI5MWM0NzY1YWZlMDRiM2VhMzRlYjQ4YjVjNGQwMDVjID0gTC5wb3B1cCh7bWF4V2lkdGg6ICczMDAnfSk7CgogICAgICAgICAgICAKICAgICAgICAgICAgICAgIHZhciBodG1sXzAwNjIyM2M0ZmU0ZDRiNDc4NDY0ZDcxMDRmZDUxNGVlID0gJCgnPGRpdiBpZD0iaHRtbF8wMDYyMjNjNGZlNGQ0YjQ3ODQ2NGQ3MTA0ZmQ1MTRlZSIgc3R5bGU9IndpZHRoOiAxMDAuMCU7IGhlaWdodDogMTAwLjAlOyI+TWFuZGFpIDM8L2Rpdj4nKVswXTsKICAgICAgICAgICAgICAgIHBvcHVwXzI5MWM0NzY1YWZlMDRiM2VhMzRlYjQ4YjVjNGQwMDVjLnNldENvbnRlbnQoaHRtbF8wMDYyMjNjNGZlNGQ0YjQ3ODQ2NGQ3MTA0ZmQ1MTRlZSk7CiAgICAgICAgICAgIAoKICAgICAgICAgICAgY2lyY2xlX21hcmtlcl8zN2EzYjM4MDVmYmY0ZTE0YTdlZTJiMDZmNGMxNjRhNC5iaW5kUG9wdXAocG9wdXBfMjkxYzQ3NjVhZmUwNGIzZWEzNGViNDhiNWM0ZDAwNWMpOwoKICAgICAgICAgICAgCiAgICAgICAgCiAgICAKICAgICAgICAgICAgdmFyIGNpcmNsZV9tYXJrZXJfMWQ0YzIyZWRhYjM5NGEyMGJkYmIxMDdiYThmOWZmZGMgPSBMLmNpcmNsZU1hcmtlcigKICAgICAgICAgICAgICAgIFsxLjQ0ODA2NDYsMTAzLjgyMDc2MDRdLAogICAgICAgICAgICAgICAgewogICJidWJibGluZ01vdXNlRXZlbnRzIjogdHJ1ZSwKICAiY29sb3IiOiAiIzgwZmZiNCIsCiAgImRhc2hBcnJheSI6IG51bGwsCiAgImRhc2hPZmZzZXQiOiBudWxsLAogICJmaWxsIjogdHJ1ZSwKICAiZmlsbENvbG9yIjogIiM4MGZmYjQiLAogICJmaWxsT3BhY2l0eSI6IDAuNiwKICAiZmlsbFJ1bGUiOiAiZXZlbm9kZCIsCiAgImxpbmVDYXAiOiAicm91bmQiLAogICJsaW5lSm9pbiI6ICJyb3VuZCIsCiAgIm9wYWNpdHkiOiAxLjAsCiAgInJhZGl1cyI6IDUsCiAgInN0cm9rZSI6IHRydWUsCiAgIndlaWdodCI6IDMKfQogICAgICAgICAgICAgICAgKS5hZGRUbyhtYXBfNmVkNGQ1YjM0ZmY4NDgwM2E1YTgyNDVmZmZiNThhZTIpOwogICAgICAgICAgICAKICAgIAogICAgICAgICAgICB2YXIgcG9wdXBfMzA0NjllYjY5Y2I1NDg4YmExMWI3YTRjMzhlMzAwMjAgPSBMLnBvcHVwKHttYXhXaWR0aDogJzMwMCd9KTsKCiAgICAgICAgICAgIAogICAgICAgICAgICAgICAgdmFyIGh0bWxfNjEwNTE0NTY5ZTUwNGE1Yzg5Mjk1MzEwMjk4MTJmMWUgPSAkKCc8ZGl2IGlkPSJodG1sXzYxMDUxNDU2OWU1MDRhNWM4OTI5NTMxMDI5ODEyZjFlIiBzdHlsZT0id2lkdGg6IDEwMC4wJTsgaGVpZ2h0OiAxMDAuMCU7Ij5TZW1iYXdhbmcgMzwvZGl2PicpWzBdOwogICAgICAgICAgICAgICAgcG9wdXBfMzA0NjllYjY5Y2I1NDg4YmExMWI3YTRjMzhlMzAwMjAuc2V0Q29udGVudChodG1sXzYxMDUxNDU2OWU1MDRhNWM4OTI5NTMxMDI5ODEyZjFlKTsKICAgICAgICAgICAgCgogICAgICAgICAgICBjaXJjbGVfbWFya2VyXzFkNGMyMmVkYWIzOTRhMjBiZGJiMTA3YmE4ZjlmZmRjLmJpbmRQb3B1cChwb3B1cF8zMDQ2OWViNjljYjU0ODhiYTExYjdhNGMzOGUzMDAyMCk7CgogICAgICAgICAgICAKICAgICAgICAKICAgIAogICAgICAgICAgICB2YXIgY2lyY2xlX21hcmtlcl9hMmY2YmRhNGYyOWY0NGY5YmU2M2Y4ZTExOTExYmI4NiA9IEwuY2lyY2xlTWFya2VyKAogICAgICAgICAgICAgICAgWzEuNDQ1Mjk1NCwxMDMuODQ5NzQyNV0sCiAgICAgICAgICAgICAgICB7CiAgImJ1YmJsaW5nTW91c2VFdmVudHMiOiB0cnVlLAogICJjb2xvciI6ICIjODBmZmI0IiwKICAiZGFzaEFycmF5IjogbnVsbCwKICAiZGFzaE9mZnNldCI6IG51bGwsCiAgImZpbGwiOiB0cnVlLAogICJmaWxsQ29sb3IiOiAiIzgwZmZiNCIsCiAgImZpbGxPcGFjaXR5IjogMC42LAogICJmaWxsUnVsZSI6ICJldmVub2RkIiwKICAibGluZUNhcCI6ICJyb3VuZCIsCiAgImxpbmVKb2luIjogInJvdW5kIiwKICAib3BhY2l0eSI6IDEuMCwKICAicmFkaXVzIjogNSwKICAic3Ryb2tlIjogdHJ1ZSwKICAid2VpZ2h0IjogMwp9CiAgICAgICAgICAgICAgICApLmFkZFRvKG1hcF82ZWQ0ZDViMzRmZjg0ODAzYTVhODI0NWZmZmI1OGFlMik7CiAgICAgICAgICAgIAogICAgCiAgICAgICAgICAgIHZhciBwb3B1cF9mYjRlODViMjhlOTM0MjIxYjlmOTMyOWUzMmJkODE0YiA9IEwucG9wdXAoe21heFdpZHRoOiAnMzAwJ30pOwoKICAgICAgICAgICAgCiAgICAgICAgICAgICAgICB2YXIgaHRtbF8wNzFlODJjMWNiZDk0M2Y1Yjg5M2MwMDU0YjFmY2RlMSA9ICQoJzxkaXYgaWQ9Imh0bWxfMDcxZTgyYzFjYmQ5NDNmNWI4OTNjMDA1NGIxZmNkZTEiIHN0eWxlPSJ3aWR0aDogMTAwLjAlOyBoZWlnaHQ6IDEwMC4wJTsiPlNpbXBhbmcgMzwvZGl2PicpWzBdOwogICAgICAgICAgICAgICAgcG9wdXBfZmI0ZTg1YjI4ZTkzNDIyMWI5ZjkzMjllMzJiZDgxNGIuc2V0Q29udGVudChodG1sXzA3MWU4MmMxY2JkOTQzZjViODkzYzAwNTRiMWZjZGUxKTsKICAgICAgICAgICAgCgogICAgICAgICAgICBjaXJjbGVfbWFya2VyX2EyZjZiZGE0ZjI5ZjQ0ZjliZTYzZjhlMTE5MTFiYjg2LmJpbmRQb3B1cChwb3B1cF9mYjRlODViMjhlOTM0MjIxYjlmOTMyOWUzMmJkODE0Yik7CgogICAgICAgICAgICAKICAgICAgICAKICAgIAogICAgICAgICAgICB2YXIgY2lyY2xlX21hcmtlcl82NmYxOTA3YWZiZDA0MDdkOTcyNTk0Njk0MzgzMWMzNiA9IEwuY2lyY2xlTWFya2VyKAogICAgICAgICAgICAgICAgWzEuNDE0OTk3MSwxMDMuNzUzMzEwNl0sCiAgICAgICAgICAgICAgICB7CiAgImJ1YmJsaW5nTW91c2VFdmVudHMiOiB0cnVlLAogICJjb2xvciI6ICIjODBmZmI0IiwKICAiZGFzaEFycmF5IjogbnVsbCwKICAiZGFzaE9mZnNldCI6IG51bGwsCiAgImZpbGwiOiB0cnVlLAogICJmaWxsQ29sb3IiOiAiIzgwZmZiNCIsCiAgImZpbGxPcGFjaXR5IjogMC42LAogICJmaWxsUnVsZSI6ICJldmVub2RkIiwKICAibGluZUNhcCI6ICJyb3VuZCIsCiAgImxpbmVKb2luIjogInJvdW5kIiwKICAib3BhY2l0eSI6IDEuMCwKICAicmFkaXVzIjogNSwKICAic3Ryb2tlIjogdHJ1ZSwKICAid2VpZ2h0IjogMwp9CiAgICAgICAgICAgICAgICApLmFkZFRvKG1hcF82ZWQ0ZDViMzRmZjg0ODAzYTVhODI0NWZmZmI1OGFlMik7CiAgICAgICAgICAgIAogICAgCiAgICAgICAgICAgIHZhciBwb3B1cF9mYTc4YWY1MjY5ZWQ0ZjRjOGMwZDEzYzk3NTYwMDM1MCA9IEwucG9wdXAoe21heFdpZHRoOiAnMzAwJ30pOwoKICAgICAgICAgICAgCiAgICAgICAgICAgICAgICB2YXIgaHRtbF8yOTlkZjMxNzU1Zjk0ZDM2YjQwYzRiYTIwOGZkYzBkNiA9ICQoJzxkaXYgaWQ9Imh0bWxfMjk5ZGYzMTc1NWY5NGQzNmI0MGM0YmEyMDhmZGMwZDYiIHN0eWxlPSJ3aWR0aDogMTAwLjAlOyBoZWlnaHQ6IDEwMC4wJTsiPlN1bmdlaSBLYWR1dCAzPC9kaXY+JylbMF07CiAgICAgICAgICAgICAgICBwb3B1cF9mYTc4YWY1MjY5ZWQ0ZjRjOGMwZDEzYzk3NTYwMDM1MC5zZXRDb250ZW50KGh0bWxfMjk5ZGYzMTc1NWY5NGQzNmI0MGM0YmEyMDhmZGMwZDYpOwogICAgICAgICAgICAKCiAgICAgICAgICAgIGNpcmNsZV9tYXJrZXJfNjZmMTkwN2FmYmQwNDA3ZDk3MjU5NDY5NDM4MzFjMzYuYmluZFBvcHVwKHBvcHVwX2ZhNzhhZjUyNjllZDRmNGM4YzBkMTNjOTc1NjAwMzUwKTsKCiAgICAgICAgICAgIAogICAgICAgIAogICAgCiAgICAgICAgICAgIHZhciBjaXJjbGVfbWFya2VyX2VmMGMxNTc5ODgxMjRmMWI5MTQ3YTViNDc3Y2IwMTVjID0gTC5jaXJjbGVNYXJrZXIoCiAgICAgICAgICAgICAgICBbMS40MzY4OTcsMTAzLjc4NjIxNl0sCiAgICAgICAgICAgICAgICB7CiAgImJ1YmJsaW5nTW91c2VFdmVudHMiOiB0cnVlLAogICJjb2xvciI6ICIjZmYwMDAwIiwKICAiZGFzaEFycmF5IjogbnVsbCwKICAiZGFzaE9mZnNldCI6IG51bGwsCiAgImZpbGwiOiB0cnVlLAogICJmaWxsQ29sb3IiOiAiI2ZmMDAwMCIsCiAgImZpbGxPcGFjaXR5IjogMC42LAogICJmaWxsUnVsZSI6ICJldmVub2RkIiwKICAibGluZUNhcCI6ICJyb3VuZCIsCiAgImxpbmVKb2luIjogInJvdW5kIiwKICAib3BhY2l0eSI6IDEuMCwKICAicmFkaXVzIjogNSwKICAic3Ryb2tlIjogdHJ1ZSwKICAid2VpZ2h0IjogMwp9CiAgICAgICAgICAgICAgICApLmFkZFRvKG1hcF82ZWQ0ZDViMzRmZjg0ODAzYTVhODI0NWZmZmI1OGFlMik7CiAgICAgICAgICAgIAogICAgCiAgICAgICAgICAgIHZhciBwb3B1cF84Mzg0NDNhN2E3Zjk0NDY0YTIxMTA1NDgwOTg4ZTYzOCA9IEwucG9wdXAoe21heFdpZHRoOiAnMzAwJ30pOwoKICAgICAgICAgICAgCiAgICAgICAgICAgICAgICB2YXIgaHRtbF9lMDUxMDM2NjYzNjM0Zjc2YWQ5ZDg5N2NiYzFjZjRhNyA9ICQoJzxkaXYgaWQ9Imh0bWxfZTA1MTAzNjY2MzYzNGY3NmFkOWQ4OTdjYmMxY2Y0YTciIHN0eWxlPSJ3aWR0aDogMTAwLjAlOyBoZWlnaHQ6IDEwMC4wJTsiPldvb2RsYW5kcyAwPC9kaXY+JylbMF07CiAgICAgICAgICAgICAgICBwb3B1cF84Mzg0NDNhN2E3Zjk0NDY0YTIxMTA1NDgwOTg4ZTYzOC5zZXRDb250ZW50KGh0bWxfZTA1MTAzNjY2MzYzNGY3NmFkOWQ4OTdjYmMxY2Y0YTcpOwogICAgICAgICAgICAKCiAgICAgICAgICAgIGNpcmNsZV9tYXJrZXJfZWYwYzE1Nzk4ODEyNGYxYjkxNDdhNWI0NzdjYjAxNWMuYmluZFBvcHVwKHBvcHVwXzgzODQ0M2E3YTdmOTQ0NjRhMjExMDU0ODA5ODhlNjM4KTsKCiAgICAgICAgICAgIAogICAgICAgIAogICAgCiAgICAgICAgICAgIHZhciBjaXJjbGVfbWFya2VyXzFiNzk0Y2RkNmFiYjQzZDQ4ZDExM2VhZTE3MWI3NmJiID0gTC5jaXJjbGVNYXJrZXIoCiAgICAgICAgICAgICAgICBbMS40MjgxMzYsMTAzLjgzMzY5NDJdLAogICAgICAgICAgICAgICAgewogICJidWJibGluZ01vdXNlRXZlbnRzIjogdHJ1ZSwKICAiY29sb3IiOiAiIzAwYjVlYiIsCiAgImRhc2hBcnJheSI6IG51bGwsCiAgImRhc2hPZmZzZXQiOiBudWxsLAogICJmaWxsIjogdHJ1ZSwKICAiZmlsbENvbG9yIjogIiMwMGI1ZWIiLAogICJmaWxsT3BhY2l0eSI6IDAuNiwKICAiZmlsbFJ1bGUiOiAiZXZlbm9kZCIsCiAgImxpbmVDYXAiOiAicm91bmQiLAogICJsaW5lSm9pbiI6ICJyb3VuZCIsCiAgIm9wYWNpdHkiOiAxLjAsCiAgInJhZGl1cyI6IDUsCiAgInN0cm9rZSI6IHRydWUsCiAgIndlaWdodCI6IDMKfQogICAgICAgICAgICAgICAgKS5hZGRUbyhtYXBfNmVkNGQ1YjM0ZmY4NDgwM2E1YTgyNDVmZmZiNThhZTIpOwogICAgICAgICAgICAKICAgIAogICAgICAgICAgICB2YXIgcG9wdXBfMjU4NjY4MjAzYjUwNDY5MDkxY2E0ZDJiOTVjNDU5M2YgPSBMLnBvcHVwKHttYXhXaWR0aDogJzMwMCd9KTsKCiAgICAgICAgICAgIAogICAgICAgICAgICAgICAgdmFyIGh0bWxfMmFjZDhhODgxN2IwNDhkN2IzNGE4N2I2YmI3ZTJmN2QgPSAkKCc8ZGl2IGlkPSJodG1sXzJhY2Q4YTg4MTdiMDQ4ZDdiMzRhODdiNmJiN2UyZjdkIiBzdHlsZT0id2lkdGg6IDEwMC4wJTsgaGVpZ2h0OiAxMDAuMCU7Ij5ZaXNodW4gMjwvZGl2PicpWzBdOwogICAgICAgICAgICAgICAgcG9wdXBfMjU4NjY4MjAzYjUwNDY5MDkxY2E0ZDJiOTVjNDU5M2Yuc2V0Q29udGVudChodG1sXzJhY2Q4YTg4MTdiMDQ4ZDdiMzRhODdiNmJiN2UyZjdkKTsKICAgICAgICAgICAgCgogICAgICAgICAgICBjaXJjbGVfbWFya2VyXzFiNzk0Y2RkNmFiYjQzZDQ4ZDExM2VhZTE3MWI3NmJiLmJpbmRQb3B1cChwb3B1cF8yNTg2NjgyMDNiNTA0NjkwOTFjYTRkMmI5NWM0NTkzZik7CgogICAgICAgICAgICAKICAgICAgICAKICAgIAogICAgICAgICAgICB2YXIgY2lyY2xlX21hcmtlcl81MzQ3NDg3NWM0MjM0MWE1YWNkMTFhN2FlYzFiNGEwYiA9IEwuY2lyY2xlTWFya2VyKAogICAgICAgICAgICAgICAgWzEuMzY5ODQyLDEwMy44NDY2MDg2XSwKICAgICAgICAgICAgICAgIHsKICAiYnViYmxpbmdNb3VzZUV2ZW50cyI6IHRydWUsCiAgImNvbG9yIjogIiNmZjAwMDAiLAogICJkYXNoQXJyYXkiOiBudWxsLAogICJkYXNoT2Zmc2V0IjogbnVsbCwKICAiZmlsbCI6IHRydWUsCiAgImZpbGxDb2xvciI6ICIjZmYwMDAwIiwKICAiZmlsbE9wYWNpdHkiOiAwLjYsCiAgImZpbGxSdWxlIjogImV2ZW5vZGQiLAogICJsaW5lQ2FwIjogInJvdW5kIiwKICAibGluZUpvaW4iOiAicm91bmQiLAogICJvcGFjaXR5IjogMS4wLAogICJyYWRpdXMiOiA1LAogICJzdHJva2UiOiB0cnVlLAogICJ3ZWlnaHQiOiAzCn0KICAgICAgICAgICAgICAgICkuYWRkVG8obWFwXzZlZDRkNWIzNGZmODQ4MDNhNWE4MjQ1ZmZmYjU4YWUyKTsKICAgICAgICAgICAgCiAgICAKICAgICAgICAgICAgdmFyIHBvcHVwXzdmZDcyMzE2YzgzZjRkOTNiMjg0NTczZTI4MTI3YWVlID0gTC5wb3B1cCh7bWF4V2lkdGg6ICczMDAnfSk7CgogICAgICAgICAgICAKICAgICAgICAgICAgICAgIHZhciBodG1sX2NkMWI4NWQ3YzFjODQ2ZTM5M2QyODVhYThiY2JiNWFlID0gJCgnPGRpdiBpZD0iaHRtbF9jZDFiODVkN2MxYzg0NmUzOTNkMjg1YWE4YmNiYjVhZSIgc3R5bGU9IndpZHRoOiAxMDAuMCU7IGhlaWdodDogMTAwLjAlOyI+QW5nIE1vIEtpbyAwPC9kaXY+JylbMF07CiAgICAgICAgICAgICAgICBwb3B1cF83ZmQ3MjMxNmM4M2Y0ZDkzYjI4NDU3M2UyODEyN2FlZS5zZXRDb250ZW50KGh0bWxfY2QxYjg1ZDdjMWM4NDZlMzkzZDI4NWFhOGJjYmI1YWUpOwogICAgICAgICAgICAKCiAgICAgICAgICAgIGNpcmNsZV9tYXJrZXJfNTM0NzQ4NzVjNDIzNDFhNWFjZDExYTdhZWMxYjRhMGIuYmluZFBvcHVwKHBvcHVwXzdmZDcyMzE2YzgzZjRkOTNiMjg0NTczZTI4MTI3YWVlKTsKCiAgICAgICAgICAgIAogICAgICAgIAogICAgCiAgICAgICAgICAgIHZhciBjaXJjbGVfbWFya2VyXzExMmUzOGVhOWFhYjQxYmQ4ZDI1ZmJhN2VlNTNmYzIzID0gTC5jaXJjbGVNYXJrZXIoCiAgICAgICAgICAgICAgICBbMS4zNzMzNjAxLDEwMy44ODYwOTA3XSwKICAgICAgICAgICAgICAgIHsKICAiYnViYmxpbmdNb3VzZUV2ZW50cyI6IHRydWUsCiAgImNvbG9yIjogIiNmZjAwMDAiLAogICJkYXNoQXJyYXkiOiBudWxsLAogICJkYXNoT2Zmc2V0IjogbnVsbCwKICAiZmlsbCI6IHRydWUsCiAgImZpbGxDb2xvciI6ICIjZmYwMDAwIiwKICAiZmlsbE9wYWNpdHkiOiAwLjYsCiAgImZpbGxSdWxlIjogImV2ZW5vZGQiLAogICJsaW5lQ2FwIjogInJvdW5kIiwKICAibGluZUpvaW4iOiAicm91bmQiLAogICJvcGFjaXR5IjogMS4wLAogICJyYWRpdXMiOiA1LAogICJzdHJva2UiOiB0cnVlLAogICJ3ZWlnaHQiOiAzCn0KICAgICAgICAgICAgICAgICkuYWRkVG8obWFwXzZlZDRkNWIzNGZmODQ4MDNhNWE4MjQ1ZmZmYjU4YWUyKTsKICAgICAgICAgICAgCiAgICAKICAgICAgICAgICAgdmFyIHBvcHVwX2ViMGQ5YWQyZWRiNDRkZGI4YmUxOWRhNzhhZTkzNTY5ID0gTC5wb3B1cCh7bWF4V2lkdGg6ICczMDAnfSk7CgogICAgICAgICAgICAKICAgICAgICAgICAgICAgIHZhciBodG1sX2I3ZDBhOGJiNGZiNzQ4MjJiZjgyYzk3YzI0ZGE4YzUxID0gJCgnPGRpdiBpZD0iaHRtbF9iN2QwYThiYjRmYjc0ODIyYmY4MmM5N2MyNGRhOGM1MSIgc3R5bGU9IndpZHRoOiAxMDAuMCU7IGhlaWdodDogMTAwLjAlOyI+SG91Z2FuZyAwPC9kaXY+JylbMF07CiAgICAgICAgICAgICAgICBwb3B1cF9lYjBkOWFkMmVkYjQ0ZGRiOGJlMTlkYTc4YWU5MzU2OS5zZXRDb250ZW50KGh0bWxfYjdkMGE4YmI0ZmI3NDgyMmJmODJjOTdjMjRkYThjNTEpOwogICAgICAgICAgICAKCiAgICAgICAgICAgIGNpcmNsZV9tYXJrZXJfMTEyZTM4ZWE5YWFiNDFiZDhkMjVmYmE3ZWU1M2ZjMjMuYmluZFBvcHVwKHBvcHVwX2ViMGQ5YWQyZWRiNDRkZGI4YmUxOWRhNzhhZTkzNTY5KTsKCiAgICAgICAgICAgIAogICAgICAgIAogICAgCiAgICAgICAgICAgIHZhciBjaXJjbGVfbWFya2VyXzU1ZWJlMGMzMjZhYjQyOTNiODkxNWYxZGRlMGQ2NzBkID0gTC5jaXJjbGVNYXJrZXIoCiAgICAgICAgICAgICAgICBbMS40MDkxNDQsMTAzLjk2MDYyNl0sCiAgICAgICAgICAgICAgICB7CiAgImJ1YmJsaW5nTW91c2VFdmVudHMiOiB0cnVlLAogICJjb2xvciI6ICIjODAwMGZmIiwKICAiZGFzaEFycmF5IjogbnVsbCwKICAiZGFzaE9mZnNldCI6IG51bGwsCiAgImZpbGwiOiB0cnVlLAogICJmaWxsQ29sb3IiOiAiIzgwMDBmZiIsCiAgImZpbGxPcGFjaXR5IjogMC42LAogICJmaWxsUnVsZSI6ICJldmVub2RkIiwKICAibGluZUNhcCI6ICJyb3VuZCIsCiAgImxpbmVKb2luIjogInJvdW5kIiwKICAib3BhY2l0eSI6IDEuMCwKICAicmFkaXVzIjogNSwKICAic3Ryb2tlIjogdHJ1ZSwKICAid2VpZ2h0IjogMwp9CiAgICAgICAgICAgICAgICApLmFkZFRvKG1hcF82ZWQ0ZDViMzRmZjg0ODAzYTVhODI0NWZmZmI1OGFlMik7CiAgICAgICAgICAgIAogICAgCiAgICAgICAgICAgIHZhciBwb3B1cF8zNGJhNWQ4NTlhNjI0YjkzYmE2YmEwZjMxZjI3ZTk2NiA9IEwucG9wdXAoe21heFdpZHRoOiAnMzAwJ30pOwoKICAgICAgICAgICAgCiAgICAgICAgICAgICAgICB2YXIgaHRtbF9mY2EyNTIwZWU4YTc0MzhhYTNiMWIxMzBhZDA2NWJmOSA9ICQoJzxkaXYgaWQ9Imh0bWxfZmNhMjUyMGVlOGE3NDM4YWEzYjFiMTMwYWQwNjViZjkiIHN0eWxlPSJ3aWR0aDogMTAwLjAlOyBoZWlnaHQ6IDEwMC4wJTsiPk5vcnRoLUVhc3Rlcm4gSXNsYW5kcyAxPC9kaXY+JylbMF07CiAgICAgICAgICAgICAgICBwb3B1cF8zNGJhNWQ4NTlhNjI0YjkzYmE2YmEwZjMxZjI3ZTk2Ni5zZXRDb250ZW50KGh0bWxfZmNhMjUyMGVlOGE3NDM4YWEzYjFiMTMwYWQwNjViZjkpOwogICAgICAgICAgICAKCiAgICAgICAgICAgIGNpcmNsZV9tYXJrZXJfNTVlYmUwYzMyNmFiNDI5M2I4OTE1ZjFkZGUwZDY3MGQuYmluZFBvcHVwKHBvcHVwXzM0YmE1ZDg1OWE2MjRiOTNiYTZiYTBmMzFmMjdlOTY2KTsKCiAgICAgICAgICAgIAogICAgICAgIAogICAgCiAgICAgICAgICAgIHZhciBjaXJjbGVfbWFya2VyXzJmYzNjNmJiNjE2ODQ4YmRiMzI3NmE4YjlkNThhOTcyID0gTC5jaXJjbGVNYXJrZXIoCiAgICAgICAgICAgICAgICBbMS4zOTgwMzMsMTAzLjkwNzMzMTJdLAogICAgICAgICAgICAgICAgewogICJidWJibGluZ01vdXNlRXZlbnRzIjogdHJ1ZSwKICAiY29sb3IiOiAiI2ZmMDAwMCIsCiAgImRhc2hBcnJheSI6IG51bGwsCiAgImRhc2hPZmZzZXQiOiBudWxsLAogICJmaWxsIjogdHJ1ZSwKICAiZmlsbENvbG9yIjogIiNmZjAwMDAiLAogICJmaWxsT3BhY2l0eSI6IDAuNiwKICAiZmlsbFJ1bGUiOiAiZXZlbm9kZCIsCiAgImxpbmVDYXAiOiAicm91bmQiLAogICJsaW5lSm9pbiI6ICJyb3VuZCIsCiAgIm9wYWNpdHkiOiAxLjAsCiAgInJhZGl1cyI6IDUsCiAgInN0cm9rZSI6IHRydWUsCiAgIndlaWdodCI6IDMKfQogICAgICAgICAgICAgICAgKS5hZGRUbyhtYXBfNmVkNGQ1YjM0ZmY4NDgwM2E1YTgyNDVmZmZiNThhZTIpOwogICAgICAgICAgICAKICAgIAogICAgICAgICAgICB2YXIgcG9wdXBfMWMwZmNhMmFiNTM0NDA0Nzg5MjQ2ODM3YzA4NTEzODAgPSBMLnBvcHVwKHttYXhXaWR0aDogJzMwMCd9KTsKCiAgICAgICAgICAgIAogICAgICAgICAgICAgICAgdmFyIGh0bWxfZTE2YzExOGI5ZTFhNDFhMjhjNjlkYmExODQyOTcyM2IgPSAkKCc8ZGl2IGlkPSJodG1sX2UxNmMxMThiOWUxYTQxYTI4YzY5ZGJhMTg0Mjk3MjNiIiBzdHlsZT0id2lkdGg6IDEwMC4wJTsgaGVpZ2h0OiAxMDAuMCU7Ij5QdW5nZ29sIDA8L2Rpdj4nKVswXTsKICAgICAgICAgICAgICAgIHBvcHVwXzFjMGZjYTJhYjUzNDQwNDc4OTI0NjgzN2MwODUxMzgwLnNldENvbnRlbnQoaHRtbF9lMTZjMTE4YjllMWE0MWEyOGM2OWRiYTE4NDI5NzIzYik7CiAgICAgICAgICAgIAoKICAgICAgICAgICAgY2lyY2xlX21hcmtlcl8yZmMzYzZiYjYxNjg0OGJkYjMyNzZhOGI5ZDU4YTk3Mi5iaW5kUG9wdXAocG9wdXBfMWMwZmNhMmFiNTM0NDA0Nzg5MjQ2ODM3YzA4NTEzODApOwoKICAgICAgICAgICAgCiAgICAgICAgCiAgICAKICAgICAgICAgICAgdmFyIGNpcmNsZV9tYXJrZXJfM2ViZGZlMzhlYzdhNDZhYzkzM2FlMWRiY2MxNTViNTIgPSBMLmNpcmNsZU1hcmtlcigKICAgICAgICAgICAgICAgIFsxLjQwOTg0ODgsMTAzLjg3NzM3ODldLAogICAgICAgICAgICAgICAgewogICJidWJibGluZ01vdXNlRXZlbnRzIjogdHJ1ZSwKICAiY29sb3IiOiAiIzgwZmZiNCIsCiAgImRhc2hBcnJheSI6IG51bGwsCiAgImRhc2hPZmZzZXQiOiBudWxsLAogICJmaWxsIjogdHJ1ZSwKICAiZmlsbENvbG9yIjogIiM4MGZmYjQiLAogICJmaWxsT3BhY2l0eSI6IDAuNiwKICAiZmlsbFJ1bGUiOiAiZXZlbm9kZCIsCiAgImxpbmVDYXAiOiAicm91bmQiLAogICJsaW5lSm9pbiI6ICJyb3VuZCIsCiAgIm9wYWNpdHkiOiAxLjAsCiAgInJhZGl1cyI6IDUsCiAgInN0cm9rZSI6IHRydWUsCiAgIndlaWdodCI6IDMKfQogICAgICAgICAgICAgICAgKS5hZGRUbyhtYXBfNmVkNGQ1YjM0ZmY4NDgwM2E1YTgyNDVmZmZiNThhZTIpOwogICAgICAgICAgICAKICAgIAogICAgICAgICAgICB2YXIgcG9wdXBfNTk1OGI3YTQ3MTE3NDhlNmE3ZDlhMjRlZmFmNTFiMDAgPSBMLnBvcHVwKHttYXhXaWR0aDogJzMwMCd9KTsKCiAgICAgICAgICAgIAogICAgICAgICAgICAgICAgdmFyIGh0bWxfOWZkNzY3ZjE3OTQ3NDRjZmIzMzFlMDQwZjIxY2JkNjcgPSAkKCc8ZGl2IGlkPSJodG1sXzlmZDc2N2YxNzk0NzQ0Y2ZiMzMxZTA0MGYyMWNiZDY3IiBzdHlsZT0id2lkdGg6IDEwMC4wJTsgaGVpZ2h0OiAxMDAuMCU7Ij5TZWxldGFyIDM8L2Rpdj4nKVswXTsKICAgICAgICAgICAgICAgIHBvcHVwXzU5NThiN2E0NzExNzQ4ZTZhN2Q5YTI0ZWZhZjUxYjAwLnNldENvbnRlbnQoaHRtbF85ZmQ3NjdmMTc5NDc0NGNmYjMzMWUwNDBmMjFjYmQ2Nyk7CiAgICAgICAgICAgIAoKICAgICAgICAgICAgY2lyY2xlX21hcmtlcl8zZWJkZmUzOGVjN2E0NmFjOTMzYWUxZGJjYzE1NWI1Mi5iaW5kUG9wdXAocG9wdXBfNTk1OGI3YTQ3MTE3NDhlNmE3ZDlhMjRlZmFmNTFiMDApOwoKICAgICAgICAgICAgCiAgICAgICAgCiAgICAKICAgICAgICAgICAgdmFyIGNpcmNsZV9tYXJrZXJfYWU0YWVjYWQ4MWFhNDg5MDk2Y2FmMjRkZWI0Y2FjOGUgPSBMLmNpcmNsZU1hcmtlcigKICAgICAgICAgICAgICAgIFsxLjM5MDk0ODcsMTAzLjg5NTE3NDhdLAogICAgICAgICAgICAgICAgewogICJidWJibGluZ01vdXNlRXZlbnRzIjogdHJ1ZSwKICAiY29sb3IiOiAiI2ZmMDAwMCIsCiAgImRhc2hBcnJheSI6IG51bGwsCiAgImRhc2hPZmZzZXQiOiBudWxsLAogICJmaWxsIjogdHJ1ZSwKICAiZmlsbENvbG9yIjogIiNmZjAwMDAiLAogICJmaWxsT3BhY2l0eSI6IDAuNiwKICAiZmlsbFJ1bGUiOiAiZXZlbm9kZCIsCiAgImxpbmVDYXAiOiAicm91bmQiLAogICJsaW5lSm9pbiI6ICJyb3VuZCIsCiAgIm9wYWNpdHkiOiAxLjAsCiAgInJhZGl1cyI6IDUsCiAgInN0cm9rZSI6IHRydWUsCiAgIndlaWdodCI6IDMKfQogICAgICAgICAgICAgICAgKS5hZGRUbyhtYXBfNmVkNGQ1YjM0ZmY4NDgwM2E1YTgyNDVmZmZiNThhZTIpOwogICAgICAgICAgICAKICAgIAogICAgICAgICAgICB2YXIgcG9wdXBfYjAwYTU5NTkxZTQyNDBjNWJjYWM3OWNhNTkyMDBkM2UgPSBMLnBvcHVwKHttYXhXaWR0aDogJzMwMCd9KTsKCiAgICAgICAgICAgIAogICAgICAgICAgICAgICAgdmFyIGh0bWxfNGI3YjQ1N2M0MGQ0NGNkMmJhYzEzYWI3YjgzZWMyOWYgPSAkKCc8ZGl2IGlkPSJodG1sXzRiN2I0NTdjNDBkNDRjZDJiYWMxM2FiN2I4M2VjMjlmIiBzdHlsZT0id2lkdGg6IDEwMC4wJTsgaGVpZ2h0OiAxMDAuMCU7Ij5TZW5na2FuZyAwPC9kaXY+JylbMF07CiAgICAgICAgICAgICAgICBwb3B1cF9iMDBhNTk1OTFlNDI0MGM1YmNhYzc5Y2E1OTIwMGQzZS5zZXRDb250ZW50KGh0bWxfNGI3YjQ1N2M0MGQ0NGNkMmJhYzEzYWI3YjgzZWMyOWYpOwogICAgICAgICAgICAKCiAgICAgICAgICAgIGNpcmNsZV9tYXJrZXJfYWU0YWVjYWQ4MWFhNDg5MDk2Y2FmMjRkZWI0Y2FjOGUuYmluZFBvcHVwKHBvcHVwX2IwMGE1OTU5MWU0MjQwYzViY2FjNzljYTU5MjAwZDNlKTsKCiAgICAgICAgICAgIAogICAgICAgIAogICAgCiAgICAgICAgICAgIHZhciBjaXJjbGVfbWFya2VyX2U4NWUxZTdiNzQ0ODQxNzM4MzIzMzQzNzdkYTJlNWQwID0gTC5jaXJjbGVNYXJrZXIoCiAgICAgICAgICAgICAgICBbMS4zNjMyMzYsMTAzLjg3NDQ2MTddLAogICAgICAgICAgICAgICAgewogICJidWJibGluZ01vdXNlRXZlbnRzIjogdHJ1ZSwKICAiY29sb3IiOiAiI2ZmMDAwMCIsCiAgImRhc2hBcnJheSI6IG51bGwsCiAgImRhc2hPZmZzZXQiOiBudWxsLAogICJmaWxsIjogdHJ1ZSwKICAiZmlsbENvbG9yIjogIiNmZjAwMDAiLAogICJmaWxsT3BhY2l0eSI6IDAuNiwKICAiZmlsbFJ1bGUiOiAiZXZlbm9kZCIsCiAgImxpbmVDYXAiOiAicm91bmQiLAogICJsaW5lSm9pbiI6ICJyb3VuZCIsCiAgIm9wYWNpdHkiOiAxLjAsCiAgInJhZGl1cyI6IDUsCiAgInN0cm9rZSI6IHRydWUsCiAgIndlaWdodCI6IDMKfQogICAgICAgICAgICAgICAgKS5hZGRUbyhtYXBfNmVkNGQ1YjM0ZmY4NDgwM2E1YTgyNDVmZmZiNThhZTIpOwogICAgICAgICAgICAKICAgIAogICAgICAgICAgICB2YXIgcG9wdXBfZjg2MzM4YTlmNmM0NDY1YzkwMDc5ODc3NWZhOTE1ZTEgPSBMLnBvcHVwKHttYXhXaWR0aDogJzMwMCd9KTsKCiAgICAgICAgICAgIAogICAgICAgICAgICAgICAgdmFyIGh0bWxfZDViYWJlMDkzY2ZiNDY2Mzg2M2FiMGNjYTU4YTE1MWUgPSAkKCc8ZGl2IGlkPSJodG1sX2Q1YmFiZTA5M2NmYjQ2NjM4NjNhYjBjY2E1OGExNTFlIiBzdHlsZT0id2lkdGg6IDEwMC4wJTsgaGVpZ2h0OiAxMDAuMCU7Ij5TZXJhbmdvb24gMDwvZGl2PicpWzBdOwogICAgICAgICAgICAgICAgcG9wdXBfZjg2MzM4YTlmNmM0NDY1YzkwMDc5ODc3NWZhOTE1ZTEuc2V0Q29udGVudChodG1sX2Q1YmFiZTA5M2NmYjQ2NjM4NjNhYjBjY2E1OGExNTFlKTsKICAgICAgICAgICAgCgogICAgICAgICAgICBjaXJjbGVfbWFya2VyX2U4NWUxZTdiNzQ0ODQxNzM4MzIzMzQzNzdkYTJlNWQwLmJpbmRQb3B1cChwb3B1cF9mODYzMzhhOWY2YzQ0NjVjOTAwNzk4Nzc1ZmE5MTVlMSk7CgogICAgICAgICAgICAKICAgICAgICAKICAgIAogICAgICAgICAgICB2YXIgY2lyY2xlX21hcmtlcl9iNGMwODJkNGE0OWM0NWI3YjA0Y2Y1YWFjMTU4NmU4MSA9IEwuY2lyY2xlTWFya2VyKAogICAgICAgICAgICAgICAgWzEuMzQ1NjQwMSwxMDMuNzExODAxOF0sCiAgICAgICAgICAgICAgICB7CiAgImJ1YmJsaW5nTW91c2VFdmVudHMiOiB0cnVlLAogICJjb2xvciI6ICIjZmYwMDAwIiwKICAiZGFzaEFycmF5IjogbnVsbCwKICAiZGFzaE9mZnNldCI6IG51bGwsCiAgImZpbGwiOiB0cnVlLAogICJmaWxsQ29sb3IiOiAiI2ZmMDAwMCIsCiAgImZpbGxPcGFjaXR5IjogMC42LAogICJmaWxsUnVsZSI6ICJldmVub2RkIiwKICAibGluZUNhcCI6ICJyb3VuZCIsCiAgImxpbmVKb2luIjogInJvdW5kIiwKICAib3BhY2l0eSI6IDEuMCwKICAicmFkaXVzIjogNSwKICAic3Ryb2tlIjogdHJ1ZSwKICAid2VpZ2h0IjogMwp9CiAgICAgICAgICAgICAgICApLmFkZFRvKG1hcF82ZWQ0ZDViMzRmZjg0ODAzYTVhODI0NWZmZmI1OGFlMik7CiAgICAgICAgICAgIAogICAgCiAgICAgICAgICAgIHZhciBwb3B1cF8wM2NlMDhkNDJkYzM0OTc5OTZkMTRmNTkwNmYwMWYyMSA9IEwucG9wdXAoe21heFdpZHRoOiAnMzAwJ30pOwoKICAgICAgICAgICAgCiAgICAgICAgICAgICAgICB2YXIgaHRtbF8wY2Q3NzlhZTc4ZTg0ZDdlOGVjNjZlMGFjODUzODM0ZSA9ICQoJzxkaXYgaWQ9Imh0bWxfMGNkNzc5YWU3OGU4NGQ3ZThlYzY2ZTBhYzg1MzgzNGUiIHN0eWxlPSJ3aWR0aDogMTAwLjAlOyBoZWlnaHQ6IDEwMC4wJTsiPkJvb24gTGF5IDA8L2Rpdj4nKVswXTsKICAgICAgICAgICAgICAgIHBvcHVwXzAzY2UwOGQ0MmRjMzQ5Nzk5NmQxNGY1OTA2ZjAxZjIxLnNldENvbnRlbnQoaHRtbF8wY2Q3NzlhZTc4ZTg0ZDdlOGVjNjZlMGFjODUzODM0ZSk7CiAgICAgICAgICAgIAoKICAgICAgICAgICAgY2lyY2xlX21hcmtlcl9iNGMwODJkNGE0OWM0NWI3YjA0Y2Y1YWFjMTU4NmU4MS5iaW5kUG9wdXAocG9wdXBfMDNjZTA4ZDQyZGMzNDk3OTk2ZDE0ZjU5MDZmMDFmMjEpOwoKICAgICAgICAgICAgCiAgICAgICAgCiAgICAKICAgICAgICAgICAgdmFyIGNpcmNsZV9tYXJrZXJfYjMyYzRiNTljMmE1NGJjYjk0ZTJhNDc4YmI0MWUwM2MgPSBMLmNpcmNsZU1hcmtlcigKICAgICAgICAgICAgICAgIFsxLjM0OTA1NzIsMTAzLjc0OTU5MDZdLAogICAgICAgICAgICAgICAgewogICJidWJibGluZ01vdXNlRXZlbnRzIjogdHJ1ZSwKICAiY29sb3IiOiAiI2ZmMDAwMCIsCiAgImRhc2hBcnJheSI6IG51bGwsCiAgImRhc2hPZmZzZXQiOiBudWxsLAogICJmaWxsIjogdHJ1ZSwKICAiZmlsbENvbG9yIjogIiNmZjAwMDAiLAogICJmaWxsT3BhY2l0eSI6IDAuNiwKICAiZmlsbFJ1bGUiOiAiZXZlbm9kZCIsCiAgImxpbmVDYXAiOiAicm91bmQiLAogICJsaW5lSm9pbiI6ICJyb3VuZCIsCiAgIm9wYWNpdHkiOiAxLjAsCiAgInJhZGl1cyI6IDUsCiAgInN0cm9rZSI6IHRydWUsCiAgIndlaWdodCI6IDMKfQogICAgICAgICAgICAgICAgKS5hZGRUbyhtYXBfNmVkNGQ1YjM0ZmY4NDgwM2E1YTgyNDVmZmZiNThhZTIpOwogICAgICAgICAgICAKICAgIAogICAgICAgICAgICB2YXIgcG9wdXBfZDA4MDRmY2FjMjIzNDVkMDg2YTM2MDZmNDQ2ZDM4ZDMgPSBMLnBvcHVwKHttYXhXaWR0aDogJzMwMCd9KTsKCiAgICAgICAgICAgIAogICAgICAgICAgICAgICAgdmFyIGh0bWxfYWIzZDExMjA3YjdmNDBkNmE3NjI4ODhkZWQ0MTRiZTAgPSAkKCc8ZGl2IGlkPSJodG1sX2FiM2QxMTIwN2I3ZjQwZDZhNzYyODg4ZGVkNDE0YmUwIiBzdHlsZT0id2lkdGg6IDEwMC4wJTsgaGVpZ2h0OiAxMDAuMCU7Ij5CdWtpdCBCYXRvayAwPC9kaXY+JylbMF07CiAgICAgICAgICAgICAgICBwb3B1cF9kMDgwNGZjYWMyMjM0NWQwODZhMzYwNmY0NDZkMzhkMy5zZXRDb250ZW50KGh0bWxfYWIzZDExMjA3YjdmNDBkNmE3NjI4ODhkZWQ0MTRiZTApOwogICAgICAgICAgICAKCiAgICAgICAgICAgIGNpcmNsZV9tYXJrZXJfYjMyYzRiNTljMmE1NGJjYjk0ZTJhNDc4YmI0MWUwM2MuYmluZFBvcHVwKHBvcHVwX2QwODA0ZmNhYzIyMzQ1ZDA4NmEzNjA2ZjQ0NmQzOGQzKTsKCiAgICAgICAgICAgIAogICAgICAgIAogICAgCiAgICAgICAgICAgIHZhciBjaXJjbGVfbWFya2VyXzBiMWJmNDQwZjYwMjQyMWRhY2RlYzRlYTE1ZjNiYjRiID0gTC5jaXJjbGVNYXJrZXIoCiAgICAgICAgICAgICAgICBbMS4zNzc5MjEsMTAzLjc3MTg2NThdLAogICAgICAgICAgICAgICAgewogICJidWJibGluZ01vdXNlRXZlbnRzIjogdHJ1ZSwKICAiY29sb3IiOiAiI2ZmMDAwMCIsCiAgImRhc2hBcnJheSI6IG51bGwsCiAgImRhc2hPZmZzZXQiOiBudWxsLAogICJmaWxsIjogdHJ1ZSwKICAiZmlsbENvbG9yIjogIiNmZjAwMDAiLAogICJmaWxsT3BhY2l0eSI6IDAuNiwKICAiZmlsbFJ1bGUiOiAiZXZlbm9kZCIsCiAgImxpbmVDYXAiOiAicm91bmQiLAogICJsaW5lSm9pbiI6ICJyb3VuZCIsCiAgIm9wYWNpdHkiOiAxLjAsCiAgInJhZGl1cyI6IDUsCiAgInN0cm9rZSI6IHRydWUsCiAgIndlaWdodCI6IDMKfQogICAgICAgICAgICAgICAgKS5hZGRUbyhtYXBfNmVkNGQ1YjM0ZmY4NDgwM2E1YTgyNDVmZmZiNThhZTIpOwogICAgICAgICAgICAKICAgIAogICAgICAgICAgICB2YXIgcG9wdXBfODhhNjBjMzQ5MmE5NGNkOWJiM2NhYmRiM2RlMDFkMTggPSBMLnBvcHVwKHttYXhXaWR0aDogJzMwMCd9KTsKCiAgICAgICAgICAgIAogICAgICAgICAgICAgICAgdmFyIGh0bWxfOTQwMzc0MzczNWRiNGRkY2IwMDlmNmI0NDBmYmM1OGEgPSAkKCc8ZGl2IGlkPSJodG1sXzk0MDM3NDM3MzVkYjRkZGNiMDA5ZjZiNDQwZmJjNThhIiBzdHlsZT0id2lkdGg6IDEwMC4wJTsgaGVpZ2h0OiAxMDAuMCU7Ij5CdWtpdCBQYW5qYW5nIDA8L2Rpdj4nKVswXTsKICAgICAgICAgICAgICAgIHBvcHVwXzg4YTYwYzM0OTJhOTRjZDliYjNjYWJkYjNkZTAxZDE4LnNldENvbnRlbnQoaHRtbF85NDAzNzQzNzM1ZGI0ZGRjYjAwOWY2YjQ0MGZiYzU4YSk7CiAgICAgICAgICAgIAoKICAgICAgICAgICAgY2lyY2xlX21hcmtlcl8wYjFiZjQ0MGY2MDI0MjFkYWNkZWM0ZWExNWYzYmI0Yi5iaW5kUG9wdXAocG9wdXBfODhhNjBjMzQ5MmE5NGNkOWJiM2NhYmRiM2RlMDFkMTgpOwoKICAgICAgICAgICAgCiAgICAgICAgCiAgICAKICAgICAgICAgICAgdmFyIGNpcmNsZV9tYXJrZXJfN2E2Yzg5OGMwNGE1NGY5ZWFhODY5N2JiY2UzYjMwMzkgPSBMLmNpcmNsZU1hcmtlcigKICAgICAgICAgICAgICAgIFsxLjM4OTI2MDEsMTAzLjc0MzcyOF0sCiAgICAgICAgICAgICAgICB7CiAgImJ1YmJsaW5nTW91c2VFdmVudHMiOiB0cnVlLAogICJjb2xvciI6ICIjZmYwMDAwIiwKICAiZGFzaEFycmF5IjogbnVsbCwKICAiZGFzaE9mZnNldCI6IG51bGwsCiAgImZpbGwiOiB0cnVlLAogICJmaWxsQ29sb3IiOiAiI2ZmMDAwMCIsCiAgImZpbGxPcGFjaXR5IjogMC42LAogICJmaWxsUnVsZSI6ICJldmVub2RkIiwKICAibGluZUNhcCI6ICJyb3VuZCIsCiAgImxpbmVKb2luIjogInJvdW5kIiwKICAib3BhY2l0eSI6IDEuMCwKICAicmFkaXVzIjogNSwKICAic3Ryb2tlIjogdHJ1ZSwKICAid2VpZ2h0IjogMwp9CiAgICAgICAgICAgICAgICApLmFkZFRvKG1hcF82ZWQ0ZDViMzRmZjg0ODAzYTVhODI0NWZmZmI1OGFlMik7CiAgICAgICAgICAgIAogICAgCiAgICAgICAgICAgIHZhciBwb3B1cF9mYzlhMGQ4NmJkMWU0YTA4ODUwNTNlNmZmYWU2ZTAwMyA9IEwucG9wdXAoe21heFdpZHRoOiAnMzAwJ30pOwoKICAgICAgICAgICAgCiAgICAgICAgICAgICAgICB2YXIgaHRtbF9mZmZhNGUwODc5YjU0YTdmYTZiOWYwZmM1NzRmMzdjNCA9ICQoJzxkaXYgaWQ9Imh0bWxfZmZmYTRlMDg3OWI1NGE3ZmE2YjlmMGZjNTc0ZjM3YzQiIHN0eWxlPSJ3aWR0aDogMTAwLjAlOyBoZWlnaHQ6IDEwMC4wJTsiPkNob2EgQ2h1IEthbmcgMDwvZGl2PicpWzBdOwogICAgICAgICAgICAgICAgcG9wdXBfZmM5YTBkODZiZDFlNGEwODg1MDUzZTZmZmFlNmUwMDMuc2V0Q29udGVudChodG1sX2ZmZmE0ZTA4NzliNTRhN2ZhNmI5ZjBmYzU3NGYzN2M0KTsKICAgICAgICAgICAgCgogICAgICAgICAgICBjaXJjbGVfbWFya2VyXzdhNmM4OThjMDRhNTRmOWVhYTg2OTdiYmNlM2IzMDM5LmJpbmRQb3B1cChwb3B1cF9mYzlhMGQ4NmJkMWU0YTA4ODUwNTNlNmZmYWU2ZTAwMyk7CgogICAgICAgICAgICAKICAgICAgICAKICAgIAogICAgICAgICAgICB2YXIgY2lyY2xlX21hcmtlcl8zNDBlMWVlZjAwNTc0MzFkYTBmNDU1OGMyZTQxMTc0ZiA9IEwuY2lyY2xlTWFya2VyKAogICAgICAgICAgICAgICAgWzEuMzE0MDI1NiwxMDMuNzYyNDA5OF0sCiAgICAgICAgICAgICAgICB7CiAgImJ1YmJsaW5nTW91c2VFdmVudHMiOiB0cnVlLAogICJjb2xvciI6ICIjZmYwMDAwIiwKICAiZGFzaEFycmF5IjogbnVsbCwKICAiZGFzaE9mZnNldCI6IG51bGwsCiAgImZpbGwiOiB0cnVlLAogICJmaWxsQ29sb3IiOiAiI2ZmMDAwMCIsCiAgImZpbGxPcGFjaXR5IjogMC42LAogICJmaWxsUnVsZSI6ICJldmVub2RkIiwKICAibGluZUNhcCI6ICJyb3VuZCIsCiAgImxpbmVKb2luIjogInJvdW5kIiwKICAib3BhY2l0eSI6IDEuMCwKICAicmFkaXVzIjogNSwKICAic3Ryb2tlIjogdHJ1ZSwKICAid2VpZ2h0IjogMwp9CiAgICAgICAgICAgICAgICApLmFkZFRvKG1hcF82ZWQ0ZDViMzRmZjg0ODAzYTVhODI0NWZmZmI1OGFlMik7CiAgICAgICAgICAgIAogICAgCiAgICAgICAgICAgIHZhciBwb3B1cF9kZmRkNmUzNjMxNTU0ZGFmOTFmMmM4MmVhNGMzOTkwYiA9IEwucG9wdXAoe21heFdpZHRoOiAnMzAwJ30pOwoKICAgICAgICAgICAgCiAgICAgICAgICAgICAgICB2YXIgaHRtbF84M2Q4OTdiYjRmMGQ0ZjY3YTUyZjg5ODcwYTc4M2JhNSA9ICQoJzxkaXYgaWQ9Imh0bWxfODNkODk3YmI0ZjBkNGY2N2E1MmY4OTg3MGE3ODNiYTUiIHN0eWxlPSJ3aWR0aDogMTAwLjAlOyBoZWlnaHQ6IDEwMC4wJTsiPkNsZW1lbnRpIDA8L2Rpdj4nKVswXTsKICAgICAgICAgICAgICAgIHBvcHVwX2RmZGQ2ZTM2MzE1NTRkYWY5MWYyYzgyZWE0YzM5OTBiLnNldENvbnRlbnQoaHRtbF84M2Q4OTdiYjRmMGQ0ZjY3YTUyZjg5ODcwYTc4M2JhNSk7CiAgICAgICAgICAgIAoKICAgICAgICAgICAgY2lyY2xlX21hcmtlcl8zNDBlMWVlZjAwNTc0MzFkYTBmNDU1OGMyZTQxMTc0Zi5iaW5kUG9wdXAocG9wdXBfZGZkZDZlMzYzMTU1NGRhZjkxZjJjODJlYTRjMzk5MGIpOwoKICAgICAgICAgICAgCiAgICAgICAgCiAgICAKICAgICAgICAgICAgdmFyIGNpcmNsZV9tYXJrZXJfYWEwMjcwMDRlZTJjNDZjNmE5OTUzMWEyZTEzZTAzNWUgPSBMLmNpcmNsZU1hcmtlcigKICAgICAgICAgICAgICAgIFsxLjMzMzExNSwxMDMuNzQyMjk2OF0sCiAgICAgICAgICAgICAgICB7CiAgImJ1YmJsaW5nTW91c2VFdmVudHMiOiB0cnVlLAogICJjb2xvciI6ICIjZmYwMDAwIiwKICAiZGFzaEFycmF5IjogbnVsbCwKICAiZGFzaE9mZnNldCI6IG51bGwsCiAgImZpbGwiOiB0cnVlLAogICJmaWxsQ29sb3IiOiAiI2ZmMDAwMCIsCiAgImZpbGxPcGFjaXR5IjogMC42LAogICJmaWxsUnVsZSI6ICJldmVub2RkIiwKICAibGluZUNhcCI6ICJyb3VuZCIsCiAgImxpbmVKb2luIjogInJvdW5kIiwKICAib3BhY2l0eSI6IDEuMCwKICAicmFkaXVzIjogNSwKICAic3Ryb2tlIjogdHJ1ZSwKICAid2VpZ2h0IjogMwp9CiAgICAgICAgICAgICAgICApLmFkZFRvKG1hcF82ZWQ0ZDViMzRmZjg0ODAzYTVhODI0NWZmZmI1OGFlMik7CiAgICAgICAgICAgIAogICAgCiAgICAgICAgICAgIHZhciBwb3B1cF9kMWRjOTQ1ZmY5NTk0YjdkODUzYzczZWU3MmMwNTg4ZSA9IEwucG9wdXAoe21heFdpZHRoOiAnMzAwJ30pOwoKICAgICAgICAgICAgCiAgICAgICAgICAgICAgICB2YXIgaHRtbF8yYTFhNDNhMzg0NDE0ZWVhYmVmODM5OThhYTA2YjcwZCA9ICQoJzxkaXYgaWQ9Imh0bWxfMmExYTQzYTM4NDQxNGVlYWJlZjgzOTk4YWEwNmI3MGQiIHN0eWxlPSJ3aWR0aDogMTAwLjAlOyBoZWlnaHQ6IDEwMC4wJTsiPkp1cm9uZyBFYXN0IDA8L2Rpdj4nKVswXTsKICAgICAgICAgICAgICAgIHBvcHVwX2QxZGM5NDVmZjk1OTRiN2Q4NTNjNzNlZTcyYzA1ODhlLnNldENvbnRlbnQoaHRtbF8yYTFhNDNhMzg0NDE0ZWVhYmVmODM5OThhYTA2YjcwZCk7CiAgICAgICAgICAgIAoKICAgICAgICAgICAgY2lyY2xlX21hcmtlcl9hYTAyNzAwNGVlMmM0NmM2YTk5NTMxYTJlMTNlMDM1ZS5iaW5kUG9wdXAocG9wdXBfZDFkYzk0NWZmOTU5NGI3ZDg1M2M3M2VlNzJjMDU4OGUpOwoKICAgICAgICAgICAgCiAgICAgICAgCiAgICAKICAgICAgICAgICAgdmFyIGNpcmNsZV9tYXJrZXJfMTg1OWYyMzhmYmNjNGIxN2IzODM1NWQ2ZGJhODg3MWMgPSBMLmNpcmNsZU1hcmtlcigKICAgICAgICAgICAgICAgIFsxLjMzOTYzNjUsMTAzLjcwNzMzODddLAogICAgICAgICAgICAgICAgewogICJidWJibGluZ01vdXNlRXZlbnRzIjogdHJ1ZSwKICAiY29sb3IiOiAiI2ZmMDAwMCIsCiAgImRhc2hBcnJheSI6IG51bGwsCiAgImRhc2hPZmZzZXQiOiBudWxsLAogICJmaWxsIjogdHJ1ZSwKICAiZmlsbENvbG9yIjogIiNmZjAwMDAiLAogICJmaWxsT3BhY2l0eSI6IDAuNiwKICAiZmlsbFJ1bGUiOiAiZXZlbm9kZCIsCiAgImxpbmVDYXAiOiAicm91bmQiLAogICJsaW5lSm9pbiI6ICJyb3VuZCIsCiAgIm9wYWNpdHkiOiAxLjAsCiAgInJhZGl1cyI6IDUsCiAgInN0cm9rZSI6IHRydWUsCiAgIndlaWdodCI6IDMKfQogICAgICAgICAgICAgICAgKS5hZGRUbyhtYXBfNmVkNGQ1YjM0ZmY4NDgwM2E1YTgyNDVmZmZiNThhZTIpOwogICAgICAgICAgICAKICAgIAogICAgICAgICAgICB2YXIgcG9wdXBfODdhMjAyZjhiZDM2NGU2YWJmMDYwMjY1MTljMThkOGEgPSBMLnBvcHVwKHttYXhXaWR0aDogJzMwMCd9KTsKCiAgICAgICAgICAgIAogICAgICAgICAgICAgICAgdmFyIGh0bWxfNzYwNDc0YWRmZjRkNDE4Nzk2NjMyYmM3ODA0M2Y5MzAgPSAkKCc8ZGl2IGlkPSJodG1sXzc2MDQ3NGFkZmY0ZDQxODc5NjYzMmJjNzgwNDNmOTMwIiBzdHlsZT0id2lkdGg6IDEwMC4wJTsgaGVpZ2h0OiAxMDAuMCU7Ij5KdXJvbmcgV2VzdCAwPC9kaXY+JylbMF07CiAgICAgICAgICAgICAgICBwb3B1cF84N2EyMDJmOGJkMzY0ZTZhYmYwNjAyNjUxOWMxOGQ4YS5zZXRDb250ZW50KGh0bWxfNzYwNDc0YWRmZjRkNDE4Nzk2NjMyYmM3ODA0M2Y5MzApOwogICAgICAgICAgICAKCiAgICAgICAgICAgIGNpcmNsZV9tYXJrZXJfMTg1OWYyMzhmYmNjNGIxN2IzODM1NWQ2ZGJhODg3MWMuYmluZFBvcHVwKHBvcHVwXzg3YTIwMmY4YmQzNjRlNmFiZjA2MDI2NTE5YzE4ZDhhKTsKCiAgICAgICAgICAgIAogICAgICAgIAogICAgCiAgICAgICAgICAgIHZhciBjaXJjbGVfbWFya2VyX2QyOGFkNzEwMWZhNzQzYmJiZWRmNTBkMmNjYTA1NmE1ID0gTC5jaXJjbGVNYXJrZXIoCiAgICAgICAgICAgICAgICBbMS4zMjI3MjYsMTAzLjY3OTA2MV0sCiAgICAgICAgICAgICAgICB7CiAgImJ1YmJsaW5nTW91c2VFdmVudHMiOiB0cnVlLAogICJjb2xvciI6ICIjODBmZmI0IiwKICAiZGFzaEFycmF5IjogbnVsbCwKICAiZGFzaE9mZnNldCI6IG51bGwsCiAgImZpbGwiOiB0cnVlLAogICJmaWxsQ29sb3IiOiAiIzgwZmZiNCIsCiAgImZpbGxPcGFjaXR5IjogMC42LAogICJmaWxsUnVsZSI6ICJldmVub2RkIiwKICAibGluZUNhcCI6ICJyb3VuZCIsCiAgImxpbmVKb2luIjogInJvdW5kIiwKICAib3BhY2l0eSI6IDEuMCwKICAicmFkaXVzIjogNSwKICAic3Ryb2tlIjogdHJ1ZSwKICAid2VpZ2h0IjogMwp9CiAgICAgICAgICAgICAgICApLmFkZFRvKG1hcF82ZWQ0ZDViMzRmZjg0ODAzYTVhODI0NWZmZmI1OGFlMik7CiAgICAgICAgICAgIAogICAgCiAgICAgICAgICAgIHZhciBwb3B1cF80NjI1ZmNhZTcyOTI0YTg0OWVmZWM3NDQ3NzNjZjllMyA9IEwucG9wdXAoe21heFdpZHRoOiAnMzAwJ30pOwoKICAgICAgICAgICAgCiAgICAgICAgICAgICAgICB2YXIgaHRtbF9lYzE4N2U1MTU4ODU0Y2EzOWIyZTI5OGJhOTU2MjJlNSA9ICQoJzxkaXYgaWQ9Imh0bWxfZWMxODdlNTE1ODg1NGNhMzliMmUyOThiYTk1NjIyZTUiIHN0eWxlPSJ3aWR0aDogMTAwLjAlOyBoZWlnaHQ6IDEwMC4wJTsiPlBpb25lZXIgMzwvZGl2PicpWzBdOwogICAgICAgICAgICAgICAgcG9wdXBfNDYyNWZjYWU3MjkyNGE4NDllZmVjNzQ0NzczY2Y5ZTMuc2V0Q29udGVudChodG1sX2VjMTg3ZTUxNTg4NTRjYTM5YjJlMjk4YmE5NTYyMmU1KTsKICAgICAgICAgICAgCgogICAgICAgICAgICBjaXJjbGVfbWFya2VyX2QyOGFkNzEwMWZhNzQzYmJiZWRmNTBkMmNjYTA1NmE1LmJpbmRQb3B1cChwb3B1cF80NjI1ZmNhZTcyOTI0YTg0OWVmZWM3NDQ3NzNjZjllMyk7CgogICAgICAgICAgICAKICAgICAgICAKICAgIAogICAgICAgICAgICB2YXIgY2lyY2xlX21hcmtlcl9iNTRjMWUxZjIxNmU0NDMwYTlhMGUyMjRhYmM0ZmMzMyA9IEwuY2lyY2xlTWFya2VyKAogICAgICAgICAgICAgICAgWzEuMzY2OTAxNywxMDMuNzEwODQ1Nl0sCiAgICAgICAgICAgICAgICB7CiAgImJ1YmJsaW5nTW91c2VFdmVudHMiOiB0cnVlLAogICJjb2xvciI6ICIjZmZiMzYwIiwKICAiZGFzaEFycmF5IjogbnVsbCwKICAiZGFzaE9mZnNldCI6IG51bGwsCiAgImZpbGwiOiB0cnVlLAogICJmaWxsQ29sb3IiOiAiI2ZmYjM2MCIsCiAgImZpbGxPcGFjaXR5IjogMC42LAogICJmaWxsUnVsZSI6ICJldmVub2RkIiwKICAibGluZUNhcCI6ICJyb3VuZCIsCiAgImxpbmVKb2luIjogInJvdW5kIiwKICAib3BhY2l0eSI6IDEuMCwKICAicmFkaXVzIjogNSwKICAic3Ryb2tlIjogdHJ1ZSwKICAid2VpZ2h0IjogMwp9CiAgICAgICAgICAgICAgICApLmFkZFRvKG1hcF82ZWQ0ZDViMzRmZjg0ODAzYTVhODI0NWZmZmI1OGFlMik7CiAgICAgICAgICAgIAogICAgCiAgICAgICAgICAgIHZhciBwb3B1cF85NzIyMWEwNDQ1OWY0Nzg2OGRhYWVmYjg3OWJjY2UwMSA9IEwucG9wdXAoe21heFdpZHRoOiAnMzAwJ30pOwoKICAgICAgICAgICAgCiAgICAgICAgICAgICAgICB2YXIgaHRtbF9jZWQzZTRjMDYwOGE0ZDc4YTYzNTkxZjg2NTc2ZjFmNSA9ICQoJzxkaXYgaWQ9Imh0bWxfY2VkM2U0YzA2MDhhNGQ3OGE2MzU5MWY4NjU3NmYxZjUiIHN0eWxlPSJ3aWR0aDogMTAwLjAlOyBoZWlnaHQ6IDEwMC4wJTsiPlRlbmdhaCA0PC9kaXY+JylbMF07CiAgICAgICAgICAgICAgICBwb3B1cF85NzIyMWEwNDQ1OWY0Nzg2OGRhYWVmYjg3OWJjY2UwMS5zZXRDb250ZW50KGh0bWxfY2VkM2U0YzA2MDhhNGQ3OGE2MzU5MWY4NjU3NmYxZjUpOwogICAgICAgICAgICAKCiAgICAgICAgICAgIGNpcmNsZV9tYXJrZXJfYjU0YzFlMWYyMTZlNDQzMGE5YTBlMjI0YWJjNGZjMzMuYmluZFBvcHVwKHBvcHVwXzk3MjIxYTA0NDU5ZjQ3ODY4ZGFhZWZiODc5YmNjZTAxKTsKCiAgICAgICAgICAgIAogICAgICAgIAogICAgCiAgICAgICAgICAgIHZhciBjaXJjbGVfbWFya2VyXzZhYWVkYmM2ZGExNzQzNWI5NjBkYjk4MjQyZmMyOTgxID0gTC5jaXJjbGVNYXJrZXIoCiAgICAgICAgICAgICAgICBbMS4zMjkzNzIyLDEwMy42NDgyMzY0XSwKICAgICAgICAgICAgICAgIHsKICAiYnViYmxpbmdNb3VzZUV2ZW50cyI6IHRydWUsCiAgImNvbG9yIjogIiNmZjAwMDAiLAogICJkYXNoQXJyYXkiOiBudWxsLAogICJkYXNoT2Zmc2V0IjogbnVsbCwKICAiZmlsbCI6IHRydWUsCiAgImZpbGxDb2xvciI6ICIjZmYwMDAwIiwKICAiZmlsbE9wYWNpdHkiOiAwLjYsCiAgImZpbGxSdWxlIjogImV2ZW5vZGQiLAogICJsaW5lQ2FwIjogInJvdW5kIiwKICAibGluZUpvaW4iOiAicm91bmQiLAogICJvcGFjaXR5IjogMS4wLAogICJyYWRpdXMiOiA1LAogICJzdHJva2UiOiB0cnVlLAogICJ3ZWlnaHQiOiAzCn0KICAgICAgICAgICAgICAgICkuYWRkVG8obWFwXzZlZDRkNWIzNGZmODQ4MDNhNWE4MjQ1ZmZmYjU4YWUyKTsKICAgICAgICAgICAgCiAgICAKICAgICAgICAgICAgdmFyIHBvcHVwXzlhNTg1ZWJiYTZlZjQzNzI5MjE1Y2E5ZGEyYWE1NTEwID0gTC5wb3B1cCh7bWF4V2lkdGg6ICczMDAnfSk7CgogICAgICAgICAgICAKICAgICAgICAgICAgICAgIHZhciBodG1sXzU5Y2M5ZTI0NjQwNjQzNTY4MDdlMmRkYzliZmViMTMzID0gJCgnPGRpdiBpZD0iaHRtbF81OWNjOWUyNDY0MDY0MzU2ODA3ZTJkZGM5YmZlYjEzMyIgc3R5bGU9IndpZHRoOiAxMDAuMCU7IGhlaWdodDogMTAwLjAlOyI+VHVhcyAwPC9kaXY+JylbMF07CiAgICAgICAgICAgICAgICBwb3B1cF85YTU4NWViYmE2ZWY0MzcyOTIxNWNhOWRhMmFhNTUxMC5zZXRDb250ZW50KGh0bWxfNTljYzllMjQ2NDA2NDM1NjgwN2UyZGRjOWJmZWIxMzMpOwogICAgICAgICAgICAKCiAgICAgICAgICAgIGNpcmNsZV9tYXJrZXJfNmFhZWRiYzZkYTE3NDM1Yjk2MGRiOTgyNDJmYzI5ODEuYmluZFBvcHVwKHBvcHVwXzlhNTg1ZWJiYTZlZjQzNzI5MjE1Y2E5ZGEyYWE1NTEwKTsKCiAgICAgICAgICAgIAogICAgICAgIAogICAgCiAgICAgICAgICAgIHZhciBjaXJjbGVfbWFya2VyXzUzNWNkZTA1NzgwNDQ4MjhiN2M0OWQyNjAzOGMxOThlID0gTC5jaXJjbGVNYXJrZXIoCiAgICAgICAgICAgICAgICBbMS4yNzE0NDgsMTAzLjY4NDYwNV0sCiAgICAgICAgICAgICAgICB7CiAgImJ1YmJsaW5nTW91c2VFdmVudHMiOiB0cnVlLAogICJjb2xvciI6ICIjODAwMGZmIiwKICAiZGFzaEFycmF5IjogbnVsbCwKICAiZGFzaE9mZnNldCI6IG51bGwsCiAgImZpbGwiOiB0cnVlLAogICJmaWxsQ29sb3IiOiAiIzgwMDBmZiIsCiAgImZpbGxPcGFjaXR5IjogMC42LAogICJmaWxsUnVsZSI6ICJldmVub2RkIiwKICAibGluZUNhcCI6ICJyb3VuZCIsCiAgImxpbmVKb2luIjogInJvdW5kIiwKICAib3BhY2l0eSI6IDEuMCwKICAicmFkaXVzIjogNSwKICAic3Ryb2tlIjogdHJ1ZSwKICAid2VpZ2h0IjogMwp9CiAgICAgICAgICAgICAgICApLmFkZFRvKG1hcF82ZWQ0ZDViMzRmZjg0ODAzYTVhODI0NWZmZmI1OGFlMik7CiAgICAgICAgICAgIAogICAgCiAgICAgICAgICAgIHZhciBwb3B1cF9kYzFjNjExYjBiMWQ0MjhlYWQyNjUzMmVkZGIzOTcyNyA9IEwucG9wdXAoe21heFdpZHRoOiAnMzAwJ30pOwoKICAgICAgICAgICAgCiAgICAgICAgICAgICAgICB2YXIgaHRtbF9mZDM5MjM2M2QwNDM0ZTIxOTc1YWY4ZjA1MTU1YzNjMSA9ICQoJzxkaXYgaWQ9Imh0bWxfZmQzOTIzNjNkMDQzNGUyMTk3NWFmOGYwNTE1NWMzYzEiIHN0eWxlPSJ3aWR0aDogMTAwLjAlOyBoZWlnaHQ6IDEwMC4wJTsiPldlc3Rlcm4gSXNsYW5kcyAxPC9kaXY+JylbMF07CiAgICAgICAgICAgICAgICBwb3B1cF9kYzFjNjExYjBiMWQ0MjhlYWQyNjUzMmVkZGIzOTcyNy5zZXRDb250ZW50KGh0bWxfZmQzOTIzNjNkMDQzNGUyMTk3NWFmOGYwNTE1NWMzYzEpOwogICAgICAgICAgICAKCiAgICAgICAgICAgIGNpcmNsZV9tYXJrZXJfNTM1Y2RlMDU3ODA0NDgyOGI3YzQ5ZDI2MDM4YzE5OGUuYmluZFBvcHVwKHBvcHVwX2RjMWM2MTFiMGIxZDQyOGVhZDI2NTMyZWRkYjM5NzI3KTsKCiAgICAgICAgICAgIAogICAgICAgIAogICAgCiAgICAgICAgICAgIHZhciBjaXJjbGVfbWFya2VyX2Y5ZjI4NTU1NjM2MjQzMzFiOGUxMTU1NmRiMWI1MzVlID0gTC5jaXJjbGVNYXJrZXIoCiAgICAgICAgICAgICAgICBbMS4zNjY0NTIyLDEwMy42ODEwMzA1XSwKICAgICAgICAgICAgICAgIHsKICAiYnViYmxpbmdNb3VzZUV2ZW50cyI6IHRydWUsCiAgImNvbG9yIjogIiM4MDAwZmYiLAogICJkYXNoQXJyYXkiOiBudWxsLAogICJkYXNoT2Zmc2V0IjogbnVsbCwKICAiZmlsbCI6IHRydWUsCiAgImZpbGxDb2xvciI6ICIjODAwMGZmIiwKICAiZmlsbE9wYWNpdHkiOiAwLjYsCiAgImZpbGxSdWxlIjogImV2ZW5vZGQiLAogICJsaW5lQ2FwIjogInJvdW5kIiwKICAibGluZUpvaW4iOiAicm91bmQiLAogICJvcGFjaXR5IjogMS4wLAogICJyYWRpdXMiOiA1LAogICJzdHJva2UiOiB0cnVlLAogICJ3ZWlnaHQiOiAzCn0KICAgICAgICAgICAgICAgICkuYWRkVG8obWFwXzZlZDRkNWIzNGZmODQ4MDNhNWE4MjQ1ZmZmYjU4YWUyKTsKICAgICAgICAgICAgCiAgICAKICAgICAgICAgICAgdmFyIHBvcHVwXzM0NjhiNjg2YmI3YzQ0ZmZhNDdmM2MxZmQ2NTViZGM4ID0gTC5wb3B1cCh7bWF4V2lkdGg6ICczMDAnfSk7CgogICAgICAgICAgICAKICAgICAgICAgICAgICAgIHZhciBodG1sXzYwODM1NGJjMWIwYzQyZDBiZDFhMGNmMDE5MDI1YWEyID0gJCgnPGRpdiBpZD0iaHRtbF82MDgzNTRiYzFiMGM0MmQwYmQxYTBjZjAxOTAyNWFhMiIgc3R5bGU9IndpZHRoOiAxMDAuMCU7IGhlaWdodDogMTAwLjAlOyI+V2VzdGVybiBXYXRlciBDYXRjaG1lbnQgMTwvZGl2PicpWzBdOwogICAgICAgICAgICAgICAgcG9wdXBfMzQ2OGI2ODZiYjdjNDRmZmE0N2YzYzFmZDY1NWJkYzguc2V0Q29udGVudChodG1sXzYwODM1NGJjMWIwYzQyZDBiZDFhMGNmMDE5MDI1YWEyKTsKICAgICAgICAgICAgCgogICAgICAgICAgICBjaXJjbGVfbWFya2VyX2Y5ZjI4NTU1NjM2MjQzMzFiOGUxMTU1NmRiMWI1MzVlLmJpbmRQb3B1cChwb3B1cF8zNDY4YjY4NmJiN2M0NGZmYTQ3ZjNjMWZkNjU1YmRjOCk7CgogICAgICAgICAgICAKICAgICAgICAKPC9zY3JpcHQ+\" style=\"position:absolute;width:100%;height:100%;left:0;top:0;border:none !important;\" allowfullscreen webkitallowfullscreen mozallowfullscreen></iframe></div></div>"
      ],
      "text/plain": [
       "<folium.folium.Map at 0x208b764ec50>"
      ]
     },
     "execution_count": 64,
     "metadata": {},
     "output_type": "execute_result"
    }
   ],
   "source": [
    "# create map\n",
    "latitude = singapore_zones['Latitude'][0]\n",
    "longitude = singapore_zones['Longitude'][0]\n",
    "map_clusters = folium.Map(location=[latitude, longitude], zoom_start=11)\n",
    "\n",
    "# set color scheme for the clusters\n",
    "x = np.arange(kclusters)\n",
    "ys = [i + x + (i*x)**2 for i in range(kclusters)]\n",
    "colors_array = cm.rainbow(np.linspace(0, 1, len(ys)))\n",
    "rainbow = [colors.rgb2hex(i) for i in colors_array]\n",
    "\n",
    "# add markers to the map\n",
    "for lat, lon, label, cluster in zip(singapore_zones['Latitude'], singapore_zones['Longitude'], singapore_zones['Zone'], singapore_zones['Cluster Labels']):\n",
    "    district = folium.Popup(str(label) + ' ' + str(cluster), parse_html=True)\n",
    "    folium.CircleMarker(\n",
    "        [lat, lon],\n",
    "        radius=5,\n",
    "        color=rainbow[cluster-1],\n",
    "        fill=True,\n",
    "        fill_color=rainbow[cluster-1],\n",
    "        fill_opacity=0.6,\n",
    "        popup=district).add_to(map_clusters)\n",
    "\n",
    "map_clusters"
   ]
  },
  {
   "cell_type": "markdown",
   "metadata": {},
   "source": [
    "<img src=\"map2.jpg"/>",
   ]
  },
  {
   "cell_type": "markdown",
   "metadata": {},
   "source": [
    "<li> Light blue clusters - represent zones with the highest number of restaurants mainly Asian but also Italian and American</li>\n",
    "<li> Red clusters - Asian restaurants and Indian are dominant </li>\n",
    "<li> Light green - Mainly Asian, but many European (Spanish, German, French) resturants </li>\n",
    "<li> Purple and orange - very little number of restaurants </li>"
   ]
  },
  {
   "cell_type": "markdown",
   "metadata": {},
   "source": [
    "<h3> 4) Final report </h3>"
   ]
  },
  {
   "cell_type": "markdown",
   "metadata": {},
   "source": [
    "<b>Methodology </b><br>\n",
    "I followed the approach established in part 1:\n",
    "- Get the zones in Singapore\n",
    "- Download Foursquare venue categories\n",
    "- Get geo coordinates for each zone\n",
    "- Call Foursquare for each zone and category\n",
    "- Analyze the results\n",
    "<br>\n",
    "\n",
    "Due to the limits of Foursquare account (950 calls per day) I modified the scope of the analysis. Initially my intention was to include all food categories, but I only limited to 17 most popular ones."
   ]
  },
  {
   "cell_type": "markdown",
   "metadata": {},
   "source": [
    "<b> Results </b> <br>\n",
    "<b>Summary: </b><br>\n",
    "- The most popular restaurants in Singapore are Asian followed by Food Courts (which servce mainly Asian dishes). No surprise.\n",
    "- The highest number of restaurants is located in the city centre. Excemption is Yishun - a zone located far from centre and mainly residential.\n",
    "- American restaurants is the most popular group of non Asian restaurants. It is ahead of Italian, which I thought would be first.\n",
    "\n",
    "<b>Detailed analysis</b><br>\n",
    "- In Little India zone American restaurants are most numerous, Indian coming only second. Surprise.\n",
    "- China Town is most popluar for Food Courts - very typical Asian street food. No surprise here.\n",
    "- City Centre (around Marina Bay) and Colonial district have big number of mixed categories restaurants.\n",
    "- Tanglin and Bukit Timah zone popular among expats plus recreational island of Sentosa and the Changi airport have significant number of European (Italian, French, German) restaurants among Asian ones.\n",
    "- The less inhabitted zones have obiously little number of restaurants."
   ]
  },
  {
   "cell_type": "markdown",
   "metadata": {},
   "source": [
    "<b> Recommendations </b> <br>\n",
    "It would definitely be interesting to include all restaurant categories and split the Asian category into sub categories (Chinese, Korean, etc).\n",
    "Another point would be to add ratings to see, where the most highly rated places are."
   ]
  },
  {
   "cell_type": "markdown",
   "metadata": {},
   "source": [
    "<b> Conclusion </b> <br>\n",
    "This analysis is quite narrow due to account limit, however well visualizes some expected outcome.\n",
    "There is no big surprise Asian restaurants are most popular in Asia. It would be intersting to proceed the analysis in more detail."
   ]
  },
  {
   "cell_type": "code",
   "execution_count": null,
   "metadata": {},
   "outputs": [],
   "source": []
  }
 ],
 "metadata": {
  "kernelspec": {
   "display_name": "Python 3",
   "language": "python",
   "name": "python3"
  },
  "language_info": {
   "codemirror_mode": {
    "name": "ipython",
    "version": 3
   },
   "file_extension": ".py",
   "mimetype": "text/x-python",
   "name": "python",
   "nbconvert_exporter": "python",
   "pygments_lexer": "ipython3",
   "version": "3.6.4"
  }
 },
 "nbformat": 4,
 "nbformat_minor": 2
}
