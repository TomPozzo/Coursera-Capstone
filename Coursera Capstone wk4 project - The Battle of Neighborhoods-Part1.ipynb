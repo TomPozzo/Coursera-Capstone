{
 "cells": [
  {
   "cell_type": "markdown",
   "metadata": {},
   "source": [
    "<h1> Coursera Capstone project: The Battle of Neighborhoods part 1</h1>"
   ]
  },
  {
   "cell_type": "markdown",
   "metadata": {},
   "source": [
    "This project is a part of Coursera Applied Data Science Capstone course.\n",
    "\n",
    "<b>Background: </b><br>\n",
    "Singapore is a city state located in Central Asia. It has a multicurtural background with inhabitants of mainly Chinese , Malay, Indian descent, and other Asian countries. Additionally as an ex British colony it got some European influence. As a result you can find here districts like Little India, ChinaTown, Arab Street, Colonial District. <br>\n",
    "\n",
    "<b>Problem: </b><br>\n",
    "This is really an idea rather than a real problem. <br>\n",
    "I will investigate if this multicultural aspect is reflected in the different resturant categories (like: Asian, Italian, Japanese, etc) to see, if there is link between certain zones and types of restaurants. For example: Are Indian restaurants most numerous in Little India? <br> \n",
    "\n",
    "<b>Audiance:</b><br>\n",
    "Singapore attrackts many itenrational companies which establish their regional headquarters here. As a consequence many people move here for work. Without knowing the city it is not easy to know the districts. Naturally there are many expat magazines and websites who help the newcomers to get to know interesting places. Here I will take a data approach.\n",
    "\n",
    "<b>Approach:</b><br>\n",
    "- I will first download the zones in Singapore from Internet. There is a list on Wikipedia designated by the Urban Redevelopment Authority.\n",
    "https://en.wikipedia.org/wiki/List_of_places_in_Singapore\n",
    "- In order to identify the different restaurant categories I will use the categories available in Foursquare, so I will download the list to Python.\n",
    "https://developer.foursquare.com/docs/resources/categories\n",
    "- For each zone I will download geo coordinates using Geopy Nominatim. Because the zones are described only by the name, I will additionally make a visual check using Folium, if the geo coordinates are correct.\n",
    "Note: In Singapore each building has its own postcode, therefore the zones do not have their own ones.\n",
    "- I will iterate through each zone and category to download the venues. The Foursquare account limits 50 results per call, therefore I cannot make on call to get all the results.\n",
    "- Based on this data I will investigate which are the most numerous restaurants in each zone and visualize results on the map.\n",
    "- Finally I will do clusterization using Kmeans to see, which zones are similar.\n",
    "    "
   ]
  }
 ],
 "metadata": {
  "kernelspec": {
   "display_name": "Python 3",
   "language": "python",
   "name": "python3"
  },
  "language_info": {
   "codemirror_mode": {
    "name": "ipython",
    "version": 3
   },
   "file_extension": ".py",
   "mimetype": "text/x-python",
   "name": "python",
   "nbconvert_exporter": "python",
   "pygments_lexer": "ipython3",
   "version": "3.6.4"
  }
 },
 "nbformat": 4,
 "nbformat_minor": 2
}
